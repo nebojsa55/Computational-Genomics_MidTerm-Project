{
  "nbformat": 4,
  "nbformat_minor": 0,
  "metadata": {
    "colab": {
      "name": "ML-Example-notebook.ipynb",
      "provenance": [],
      "include_colab_link": true
    },
    "kernelspec": {
      "name": "python3",
      "display_name": "Python 3",
      "language": "python"
    }
  },
  "cells": [
    {
      "cell_type": "markdown",
      "metadata": {
        "id": "view-in-github",
        "colab_type": "text"
      },
      "source": [
        "<a href=\"https://colab.research.google.com/github/nebojsa55/Computational-Genomics_MidTerm-Project/blob/master/notebooks/1.%20Basic-regression-models.ipynb\" target=\"_parent\"><img src=\"https://colab.research.google.com/assets/colab-badge.svg\" alt=\"Open In Colab\"/></a>"
      ]
    },
    {
      "cell_type": "markdown",
      "metadata": {
        "id": "kvBu3vZLwZDD"
      },
      "source": [
        "In this notebook we will look at two regression models (**Random forest regressor** and **SVR**) and their respective accuracies when predicting gestational age in pregnant women using gene expression. In the second notebook, we will try to implement ensemble regressor by utilizing two predefined models and using linear regression to get a linear ensemble regressor."
      ]
    },
    {
      "cell_type": "code",
      "metadata": {
        "id": "Y4i3AN50qb3V",
        "colab": {
          "base_uri": "https://localhost:8080/"
        },
        "outputId": "869a6347-fe21-4101-f33b-40cf884c6ba7"
      },
      "source": [
        "import numpy as np\n",
        "import pandas as pd\n",
        "from google.colab import drive\n",
        "drive.mount('/content/drive')\n",
        "\n",
        "# Navigate to the folder cointaing our data\n",
        "%cd 'drive/MyDrive/ETF/Master/Computational-Genomics/Project/data'\n"
      ],
      "execution_count": 1,
      "outputs": [
        {
          "output_type": "stream",
          "text": [
            "Mounted at /content/drive\n",
            "/content/drive/MyDrive/ETF/Master/Computational-Genomics/Project/data\n"
          ],
          "name": "stdout"
        }
      ]
    },
    {
      "cell_type": "code",
      "metadata": {
        "id": "VnnfKMy2qhpV",
        "colab": {
          "base_uri": "https://localhost:8080/"
        },
        "outputId": "f25fb3ab-2d8e-4467-fd0a-5ddd43c68435"
      },
      "source": [
        "# Verify the chosen folder\n",
        "!ls"
      ],
      "execution_count": 2,
      "outputs": [
        {
          "output_type": "stream",
          "text": [
            "anoSC1_v11_nokey.csv  anoSC2_v20_nokey.csv  eset_HuGene21ST.csv  HTA20_RMA.csv\n"
          ],
          "name": "stdout"
        }
      ]
    },
    {
      "cell_type": "code",
      "metadata": {
        "colab": {
          "base_uri": "https://localhost:8080/",
          "height": 238
        },
        "id": "bVQ8pr4ZyHxI",
        "outputId": "f0f05e1a-04bd-4d7d-8fda-e20b63a1f5ca"
      },
      "source": [
        "anno = pd.read_csv('anoSC1_v11_nokey.csv', delimiter = ',', index_col = 0)\n",
        "anno.head()"
      ],
      "execution_count": 3,
      "outputs": [
        {
          "output_type": "execute_result",
          "data": {
            "text/html": [
              "<div>\n",
              "<style scoped>\n",
              "    .dataframe tbody tr th:only-of-type {\n",
              "        vertical-align: middle;\n",
              "    }\n",
              "\n",
              "    .dataframe tbody tr th {\n",
              "        vertical-align: top;\n",
              "    }\n",
              "\n",
              "    .dataframe thead th {\n",
              "        text-align: right;\n",
              "    }\n",
              "</style>\n",
              "<table border=\"1\" class=\"dataframe\">\n",
              "  <thead>\n",
              "    <tr style=\"text-align: right;\">\n",
              "      <th></th>\n",
              "      <th>GA</th>\n",
              "      <th>Batch</th>\n",
              "      <th>Set</th>\n",
              "      <th>Train</th>\n",
              "      <th>Platform</th>\n",
              "    </tr>\n",
              "    <tr>\n",
              "      <th>SampleID</th>\n",
              "      <th></th>\n",
              "      <th></th>\n",
              "      <th></th>\n",
              "      <th></th>\n",
              "      <th></th>\n",
              "    </tr>\n",
              "  </thead>\n",
              "  <tbody>\n",
              "    <tr>\n",
              "      <th>Tarca_001_P1A01</th>\n",
              "      <td>11.0</td>\n",
              "      <td>1</td>\n",
              "      <td>PRB_HTA</td>\n",
              "      <td>1</td>\n",
              "      <td>HTA20</td>\n",
              "    </tr>\n",
              "    <tr>\n",
              "      <th>Tarca_013_P1B01</th>\n",
              "      <td>15.3</td>\n",
              "      <td>1</td>\n",
              "      <td>PRB_HTA</td>\n",
              "      <td>1</td>\n",
              "      <td>HTA20</td>\n",
              "    </tr>\n",
              "    <tr>\n",
              "      <th>Tarca_025_P1C01</th>\n",
              "      <td>21.7</td>\n",
              "      <td>1</td>\n",
              "      <td>PRB_HTA</td>\n",
              "      <td>1</td>\n",
              "      <td>HTA20</td>\n",
              "    </tr>\n",
              "    <tr>\n",
              "      <th>Tarca_037_P1D01</th>\n",
              "      <td>26.7</td>\n",
              "      <td>1</td>\n",
              "      <td>PRB_HTA</td>\n",
              "      <td>1</td>\n",
              "      <td>HTA20</td>\n",
              "    </tr>\n",
              "    <tr>\n",
              "      <th>Tarca_049_P1E01</th>\n",
              "      <td>31.3</td>\n",
              "      <td>1</td>\n",
              "      <td>PRB_HTA</td>\n",
              "      <td>1</td>\n",
              "      <td>HTA20</td>\n",
              "    </tr>\n",
              "  </tbody>\n",
              "</table>\n",
              "</div>"
            ],
            "text/plain": [
              "                   GA  Batch      Set  Train Platform\n",
              "SampleID                                             \n",
              "Tarca_001_P1A01  11.0      1  PRB_HTA      1    HTA20\n",
              "Tarca_013_P1B01  15.3      1  PRB_HTA      1    HTA20\n",
              "Tarca_025_P1C01  21.7      1  PRB_HTA      1    HTA20\n",
              "Tarca_037_P1D01  26.7      1  PRB_HTA      1    HTA20\n",
              "Tarca_049_P1E01  31.3      1  PRB_HTA      1    HTA20"
            ]
          },
          "metadata": {
            "tags": []
          },
          "execution_count": 3
        }
      ]
    },
    {
      "cell_type": "code",
      "metadata": {
        "id": "-kmKr4UcG5Ss",
        "colab": {
          "base_uri": "https://localhost:8080/",
          "height": 290
        },
        "outputId": "f6cd1b42-65a5-4429-a39c-53c1bc63d42d"
      },
      "source": [
        "HTA20_RMA = pd.read_csv('HTA20_RMA.csv', delimiter = ',', index_col = 0).transpose()\n",
        "HTA20_RMA.head()"
      ],
      "execution_count": 4,
      "outputs": [
        {
          "output_type": "execute_result",
          "data": {
            "text/html": [
              "<div>\n",
              "<style scoped>\n",
              "    .dataframe tbody tr th:only-of-type {\n",
              "        vertical-align: middle;\n",
              "    }\n",
              "\n",
              "    .dataframe tbody tr th {\n",
              "        vertical-align: top;\n",
              "    }\n",
              "\n",
              "    .dataframe thead th {\n",
              "        text-align: right;\n",
              "    }\n",
              "</style>\n",
              "<table border=\"1\" class=\"dataframe\">\n",
              "  <thead>\n",
              "    <tr style=\"text-align: right;\">\n",
              "      <th></th>\n",
              "      <th>1_at</th>\n",
              "      <th>10_at</th>\n",
              "      <th>100_at</th>\n",
              "      <th>1000_at</th>\n",
              "      <th>10000_at</th>\n",
              "      <th>100009613_at</th>\n",
              "      <th>100009676_at</th>\n",
              "      <th>10001_at</th>\n",
              "      <th>10002_at</th>\n",
              "      <th>10003_at</th>\n",
              "      <th>100033411_at</th>\n",
              "      <th>100033413_at</th>\n",
              "      <th>100033414_at</th>\n",
              "      <th>100033418_at</th>\n",
              "      <th>100033420_at</th>\n",
              "      <th>100033422_at</th>\n",
              "      <th>100033423_at</th>\n",
              "      <th>100033424_at</th>\n",
              "      <th>100033425_at</th>\n",
              "      <th>100033426_at</th>\n",
              "      <th>100033427_at</th>\n",
              "      <th>100033428_at</th>\n",
              "      <th>100033430_at</th>\n",
              "      <th>100033431_at</th>\n",
              "      <th>100033432_at</th>\n",
              "      <th>100033433_at</th>\n",
              "      <th>100033434_at</th>\n",
              "      <th>100033435_at</th>\n",
              "      <th>100033436_at</th>\n",
              "      <th>100033437_at</th>\n",
              "      <th>100033438_at</th>\n",
              "      <th>100033439_at</th>\n",
              "      <th>100033440_at</th>\n",
              "      <th>100033441_at</th>\n",
              "      <th>100033444_at</th>\n",
              "      <th>100033445_at</th>\n",
              "      <th>100033447_at</th>\n",
              "      <th>100033451_at</th>\n",
              "      <th>100033453_at</th>\n",
              "      <th>100033603_at</th>\n",
              "      <th>...</th>\n",
              "      <th>9989_at</th>\n",
              "      <th>999_at</th>\n",
              "      <th>9990_at</th>\n",
              "      <th>9991_at</th>\n",
              "      <th>9992_at</th>\n",
              "      <th>9993_at</th>\n",
              "      <th>9994_at</th>\n",
              "      <th>9995_at</th>\n",
              "      <th>9997_at</th>\n",
              "      <th>AFFX-BkGr-GC03_at</th>\n",
              "      <th>AFFX-BkGr-GC04_at</th>\n",
              "      <th>AFFX-BkGr-GC05_at</th>\n",
              "      <th>AFFX-BkGr-GC06_at</th>\n",
              "      <th>AFFX-BkGr-GC07_at</th>\n",
              "      <th>AFFX-BkGr-GC08_at</th>\n",
              "      <th>AFFX-BkGr-GC09_at</th>\n",
              "      <th>AFFX-BkGr-GC10_at</th>\n",
              "      <th>AFFX-BkGr-GC11_at</th>\n",
              "      <th>AFFX-BkGr-GC12_at</th>\n",
              "      <th>AFFX-BkGr-GC13_at</th>\n",
              "      <th>AFFX-BkGr-GC14_at</th>\n",
              "      <th>AFFX-BkGr-GC15_at</th>\n",
              "      <th>AFFX-BkGr-GC16_at</th>\n",
              "      <th>AFFX-BkGr-GC17_at</th>\n",
              "      <th>AFFX-BkGr-GC18_at</th>\n",
              "      <th>AFFX-BkGr-GC19_at</th>\n",
              "      <th>AFFX-BkGr-GC20_at</th>\n",
              "      <th>AFFX-BkGr-GC21_at</th>\n",
              "      <th>AFFX-BkGr-GC22_at</th>\n",
              "      <th>AFFX-BkGr-GC23_at</th>\n",
              "      <th>AFFX-BkGr-GC24_at</th>\n",
              "      <th>AFFX-BkGr-GC25_at</th>\n",
              "      <th>AFFX-r2-Bs-dap-5_st</th>\n",
              "      <th>AFFX-r2-Bs-lys-5_st</th>\n",
              "      <th>AFFX-r2-Bs-phe-5_st</th>\n",
              "      <th>AFFX-r2-Bs-thr-5_st</th>\n",
              "      <th>AFFX-r2-Ec-bioB-5_at</th>\n",
              "      <th>AFFX-r2-Ec-bioC-5_at</th>\n",
              "      <th>AFFX-r2-Ec-bioD-5_at</th>\n",
              "      <th>AFFX-r2-P1-cre-5_at</th>\n",
              "    </tr>\n",
              "  </thead>\n",
              "  <tbody>\n",
              "    <tr>\n",
              "      <th>Tarca_001_P1A01</th>\n",
              "      <td>6.062215</td>\n",
              "      <td>3.796484</td>\n",
              "      <td>5.849338</td>\n",
              "      <td>3.567779</td>\n",
              "      <td>6.166815</td>\n",
              "      <td>4.443027</td>\n",
              "      <td>5.836522</td>\n",
              "      <td>6.330018</td>\n",
              "      <td>4.922339</td>\n",
              "      <td>2.689344</td>\n",
              "      <td>2.745619</td>\n",
              "      <td>2.760609</td>\n",
              "      <td>3.794684</td>\n",
              "      <td>2.848183</td>\n",
              "      <td>2.812774</td>\n",
              "      <td>2.140590</td>\n",
              "      <td>2.692848</td>\n",
              "      <td>2.352924</td>\n",
              "      <td>2.484768</td>\n",
              "      <td>6.538760</td>\n",
              "      <td>9.544726</td>\n",
              "      <td>2.362534</td>\n",
              "      <td>2.406803</td>\n",
              "      <td>4.657512</td>\n",
              "      <td>3.047816</td>\n",
              "      <td>2.109620</td>\n",
              "      <td>5.771233</td>\n",
              "      <td>4.077138</td>\n",
              "      <td>3.123733</td>\n",
              "      <td>2.195346</td>\n",
              "      <td>2.975659</td>\n",
              "      <td>3.324574</td>\n",
              "      <td>2.430415</td>\n",
              "      <td>2.135031</td>\n",
              "      <td>2.073197</td>\n",
              "      <td>2.400044</td>\n",
              "      <td>2.235433</td>\n",
              "      <td>2.274116</td>\n",
              "      <td>2.261528</td>\n",
              "      <td>2.395431</td>\n",
              "      <td>...</td>\n",
              "      <td>8.815727</td>\n",
              "      <td>5.624144</td>\n",
              "      <td>9.769020</td>\n",
              "      <td>9.700440</td>\n",
              "      <td>3.771009</td>\n",
              "      <td>8.227688</td>\n",
              "      <td>5.992462</td>\n",
              "      <td>5.387680</td>\n",
              "      <td>7.220196</td>\n",
              "      <td>2.191452</td>\n",
              "      <td>2.111011</td>\n",
              "      <td>2.108250</td>\n",
              "      <td>2.120018</td>\n",
              "      <td>2.159772</td>\n",
              "      <td>2.215722</td>\n",
              "      <td>2.223840</td>\n",
              "      <td>2.286487</td>\n",
              "      <td>2.371125</td>\n",
              "      <td>2.499349</td>\n",
              "      <td>2.741896</td>\n",
              "      <td>3.064696</td>\n",
              "      <td>3.792943</td>\n",
              "      <td>4.401289</td>\n",
              "      <td>4.918235</td>\n",
              "      <td>5.631017</td>\n",
              "      <td>5.963709</td>\n",
              "      <td>6.412206</td>\n",
              "      <td>7.216170</td>\n",
              "      <td>7.863468</td>\n",
              "      <td>8.502729</td>\n",
              "      <td>8.786114</td>\n",
              "      <td>11.587051</td>\n",
              "      <td>8.342203</td>\n",
              "      <td>4.520028</td>\n",
              "      <td>5.636615</td>\n",
              "      <td>6.709797</td>\n",
              "      <td>8.972873</td>\n",
              "      <td>10.440245</td>\n",
              "      <td>12.101476</td>\n",
              "      <td>13.695705</td>\n",
              "    </tr>\n",
              "    <tr>\n",
              "      <th>Tarca_003_P1A03</th>\n",
              "      <td>6.125023</td>\n",
              "      <td>3.805305</td>\n",
              "      <td>6.191562</td>\n",
              "      <td>3.452524</td>\n",
              "      <td>5.678373</td>\n",
              "      <td>4.773199</td>\n",
              "      <td>6.143398</td>\n",
              "      <td>5.601745</td>\n",
              "      <td>4.711765</td>\n",
              "      <td>2.771010</td>\n",
              "      <td>3.263577</td>\n",
              "      <td>2.402899</td>\n",
              "      <td>3.346500</td>\n",
              "      <td>2.295464</td>\n",
              "      <td>2.752254</td>\n",
              "      <td>2.230644</td>\n",
              "      <td>2.808706</td>\n",
              "      <td>2.744754</td>\n",
              "      <td>2.392213</td>\n",
              "      <td>6.467364</td>\n",
              "      <td>8.983699</td>\n",
              "      <td>2.072872</td>\n",
              "      <td>2.145610</td>\n",
              "      <td>4.924804</td>\n",
              "      <td>2.951409</td>\n",
              "      <td>2.159747</td>\n",
              "      <td>5.714813</td>\n",
              "      <td>3.980073</td>\n",
              "      <td>2.873573</td>\n",
              "      <td>2.296149</td>\n",
              "      <td>2.765574</td>\n",
              "      <td>3.076334</td>\n",
              "      <td>1.960614</td>\n",
              "      <td>2.248927</td>\n",
              "      <td>2.554416</td>\n",
              "      <td>2.177165</td>\n",
              "      <td>2.065589</td>\n",
              "      <td>2.202918</td>\n",
              "      <td>2.091162</td>\n",
              "      <td>1.976425</td>\n",
              "      <td>...</td>\n",
              "      <td>8.226103</td>\n",
              "      <td>6.582291</td>\n",
              "      <td>9.389587</td>\n",
              "      <td>9.271577</td>\n",
              "      <td>3.838563</td>\n",
              "      <td>8.083417</td>\n",
              "      <td>5.826221</td>\n",
              "      <td>5.780958</td>\n",
              "      <td>7.440989</td>\n",
              "      <td>2.011836</td>\n",
              "      <td>2.053886</td>\n",
              "      <td>2.062657</td>\n",
              "      <td>2.106248</td>\n",
              "      <td>2.107264</td>\n",
              "      <td>2.171664</td>\n",
              "      <td>2.195808</td>\n",
              "      <td>2.285022</td>\n",
              "      <td>2.385383</td>\n",
              "      <td>2.570683</td>\n",
              "      <td>2.905709</td>\n",
              "      <td>3.323025</td>\n",
              "      <td>4.155433</td>\n",
              "      <td>4.921309</td>\n",
              "      <td>5.625932</td>\n",
              "      <td>6.350828</td>\n",
              "      <td>6.794233</td>\n",
              "      <td>7.217978</td>\n",
              "      <td>8.070590</td>\n",
              "      <td>8.642121</td>\n",
              "      <td>9.393085</td>\n",
              "      <td>9.594813</td>\n",
              "      <td>12.138090</td>\n",
              "      <td>9.010691</td>\n",
              "      <td>5.148384</td>\n",
              "      <td>6.723139</td>\n",
              "      <td>6.153199</td>\n",
              "      <td>9.376194</td>\n",
              "      <td>10.845176</td>\n",
              "      <td>12.370891</td>\n",
              "      <td>13.635522</td>\n",
              "    </tr>\n",
              "    <tr>\n",
              "      <th>Tarca_004_P1A04</th>\n",
              "      <td>5.875502</td>\n",
              "      <td>3.450245</td>\n",
              "      <td>6.550525</td>\n",
              "      <td>3.316134</td>\n",
              "      <td>6.185059</td>\n",
              "      <td>4.393488</td>\n",
              "      <td>5.898364</td>\n",
              "      <td>6.137984</td>\n",
              "      <td>4.628124</td>\n",
              "      <td>2.556756</td>\n",
              "      <td>2.707656</td>\n",
              "      <td>3.036456</td>\n",
              "      <td>4.299712</td>\n",
              "      <td>2.483257</td>\n",
              "      <td>3.513083</td>\n",
              "      <td>2.268800</td>\n",
              "      <td>3.034612</td>\n",
              "      <td>2.385361</td>\n",
              "      <td>2.288809</td>\n",
              "      <td>7.389350</td>\n",
              "      <td>10.039720</td>\n",
              "      <td>2.154480</td>\n",
              "      <td>2.025051</td>\n",
              "      <td>5.993964</td>\n",
              "      <td>2.810200</td>\n",
              "      <td>1.943169</td>\n",
              "      <td>6.154146</td>\n",
              "      <td>4.331164</td>\n",
              "      <td>2.710385</td>\n",
              "      <td>2.238039</td>\n",
              "      <td>2.833525</td>\n",
              "      <td>3.401957</td>\n",
              "      <td>2.044615</td>\n",
              "      <td>2.048938</td>\n",
              "      <td>1.958607</td>\n",
              "      <td>1.918034</td>\n",
              "      <td>1.815077</td>\n",
              "      <td>2.009749</td>\n",
              "      <td>2.109266</td>\n",
              "      <td>2.257260</td>\n",
              "      <td>...</td>\n",
              "      <td>8.454372</td>\n",
              "      <td>5.852143</td>\n",
              "      <td>9.431374</td>\n",
              "      <td>9.470850</td>\n",
              "      <td>3.568739</td>\n",
              "      <td>7.983239</td>\n",
              "      <td>6.175550</td>\n",
              "      <td>5.393079</td>\n",
              "      <td>7.331443</td>\n",
              "      <td>2.088989</td>\n",
              "      <td>2.003418</td>\n",
              "      <td>2.026268</td>\n",
              "      <td>2.039770</td>\n",
              "      <td>2.045315</td>\n",
              "      <td>2.089306</td>\n",
              "      <td>2.105618</td>\n",
              "      <td>2.184611</td>\n",
              "      <td>2.283092</td>\n",
              "      <td>2.430860</td>\n",
              "      <td>2.698857</td>\n",
              "      <td>3.048324</td>\n",
              "      <td>3.767554</td>\n",
              "      <td>4.423481</td>\n",
              "      <td>5.102220</td>\n",
              "      <td>5.843332</td>\n",
              "      <td>6.258922</td>\n",
              "      <td>6.762380</td>\n",
              "      <td>7.623269</td>\n",
              "      <td>8.280635</td>\n",
              "      <td>9.033983</td>\n",
              "      <td>9.294845</td>\n",
              "      <td>12.049271</td>\n",
              "      <td>8.555541</td>\n",
              "      <td>4.441900</td>\n",
              "      <td>6.016953</td>\n",
              "      <td>9.590764</td>\n",
              "      <td>8.843612</td>\n",
              "      <td>10.493416</td>\n",
              "      <td>12.295786</td>\n",
              "      <td>13.616688</td>\n",
              "    </tr>\n",
              "    <tr>\n",
              "      <th>Tarca_005_P1A05</th>\n",
              "      <td>6.126131</td>\n",
              "      <td>3.628411</td>\n",
              "      <td>6.421877</td>\n",
              "      <td>3.432451</td>\n",
              "      <td>5.633757</td>\n",
              "      <td>4.623783</td>\n",
              "      <td>6.019792</td>\n",
              "      <td>5.787502</td>\n",
              "      <td>4.796283</td>\n",
              "      <td>2.613415</td>\n",
              "      <td>2.807741</td>\n",
              "      <td>2.645834</td>\n",
              "      <td>3.810852</td>\n",
              "      <td>3.238697</td>\n",
              "      <td>2.784896</td>\n",
              "      <td>2.331521</td>\n",
              "      <td>2.756186</td>\n",
              "      <td>2.362922</td>\n",
              "      <td>2.314093</td>\n",
              "      <td>6.896619</td>\n",
              "      <td>9.346465</td>\n",
              "      <td>2.051147</td>\n",
              "      <td>2.134905</td>\n",
              "      <td>4.942601</td>\n",
              "      <td>3.305603</td>\n",
              "      <td>2.407998</td>\n",
              "      <td>5.454726</td>\n",
              "      <td>4.206752</td>\n",
              "      <td>2.410564</td>\n",
              "      <td>2.268998</td>\n",
              "      <td>2.669970</td>\n",
              "      <td>3.014598</td>\n",
              "      <td>2.033149</td>\n",
              "      <td>2.310311</td>\n",
              "      <td>2.188688</td>\n",
              "      <td>1.991138</td>\n",
              "      <td>2.243578</td>\n",
              "      <td>2.077085</td>\n",
              "      <td>2.033383</td>\n",
              "      <td>2.458295</td>\n",
              "      <td>...</td>\n",
              "      <td>8.606502</td>\n",
              "      <td>6.114320</td>\n",
              "      <td>9.544130</td>\n",
              "      <td>9.374321</td>\n",
              "      <td>3.691639</td>\n",
              "      <td>8.270554</td>\n",
              "      <td>5.635078</td>\n",
              "      <td>5.183500</td>\n",
              "      <td>7.298491</td>\n",
              "      <td>2.044670</td>\n",
              "      <td>2.094643</td>\n",
              "      <td>2.139602</td>\n",
              "      <td>2.094847</td>\n",
              "      <td>2.126440</td>\n",
              "      <td>2.150045</td>\n",
              "      <td>2.199919</td>\n",
              "      <td>2.325623</td>\n",
              "      <td>2.383102</td>\n",
              "      <td>2.567234</td>\n",
              "      <td>2.876098</td>\n",
              "      <td>3.277482</td>\n",
              "      <td>4.066424</td>\n",
              "      <td>4.859661</td>\n",
              "      <td>5.400951</td>\n",
              "      <td>6.173044</td>\n",
              "      <td>6.645898</td>\n",
              "      <td>7.140619</td>\n",
              "      <td>7.980902</td>\n",
              "      <td>8.647948</td>\n",
              "      <td>9.400945</td>\n",
              "      <td>9.694992</td>\n",
              "      <td>12.311885</td>\n",
              "      <td>9.164106</td>\n",
              "      <td>4.529299</td>\n",
              "      <td>6.990176</td>\n",
              "      <td>5.437926</td>\n",
              "      <td>9.191471</td>\n",
              "      <td>10.879879</td>\n",
              "      <td>12.249936</td>\n",
              "      <td>13.524328</td>\n",
              "    </tr>\n",
              "    <tr>\n",
              "      <th>Tarca_006_P1A06</th>\n",
              "      <td>6.146466</td>\n",
              "      <td>3.446812</td>\n",
              "      <td>6.260962</td>\n",
              "      <td>3.477162</td>\n",
              "      <td>5.313198</td>\n",
              "      <td>4.422651</td>\n",
              "      <td>6.407699</td>\n",
              "      <td>5.830437</td>\n",
              "      <td>4.726488</td>\n",
              "      <td>2.631878</td>\n",
              "      <td>2.763387</td>\n",
              "      <td>3.105819</td>\n",
              "      <td>3.758044</td>\n",
              "      <td>2.501649</td>\n",
              "      <td>2.561260</td>\n",
              "      <td>2.455754</td>\n",
              "      <td>3.007438</td>\n",
              "      <td>2.332454</td>\n",
              "      <td>2.367595</td>\n",
              "      <td>6.941780</td>\n",
              "      <td>9.567956</td>\n",
              "      <td>2.472964</td>\n",
              "      <td>2.161994</td>\n",
              "      <td>5.286657</td>\n",
              "      <td>3.247169</td>\n",
              "      <td>2.878103</td>\n",
              "      <td>5.605735</td>\n",
              "      <td>4.337340</td>\n",
              "      <td>2.828053</td>\n",
              "      <td>2.455532</td>\n",
              "      <td>2.856074</td>\n",
              "      <td>3.206121</td>\n",
              "      <td>2.154353</td>\n",
              "      <td>1.970942</td>\n",
              "      <td>2.178542</td>\n",
              "      <td>2.094531</td>\n",
              "      <td>2.141441</td>\n",
              "      <td>2.075437</td>\n",
              "      <td>2.102256</td>\n",
              "      <td>2.141675</td>\n",
              "      <td>...</td>\n",
              "      <td>8.385291</td>\n",
              "      <td>6.566107</td>\n",
              "      <td>9.411351</td>\n",
              "      <td>9.267968</td>\n",
              "      <td>3.758960</td>\n",
              "      <td>8.012785</td>\n",
              "      <td>5.740465</td>\n",
              "      <td>5.434734</td>\n",
              "      <td>7.413392</td>\n",
              "      <td>2.170965</td>\n",
              "      <td>2.088567</td>\n",
              "      <td>2.095180</td>\n",
              "      <td>2.132475</td>\n",
              "      <td>2.139009</td>\n",
              "      <td>2.157587</td>\n",
              "      <td>2.199556</td>\n",
              "      <td>2.332073</td>\n",
              "      <td>2.395501</td>\n",
              "      <td>2.608228</td>\n",
              "      <td>2.871665</td>\n",
              "      <td>3.274047</td>\n",
              "      <td>4.047538</td>\n",
              "      <td>4.932088</td>\n",
              "      <td>5.494324</td>\n",
              "      <td>6.250512</td>\n",
              "      <td>6.722213</td>\n",
              "      <td>7.175260</td>\n",
              "      <td>8.003085</td>\n",
              "      <td>8.659736</td>\n",
              "      <td>9.397893</td>\n",
              "      <td>9.600712</td>\n",
              "      <td>12.173934</td>\n",
              "      <td>8.105479</td>\n",
              "      <td>4.989477</td>\n",
              "      <td>6.247265</td>\n",
              "      <td>7.550088</td>\n",
              "      <td>9.247768</td>\n",
              "      <td>10.754316</td>\n",
              "      <td>12.245458</td>\n",
              "      <td>13.509353</td>\n",
              "    </tr>\n",
              "  </tbody>\n",
              "</table>\n",
              "<p>5 rows × 32830 columns</p>\n",
              "</div>"
            ],
            "text/plain": [
              "                     1_at     10_at  ...  AFFX-r2-Ec-bioD-5_at  AFFX-r2-P1-cre-5_at\n",
              "Tarca_001_P1A01  6.062215  3.796484  ...             12.101476            13.695705\n",
              "Tarca_003_P1A03  6.125023  3.805305  ...             12.370891            13.635522\n",
              "Tarca_004_P1A04  5.875502  3.450245  ...             12.295786            13.616688\n",
              "Tarca_005_P1A05  6.126131  3.628411  ...             12.249936            13.524328\n",
              "Tarca_006_P1A06  6.146466  3.446812  ...             12.245458            13.509353\n",
              "\n",
              "[5 rows x 32830 columns]"
            ]
          },
          "metadata": {
            "tags": []
          },
          "execution_count": 4
        }
      ]
    },
    {
      "cell_type": "markdown",
      "metadata": {
        "id": "TT3s9eQiq6-h"
      },
      "source": [
        "## Missing data\n",
        "\n",
        "Unfortunately, all of the test data are missing **GA** (gastetion age) parameter, due to the nature od DREAM Pretem Challenge. In order to overcome this, we will use only the original training set for our model training and testing. 10% of data was used for testing (37 samples). 10-fold cross validation was performed in order to determine our ML model."
      ]
    },
    {
      "cell_type": "code",
      "metadata": {
        "colab": {
          "base_uri": "https://localhost:8080/"
        },
        "id": "TReRulx0Ls45",
        "outputId": "cfb31448-86f3-4450-a67a-9308d67495d0"
      },
      "source": [
        "anno.loc[anno['Train'] == 1].shape[0]"
      ],
      "execution_count": 5,
      "outputs": [
        {
          "output_type": "execute_result",
          "data": {
            "text/plain": [
              "367"
            ]
          },
          "metadata": {
            "tags": []
          },
          "execution_count": 5
        }
      ]
    },
    {
      "cell_type": "code",
      "metadata": {
        "id": "jQQutF5JVWEh"
      },
      "source": [
        "# Sync the X and y data by sorting the labels\n",
        "\n",
        "df1 = anno.sort_index()\n",
        "df2 = HTA20_RMA.sort_index()\n",
        "\n",
        "X = df2.iloc[np.array(np.logical_not(df1['GA'].isna())),:]\n",
        "y = df1.dropna().loc[:,['GA','Batch']]\n"
      ],
      "execution_count": 6,
      "outputs": []
    },
    {
      "cell_type": "code",
      "metadata": {
        "id": "ZcfV6Mt1qOHr",
        "colab": {
          "base_uri": "https://localhost:8080/"
        },
        "outputId": "a6674e9a-61dc-4b08-8be8-fb407e9dfa1e"
      },
      "source": [
        "# Check to see if the indexes are the same\n",
        "(X.index == y.index).all()"
      ],
      "execution_count": 7,
      "outputs": [
        {
          "output_type": "execute_result",
          "data": {
            "text/plain": [
              "True"
            ]
          },
          "metadata": {
            "tags": []
          },
          "execution_count": 7
        }
      ]
    },
    {
      "cell_type": "markdown",
      "metadata": {
        "id": "hZxsMMQUqOHt"
      },
      "source": [
        "## Standard scaling\n",
        "We will now perform the standard scaling of features from *one batch*"
      ]
    },
    {
      "cell_type": "code",
      "metadata": {
        "id": "6C_XPzQkqOHv"
      },
      "source": [
        "from sklearn.preprocessing import StandardScaler\n",
        "\n",
        "XX = np.zeros(X.shape)\n",
        "for i in [1,2,3,4,5,6,7,8,9,10,32]:\n",
        "    scale = StandardScaler()\n",
        "    indices = np.bool8(y['Batch'] == i)\n",
        "    Xtemp = X.iloc[indices,:]\n",
        "    scale.fit(Xtemp)\n",
        "    XX[indices,:] = scale.transform(Xtemp)"
      ],
      "execution_count": 8,
      "outputs": []
    },
    {
      "cell_type": "code",
      "metadata": {
        "id": "XaB3DNRjqOHw"
      },
      "source": [
        "# delete batch column\n",
        "yy = y['GA']"
      ],
      "execution_count": 9,
      "outputs": []
    },
    {
      "cell_type": "markdown",
      "metadata": {
        "id": "d-U8RW6io_Cz"
      },
      "source": [
        "## Regression\n",
        "\n",
        "In this section we will perform regression using a couple of well known regressors such as:\n",
        "* **Random forest regressor** and\n",
        "* **Support vector regressor**\n",
        "\n",
        "The main regression metric will be **RMSE** (Root mean square error), as it was used in DREAM Preterm challenge. \n",
        "\n",
        "The total number of features is 32830, which is a large number. We will shrink the number of features via **PCA analysis** to obtain 95% variance. The PCA will give us a total of /// features.\n",
        "\n",
        "### Random forest regressor"
      ]
    },
    {
      "cell_type": "code",
      "metadata": {
        "colab": {
          "base_uri": "https://localhost:8080/"
        },
        "id": "PGgvJuIoN0E2",
        "outputId": "eef5e4ae-ec30-4e3d-f0a1-ab3009f19e75"
      },
      "source": [
        "# import necessary ML modules\n",
        "from sklearn.decomposition import PCA\n",
        "from sklearn.model_selection import KFold\n",
        "from sklearn.ensemble import RandomForestRegressor\n",
        "from sklearn.metrics import mean_squared_error\n",
        "from tqdm import tqdm\n",
        "\n",
        "\n",
        "num_of_splits = 10\n",
        "kf = KFold(n_splits = num_of_splits)\n",
        "regressor = RandomForestRegressor(n_estimators = 1000,\n",
        "                                  n_jobs = -1, \n",
        "                                  random_state = 42)\n",
        "\n",
        "pca = PCA(n_components = 0.95, svd_solver = 'full')\n",
        "\n",
        "y_train_pred = []\n",
        "y_test_pred = []\n",
        "\n",
        "for train_index, test_index in tqdm(kf.split(XX), total = num_of_splits, unit = 'iteration'):\n",
        "\n",
        "  X_train_std, X_test_std = XX[train_index,:], XX[test_index,:]\n",
        "  y_train, y_test = yy.iloc[train_index], yy.iloc[test_index]\n",
        "\n",
        "  pca.fit(XX)\n",
        "  \n",
        "  X_train_pca = pca.transform(X_train_std)\n",
        "  X_test_pca = pca.transform(X_test_std)\n",
        "  \n",
        "  regressor.fit(X_train_pca,y_train)\n",
        "  \n",
        "  y_train_pred.append(mean_squared_error(y_train,regressor.predict(X_train_pca), squared = False))\n",
        "  y_test_pred.append(mean_squared_error(y_test,regressor.predict(X_test_pca), squared = False))\n",
        "\n"
      ],
      "execution_count": 10,
      "outputs": [
        {
          "output_type": "stream",
          "text": [
            "100%|██████████| 10/10 [05:39<00:00, 33.96s/iteration]\n"
          ],
          "name": "stderr"
        }
      ]
    },
    {
      "cell_type": "code",
      "metadata": {
        "id": "fpJBc5nxqOHz",
        "colab": {
          "base_uri": "https://localhost:8080/"
        },
        "outputId": "6900d4a0-2126-4375-b692-bf41f841311d"
      },
      "source": [
        "np.mean(y_train_pred)"
      ],
      "execution_count": 11,
      "outputs": [
        {
          "output_type": "execute_result",
          "data": {
            "text/plain": [
              "2.7622168255170916"
            ]
          },
          "metadata": {
            "tags": []
          },
          "execution_count": 11
        }
      ]
    },
    {
      "cell_type": "code",
      "metadata": {
        "id": "KKrdvoT9qOH1",
        "colab": {
          "base_uri": "https://localhost:8080/"
        },
        "outputId": "3245142a-cbfc-4ef3-c204-67650b1bbcf2"
      },
      "source": [
        "np.mean(y_test_pred)"
      ],
      "execution_count": 12,
      "outputs": [
        {
          "output_type": "execute_result",
          "data": {
            "text/plain": [
              "7.532737936379085"
            ]
          },
          "metadata": {
            "tags": []
          },
          "execution_count": 12
        }
      ]
    },
    {
      "cell_type": "markdown",
      "metadata": {
        "id": "zFgwoq05pq8u"
      },
      "source": [
        "#### Model overfitting\n",
        "We can observe that our current RF model is heavily overfiting. To overcome that, we will try to tune hyperparameters via **Randomized Search crossvalidation**"
      ]
    },
    {
      "cell_type": "code",
      "metadata": {
        "colab": {
          "base_uri": "https://localhost:8080/"
        },
        "id": "HxOVWVMAYb4-",
        "outputId": "4196a242-8830-4da8-a0e6-e78432b5f9d1"
      },
      "source": [
        "from sklearn.model_selection import GridSearchCV\n",
        "from sklearn.metrics import make_scorer\n",
        "from sklearn.model_selection import RandomizedSearchCV\n",
        "\n",
        "scorer = make_scorer(mean_squared_error, greater_is_better = False)\n",
        "\n",
        "n_estimators = [int(x) for x in np.linspace(start = 200, stop = 1000, num = 5)]\n",
        "\n",
        "# Number of features to consider at every split\n",
        "max_features = ['auto', 'sqrt']\n",
        "\n",
        "# Maximum number of levels in tree\n",
        "max_depth = [int(x) for x in np.linspace(10, 100, num = 10)]\n",
        "max_depth.append(None)\n",
        "\n",
        "# Minimum number of samples required to split a node\n",
        "min_samples_split = [2, 10]\n",
        "\n",
        "# Minimum number of samples required at each leaf node\n",
        "min_samples_leaf = [1, 4]\n",
        "\n",
        "# Method of selecting samples for training each tree\n",
        "random_grid = {'n_estimators': n_estimators,\n",
        "               'max_features': max_features,\n",
        "               'max_depth': max_depth,\n",
        "               'min_samples_split': min_samples_split,\n",
        "               'min_samples_leaf': min_samples_leaf,\n",
        "                }\n",
        "\n",
        "\n",
        "# Use the random grid to search for best hyperparameters\n",
        "# First create the base model to tune\n",
        "rf = RandomForestRegressor()\n",
        "# Random search of parameters, using 3 fold cross validation, \n",
        "# search across 100 different combinations, and use all available cores\n",
        "rf_random = RandomizedSearchCV(estimator = rf, \n",
        "                               param_distributions = random_grid, \n",
        "                               n_iter = 20, \n",
        "                               cv = 5, \n",
        "                               verbose = 3, \n",
        "                               random_state = 42)\n",
        "\n",
        "XX_pca = pca.transform(XX)\n",
        "rf_random.fit(XX_pca,yy)"
      ],
      "execution_count": 15,
      "outputs": [
        {
          "output_type": "stream",
          "text": [
            "Fitting 5 folds for each of 20 candidates, totalling 100 fits\n",
            "[CV] n_estimators=200, min_samples_split=10, min_samples_leaf=1, max_features=sqrt, max_depth=70 \n"
          ],
          "name": "stdout"
        },
        {
          "output_type": "stream",
          "text": [
            "[Parallel(n_jobs=1)]: Using backend SequentialBackend with 1 concurrent workers.\n"
          ],
          "name": "stderr"
        },
        {
          "output_type": "stream",
          "text": [
            "[CV]  n_estimators=200, min_samples_split=10, min_samples_leaf=1, max_features=sqrt, max_depth=70, score=-0.023, total=   0.7s\n",
            "[CV] n_estimators=200, min_samples_split=10, min_samples_leaf=1, max_features=sqrt, max_depth=70 \n"
          ],
          "name": "stdout"
        },
        {
          "output_type": "stream",
          "text": [
            "[Parallel(n_jobs=1)]: Done   1 out of   1 | elapsed:    0.7s remaining:    0.0s\n"
          ],
          "name": "stderr"
        },
        {
          "output_type": "stream",
          "text": [
            "[CV]  n_estimators=200, min_samples_split=10, min_samples_leaf=1, max_features=sqrt, max_depth=70, score=0.063, total=   0.6s\n",
            "[CV] n_estimators=200, min_samples_split=10, min_samples_leaf=1, max_features=sqrt, max_depth=70 \n"
          ],
          "name": "stdout"
        },
        {
          "output_type": "stream",
          "text": [
            "[Parallel(n_jobs=1)]: Done   2 out of   2 | elapsed:    1.3s remaining:    0.0s\n"
          ],
          "name": "stderr"
        },
        {
          "output_type": "stream",
          "text": [
            "[CV]  n_estimators=200, min_samples_split=10, min_samples_leaf=1, max_features=sqrt, max_depth=70, score=0.057, total=   0.6s\n",
            "[CV] n_estimators=200, min_samples_split=10, min_samples_leaf=1, max_features=sqrt, max_depth=70 \n",
            "[CV]  n_estimators=200, min_samples_split=10, min_samples_leaf=1, max_features=sqrt, max_depth=70, score=0.082, total=   0.6s\n",
            "[CV] n_estimators=200, min_samples_split=10, min_samples_leaf=1, max_features=sqrt, max_depth=70 \n",
            "[CV]  n_estimators=200, min_samples_split=10, min_samples_leaf=1, max_features=sqrt, max_depth=70, score=0.059, total=   0.6s\n",
            "[CV] n_estimators=800, min_samples_split=10, min_samples_leaf=4, max_features=sqrt, max_depth=20 \n",
            "[CV]  n_estimators=800, min_samples_split=10, min_samples_leaf=4, max_features=sqrt, max_depth=20, score=-0.018, total=   2.3s\n",
            "[CV] n_estimators=800, min_samples_split=10, min_samples_leaf=4, max_features=sqrt, max_depth=20 \n",
            "[CV]  n_estimators=800, min_samples_split=10, min_samples_leaf=4, max_features=sqrt, max_depth=20, score=0.096, total=   2.3s\n",
            "[CV] n_estimators=800, min_samples_split=10, min_samples_leaf=4, max_features=sqrt, max_depth=20 \n",
            "[CV]  n_estimators=800, min_samples_split=10, min_samples_leaf=4, max_features=sqrt, max_depth=20, score=0.061, total=   2.3s\n",
            "[CV] n_estimators=800, min_samples_split=10, min_samples_leaf=4, max_features=sqrt, max_depth=20 \n",
            "[CV]  n_estimators=800, min_samples_split=10, min_samples_leaf=4, max_features=sqrt, max_depth=20, score=0.106, total=   2.2s\n",
            "[CV] n_estimators=800, min_samples_split=10, min_samples_leaf=4, max_features=sqrt, max_depth=20 \n",
            "[CV]  n_estimators=800, min_samples_split=10, min_samples_leaf=4, max_features=sqrt, max_depth=20, score=0.051, total=   2.3s\n",
            "[CV] n_estimators=600, min_samples_split=10, min_samples_leaf=1, max_features=sqrt, max_depth=90 \n",
            "[CV]  n_estimators=600, min_samples_split=10, min_samples_leaf=1, max_features=sqrt, max_depth=90, score=-0.026, total=   1.8s\n",
            "[CV] n_estimators=600, min_samples_split=10, min_samples_leaf=1, max_features=sqrt, max_depth=90 \n",
            "[CV]  n_estimators=600, min_samples_split=10, min_samples_leaf=1, max_features=sqrt, max_depth=90, score=0.095, total=   1.8s\n",
            "[CV] n_estimators=600, min_samples_split=10, min_samples_leaf=1, max_features=sqrt, max_depth=90 \n",
            "[CV]  n_estimators=600, min_samples_split=10, min_samples_leaf=1, max_features=sqrt, max_depth=90, score=0.032, total=   1.8s\n",
            "[CV] n_estimators=600, min_samples_split=10, min_samples_leaf=1, max_features=sqrt, max_depth=90 \n",
            "[CV]  n_estimators=600, min_samples_split=10, min_samples_leaf=1, max_features=sqrt, max_depth=90, score=0.099, total=   1.9s\n",
            "[CV] n_estimators=600, min_samples_split=10, min_samples_leaf=1, max_features=sqrt, max_depth=90 \n",
            "[CV]  n_estimators=600, min_samples_split=10, min_samples_leaf=1, max_features=sqrt, max_depth=90, score=0.056, total=   1.9s\n",
            "[CV] n_estimators=200, min_samples_split=10, min_samples_leaf=4, max_features=auto, max_depth=70 \n",
            "[CV]  n_estimators=200, min_samples_split=10, min_samples_leaf=4, max_features=auto, max_depth=70, score=0.137, total=   4.7s\n",
            "[CV] n_estimators=200, min_samples_split=10, min_samples_leaf=4, max_features=auto, max_depth=70 \n",
            "[CV]  n_estimators=200, min_samples_split=10, min_samples_leaf=4, max_features=auto, max_depth=70, score=0.255, total=   4.6s\n",
            "[CV] n_estimators=200, min_samples_split=10, min_samples_leaf=4, max_features=auto, max_depth=70 \n",
            "[CV]  n_estimators=200, min_samples_split=10, min_samples_leaf=4, max_features=auto, max_depth=70, score=0.178, total=   4.7s\n",
            "[CV] n_estimators=200, min_samples_split=10, min_samples_leaf=4, max_features=auto, max_depth=70 \n",
            "[CV]  n_estimators=200, min_samples_split=10, min_samples_leaf=4, max_features=auto, max_depth=70, score=0.247, total=   4.7s\n",
            "[CV] n_estimators=200, min_samples_split=10, min_samples_leaf=4, max_features=auto, max_depth=70 \n",
            "[CV]  n_estimators=200, min_samples_split=10, min_samples_leaf=4, max_features=auto, max_depth=70, score=0.099, total=   4.6s\n",
            "[CV] n_estimators=600, min_samples_split=10, min_samples_leaf=1, max_features=auto, max_depth=90 \n",
            "[CV]  n_estimators=600, min_samples_split=10, min_samples_leaf=1, max_features=auto, max_depth=90, score=0.122, total=  15.2s\n",
            "[CV] n_estimators=600, min_samples_split=10, min_samples_leaf=1, max_features=auto, max_depth=90 \n",
            "[CV]  n_estimators=600, min_samples_split=10, min_samples_leaf=1, max_features=auto, max_depth=90, score=0.261, total=  14.9s\n",
            "[CV] n_estimators=600, min_samples_split=10, min_samples_leaf=1, max_features=auto, max_depth=90 \n",
            "[CV]  n_estimators=600, min_samples_split=10, min_samples_leaf=1, max_features=auto, max_depth=90, score=0.182, total=  15.3s\n",
            "[CV] n_estimators=600, min_samples_split=10, min_samples_leaf=1, max_features=auto, max_depth=90 \n",
            "[CV]  n_estimators=600, min_samples_split=10, min_samples_leaf=1, max_features=auto, max_depth=90, score=0.253, total=  15.2s\n",
            "[CV] n_estimators=600, min_samples_split=10, min_samples_leaf=1, max_features=auto, max_depth=90 \n",
            "[CV]  n_estimators=600, min_samples_split=10, min_samples_leaf=1, max_features=auto, max_depth=90, score=0.100, total=  14.9s\n",
            "[CV] n_estimators=400, min_samples_split=2, min_samples_leaf=4, max_features=auto, max_depth=80 \n",
            "[CV]  n_estimators=400, min_samples_split=2, min_samples_leaf=4, max_features=auto, max_depth=80, score=0.122, total=   9.7s\n",
            "[CV] n_estimators=400, min_samples_split=2, min_samples_leaf=4, max_features=auto, max_depth=80 \n",
            "[CV]  n_estimators=400, min_samples_split=2, min_samples_leaf=4, max_features=auto, max_depth=80, score=0.260, total=   9.5s\n",
            "[CV] n_estimators=400, min_samples_split=2, min_samples_leaf=4, max_features=auto, max_depth=80 \n",
            "[CV]  n_estimators=400, min_samples_split=2, min_samples_leaf=4, max_features=auto, max_depth=80, score=0.190, total=   9.7s\n",
            "[CV] n_estimators=400, min_samples_split=2, min_samples_leaf=4, max_features=auto, max_depth=80 \n",
            "[CV]  n_estimators=400, min_samples_split=2, min_samples_leaf=4, max_features=auto, max_depth=80, score=0.240, total=   9.6s\n",
            "[CV] n_estimators=400, min_samples_split=2, min_samples_leaf=4, max_features=auto, max_depth=80 \n",
            "[CV]  n_estimators=400, min_samples_split=2, min_samples_leaf=4, max_features=auto, max_depth=80, score=0.097, total=   9.5s\n",
            "[CV] n_estimators=1000, min_samples_split=2, min_samples_leaf=1, max_features=sqrt, max_depth=50 \n",
            "[CV]  n_estimators=1000, min_samples_split=2, min_samples_leaf=1, max_features=sqrt, max_depth=50, score=-0.028, total=   3.6s\n",
            "[CV] n_estimators=1000, min_samples_split=2, min_samples_leaf=1, max_features=sqrt, max_depth=50 \n",
            "[CV]  n_estimators=1000, min_samples_split=2, min_samples_leaf=1, max_features=sqrt, max_depth=50, score=0.084, total=   3.6s\n",
            "[CV] n_estimators=1000, min_samples_split=2, min_samples_leaf=1, max_features=sqrt, max_depth=50 \n",
            "[CV]  n_estimators=1000, min_samples_split=2, min_samples_leaf=1, max_features=sqrt, max_depth=50, score=0.069, total=   3.6s\n",
            "[CV] n_estimators=1000, min_samples_split=2, min_samples_leaf=1, max_features=sqrt, max_depth=50 \n",
            "[CV]  n_estimators=1000, min_samples_split=2, min_samples_leaf=1, max_features=sqrt, max_depth=50, score=0.065, total=   3.6s\n",
            "[CV] n_estimators=1000, min_samples_split=2, min_samples_leaf=1, max_features=sqrt, max_depth=50 \n",
            "[CV]  n_estimators=1000, min_samples_split=2, min_samples_leaf=1, max_features=sqrt, max_depth=50, score=0.055, total=   3.5s\n",
            "[CV] n_estimators=600, min_samples_split=2, min_samples_leaf=1, max_features=auto, max_depth=30 \n",
            "[CV]  n_estimators=600, min_samples_split=2, min_samples_leaf=1, max_features=auto, max_depth=30, score=0.117, total=  20.0s\n",
            "[CV] n_estimators=600, min_samples_split=2, min_samples_leaf=1, max_features=auto, max_depth=30 \n",
            "[CV]  n_estimators=600, min_samples_split=2, min_samples_leaf=1, max_features=auto, max_depth=30, score=0.272, total=  19.2s\n",
            "[CV] n_estimators=600, min_samples_split=2, min_samples_leaf=1, max_features=auto, max_depth=30 \n",
            "[CV]  n_estimators=600, min_samples_split=2, min_samples_leaf=1, max_features=auto, max_depth=30, score=0.192, total=  19.5s\n",
            "[CV] n_estimators=600, min_samples_split=2, min_samples_leaf=1, max_features=auto, max_depth=30 \n",
            "[CV]  n_estimators=600, min_samples_split=2, min_samples_leaf=1, max_features=auto, max_depth=30, score=0.244, total=  19.4s\n",
            "[CV] n_estimators=600, min_samples_split=2, min_samples_leaf=1, max_features=auto, max_depth=30 \n",
            "[CV]  n_estimators=600, min_samples_split=2, min_samples_leaf=1, max_features=auto, max_depth=30, score=0.104, total=  19.6s\n",
            "[CV] n_estimators=800, min_samples_split=10, min_samples_leaf=4, max_features=sqrt, max_depth=None \n",
            "[CV]  n_estimators=800, min_samples_split=10, min_samples_leaf=4, max_features=sqrt, max_depth=None, score=-0.012, total=   2.3s\n",
            "[CV] n_estimators=800, min_samples_split=10, min_samples_leaf=4, max_features=sqrt, max_depth=None \n",
            "[CV]  n_estimators=800, min_samples_split=10, min_samples_leaf=4, max_features=sqrt, max_depth=None, score=0.087, total=   2.2s\n",
            "[CV] n_estimators=800, min_samples_split=10, min_samples_leaf=4, max_features=sqrt, max_depth=None \n",
            "[CV]  n_estimators=800, min_samples_split=10, min_samples_leaf=4, max_features=sqrt, max_depth=None, score=0.058, total=   2.3s\n",
            "[CV] n_estimators=800, min_samples_split=10, min_samples_leaf=4, max_features=sqrt, max_depth=None \n",
            "[CV]  n_estimators=800, min_samples_split=10, min_samples_leaf=4, max_features=sqrt, max_depth=None, score=0.095, total=   2.3s\n",
            "[CV] n_estimators=800, min_samples_split=10, min_samples_leaf=4, max_features=sqrt, max_depth=None \n",
            "[CV]  n_estimators=800, min_samples_split=10, min_samples_leaf=4, max_features=sqrt, max_depth=None, score=0.055, total=   2.3s\n",
            "[CV] n_estimators=200, min_samples_split=10, min_samples_leaf=1, max_features=auto, max_depth=None \n",
            "[CV]  n_estimators=200, min_samples_split=10, min_samples_leaf=1, max_features=auto, max_depth=None, score=0.118, total=   5.1s\n",
            "[CV] n_estimators=200, min_samples_split=10, min_samples_leaf=1, max_features=auto, max_depth=None \n",
            "[CV]  n_estimators=200, min_samples_split=10, min_samples_leaf=1, max_features=auto, max_depth=None, score=0.262, total=   4.9s\n",
            "[CV] n_estimators=200, min_samples_split=10, min_samples_leaf=1, max_features=auto, max_depth=None \n",
            "[CV]  n_estimators=200, min_samples_split=10, min_samples_leaf=1, max_features=auto, max_depth=None, score=0.184, total=   5.1s\n",
            "[CV] n_estimators=200, min_samples_split=10, min_samples_leaf=1, max_features=auto, max_depth=None \n",
            "[CV]  n_estimators=200, min_samples_split=10, min_samples_leaf=1, max_features=auto, max_depth=None, score=0.261, total=   5.0s\n",
            "[CV] n_estimators=200, min_samples_split=10, min_samples_leaf=1, max_features=auto, max_depth=None \n",
            "[CV]  n_estimators=200, min_samples_split=10, min_samples_leaf=1, max_features=auto, max_depth=None, score=0.101, total=   4.9s\n",
            "[CV] n_estimators=600, min_samples_split=10, min_samples_leaf=1, max_features=sqrt, max_depth=60 \n",
            "[CV]  n_estimators=600, min_samples_split=10, min_samples_leaf=1, max_features=sqrt, max_depth=60, score=-0.025, total=   1.8s\n",
            "[CV] n_estimators=600, min_samples_split=10, min_samples_leaf=1, max_features=sqrt, max_depth=60 \n",
            "[CV]  n_estimators=600, min_samples_split=10, min_samples_leaf=1, max_features=sqrt, max_depth=60, score=0.091, total=   1.8s\n",
            "[CV] n_estimators=600, min_samples_split=10, min_samples_leaf=1, max_features=sqrt, max_depth=60 \n",
            "[CV]  n_estimators=600, min_samples_split=10, min_samples_leaf=1, max_features=sqrt, max_depth=60, score=0.050, total=   1.8s\n",
            "[CV] n_estimators=600, min_samples_split=10, min_samples_leaf=1, max_features=sqrt, max_depth=60 \n",
            "[CV]  n_estimators=600, min_samples_split=10, min_samples_leaf=1, max_features=sqrt, max_depth=60, score=0.076, total=   1.8s\n",
            "[CV] n_estimators=600, min_samples_split=10, min_samples_leaf=1, max_features=sqrt, max_depth=60 \n",
            "[CV]  n_estimators=600, min_samples_split=10, min_samples_leaf=1, max_features=sqrt, max_depth=60, score=0.066, total=   1.8s\n",
            "[CV] n_estimators=200, min_samples_split=10, min_samples_leaf=4, max_features=sqrt, max_depth=20 \n",
            "[CV]  n_estimators=200, min_samples_split=10, min_samples_leaf=4, max_features=sqrt, max_depth=20, score=-0.012, total=   0.6s\n",
            "[CV] n_estimators=200, min_samples_split=10, min_samples_leaf=4, max_features=sqrt, max_depth=20 \n",
            "[CV]  n_estimators=200, min_samples_split=10, min_samples_leaf=4, max_features=sqrt, max_depth=20, score=0.064, total=   0.6s\n",
            "[CV] n_estimators=200, min_samples_split=10, min_samples_leaf=4, max_features=sqrt, max_depth=20 \n",
            "[CV]  n_estimators=200, min_samples_split=10, min_samples_leaf=4, max_features=sqrt, max_depth=20, score=0.083, total=   0.6s\n",
            "[CV] n_estimators=200, min_samples_split=10, min_samples_leaf=4, max_features=sqrt, max_depth=20 \n",
            "[CV]  n_estimators=200, min_samples_split=10, min_samples_leaf=4, max_features=sqrt, max_depth=20, score=0.086, total=   0.6s\n",
            "[CV] n_estimators=200, min_samples_split=10, min_samples_leaf=4, max_features=sqrt, max_depth=20 \n",
            "[CV]  n_estimators=200, min_samples_split=10, min_samples_leaf=4, max_features=sqrt, max_depth=20, score=0.052, total=   0.6s\n",
            "[CV] n_estimators=800, min_samples_split=10, min_samples_leaf=4, max_features=auto, max_depth=60 \n",
            "[CV]  n_estimators=800, min_samples_split=10, min_samples_leaf=4, max_features=auto, max_depth=60, score=0.119, total=  18.7s\n",
            "[CV] n_estimators=800, min_samples_split=10, min_samples_leaf=4, max_features=auto, max_depth=60 \n",
            "[CV]  n_estimators=800, min_samples_split=10, min_samples_leaf=4, max_features=auto, max_depth=60, score=0.264, total=  18.6s\n",
            "[CV] n_estimators=800, min_samples_split=10, min_samples_leaf=4, max_features=auto, max_depth=60 \n",
            "[CV]  n_estimators=800, min_samples_split=10, min_samples_leaf=4, max_features=auto, max_depth=60, score=0.189, total=  19.0s\n",
            "[CV] n_estimators=800, min_samples_split=10, min_samples_leaf=4, max_features=auto, max_depth=60 \n",
            "[CV]  n_estimators=800, min_samples_split=10, min_samples_leaf=4, max_features=auto, max_depth=60, score=0.259, total=  18.9s\n",
            "[CV] n_estimators=800, min_samples_split=10, min_samples_leaf=4, max_features=auto, max_depth=60 \n",
            "[CV]  n_estimators=800, min_samples_split=10, min_samples_leaf=4, max_features=auto, max_depth=60, score=0.109, total=  18.6s\n",
            "[CV] n_estimators=600, min_samples_split=10, min_samples_leaf=4, max_features=sqrt, max_depth=100 \n",
            "[CV]  n_estimators=600, min_samples_split=10, min_samples_leaf=4, max_features=sqrt, max_depth=100, score=-0.015, total=   1.7s\n",
            "[CV] n_estimators=600, min_samples_split=10, min_samples_leaf=4, max_features=sqrt, max_depth=100 \n",
            "[CV]  n_estimators=600, min_samples_split=10, min_samples_leaf=4, max_features=sqrt, max_depth=100, score=0.078, total=   1.7s\n",
            "[CV] n_estimators=600, min_samples_split=10, min_samples_leaf=4, max_features=sqrt, max_depth=100 \n",
            "[CV]  n_estimators=600, min_samples_split=10, min_samples_leaf=4, max_features=sqrt, max_depth=100, score=0.056, total=   1.7s\n",
            "[CV] n_estimators=600, min_samples_split=10, min_samples_leaf=4, max_features=sqrt, max_depth=100 \n",
            "[CV]  n_estimators=600, min_samples_split=10, min_samples_leaf=4, max_features=sqrt, max_depth=100, score=0.087, total=   1.7s\n",
            "[CV] n_estimators=600, min_samples_split=10, min_samples_leaf=4, max_features=sqrt, max_depth=100 \n",
            "[CV]  n_estimators=600, min_samples_split=10, min_samples_leaf=4, max_features=sqrt, max_depth=100, score=0.054, total=   1.7s\n",
            "[CV] n_estimators=600, min_samples_split=2, min_samples_leaf=1, max_features=sqrt, max_depth=90 \n",
            "[CV]  n_estimators=600, min_samples_split=2, min_samples_leaf=1, max_features=sqrt, max_depth=90, score=-0.007, total=   2.2s\n",
            "[CV] n_estimators=600, min_samples_split=2, min_samples_leaf=1, max_features=sqrt, max_depth=90 \n",
            "[CV]  n_estimators=600, min_samples_split=2, min_samples_leaf=1, max_features=sqrt, max_depth=90, score=0.080, total=   2.2s\n",
            "[CV] n_estimators=600, min_samples_split=2, min_samples_leaf=1, max_features=sqrt, max_depth=90 \n",
            "[CV]  n_estimators=600, min_samples_split=2, min_samples_leaf=1, max_features=sqrt, max_depth=90, score=0.053, total=   2.2s\n",
            "[CV] n_estimators=600, min_samples_split=2, min_samples_leaf=1, max_features=sqrt, max_depth=90 \n",
            "[CV]  n_estimators=600, min_samples_split=2, min_samples_leaf=1, max_features=sqrt, max_depth=90, score=0.083, total=   2.2s\n",
            "[CV] n_estimators=600, min_samples_split=2, min_samples_leaf=1, max_features=sqrt, max_depth=90 \n",
            "[CV]  n_estimators=600, min_samples_split=2, min_samples_leaf=1, max_features=sqrt, max_depth=90, score=0.053, total=   2.2s\n",
            "[CV] n_estimators=400, min_samples_split=10, min_samples_leaf=4, max_features=sqrt, max_depth=20 \n",
            "[CV]  n_estimators=400, min_samples_split=10, min_samples_leaf=4, max_features=sqrt, max_depth=20, score=-0.014, total=   1.1s\n",
            "[CV] n_estimators=400, min_samples_split=10, min_samples_leaf=4, max_features=sqrt, max_depth=20 \n",
            "[CV]  n_estimators=400, min_samples_split=10, min_samples_leaf=4, max_features=sqrt, max_depth=20, score=0.084, total=   1.1s\n",
            "[CV] n_estimators=400, min_samples_split=10, min_samples_leaf=4, max_features=sqrt, max_depth=20 \n",
            "[CV]  n_estimators=400, min_samples_split=10, min_samples_leaf=4, max_features=sqrt, max_depth=20, score=0.052, total=   1.1s\n",
            "[CV] n_estimators=400, min_samples_split=10, min_samples_leaf=4, max_features=sqrt, max_depth=20 \n",
            "[CV]  n_estimators=400, min_samples_split=10, min_samples_leaf=4, max_features=sqrt, max_depth=20, score=0.119, total=   1.1s\n",
            "[CV] n_estimators=400, min_samples_split=10, min_samples_leaf=4, max_features=sqrt, max_depth=20 \n",
            "[CV]  n_estimators=400, min_samples_split=10, min_samples_leaf=4, max_features=sqrt, max_depth=20, score=0.071, total=   1.1s\n",
            "[CV] n_estimators=1000, min_samples_split=2, min_samples_leaf=4, max_features=sqrt, max_depth=None \n",
            "[CV]  n_estimators=1000, min_samples_split=2, min_samples_leaf=4, max_features=sqrt, max_depth=None, score=-0.017, total=   2.9s\n",
            "[CV] n_estimators=1000, min_samples_split=2, min_samples_leaf=4, max_features=sqrt, max_depth=None \n",
            "[CV]  n_estimators=1000, min_samples_split=2, min_samples_leaf=4, max_features=sqrt, max_depth=None, score=0.083, total=   2.9s\n",
            "[CV] n_estimators=1000, min_samples_split=2, min_samples_leaf=4, max_features=sqrt, max_depth=None \n",
            "[CV]  n_estimators=1000, min_samples_split=2, min_samples_leaf=4, max_features=sqrt, max_depth=None, score=0.067, total=   3.0s\n",
            "[CV] n_estimators=1000, min_samples_split=2, min_samples_leaf=4, max_features=sqrt, max_depth=None \n",
            "[CV]  n_estimators=1000, min_samples_split=2, min_samples_leaf=4, max_features=sqrt, max_depth=None, score=0.090, total=   2.9s\n",
            "[CV] n_estimators=1000, min_samples_split=2, min_samples_leaf=4, max_features=sqrt, max_depth=None \n",
            "[CV]  n_estimators=1000, min_samples_split=2, min_samples_leaf=4, max_features=sqrt, max_depth=None, score=0.045, total=   2.9s\n",
            "[CV] n_estimators=800, min_samples_split=2, min_samples_leaf=4, max_features=sqrt, max_depth=50 \n",
            "[CV]  n_estimators=800, min_samples_split=2, min_samples_leaf=4, max_features=sqrt, max_depth=50, score=-0.015, total=   2.4s\n",
            "[CV] n_estimators=800, min_samples_split=2, min_samples_leaf=4, max_features=sqrt, max_depth=50 \n",
            "[CV]  n_estimators=800, min_samples_split=2, min_samples_leaf=4, max_features=sqrt, max_depth=50, score=0.076, total=   2.3s\n",
            "[CV] n_estimators=800, min_samples_split=2, min_samples_leaf=4, max_features=sqrt, max_depth=50 \n",
            "[CV]  n_estimators=800, min_samples_split=2, min_samples_leaf=4, max_features=sqrt, max_depth=50, score=0.076, total=   2.3s\n",
            "[CV] n_estimators=800, min_samples_split=2, min_samples_leaf=4, max_features=sqrt, max_depth=50 \n",
            "[CV]  n_estimators=800, min_samples_split=2, min_samples_leaf=4, max_features=sqrt, max_depth=50, score=0.090, total=   2.3s\n",
            "[CV] n_estimators=800, min_samples_split=2, min_samples_leaf=4, max_features=sqrt, max_depth=50 \n",
            "[CV]  n_estimators=800, min_samples_split=2, min_samples_leaf=4, max_features=sqrt, max_depth=50, score=0.049, total=   2.4s\n",
            "[CV] n_estimators=800, min_samples_split=2, min_samples_leaf=4, max_features=sqrt, max_depth=20 \n",
            "[CV]  n_estimators=800, min_samples_split=2, min_samples_leaf=4, max_features=sqrt, max_depth=20, score=-0.019, total=   2.3s\n",
            "[CV] n_estimators=800, min_samples_split=2, min_samples_leaf=4, max_features=sqrt, max_depth=20 \n",
            "[CV]  n_estimators=800, min_samples_split=2, min_samples_leaf=4, max_features=sqrt, max_depth=20, score=0.076, total=   2.3s\n",
            "[CV] n_estimators=800, min_samples_split=2, min_samples_leaf=4, max_features=sqrt, max_depth=20 \n",
            "[CV]  n_estimators=800, min_samples_split=2, min_samples_leaf=4, max_features=sqrt, max_depth=20, score=0.062, total=   2.4s\n",
            "[CV] n_estimators=800, min_samples_split=2, min_samples_leaf=4, max_features=sqrt, max_depth=20 \n",
            "[CV]  n_estimators=800, min_samples_split=2, min_samples_leaf=4, max_features=sqrt, max_depth=20, score=0.084, total=   2.3s\n",
            "[CV] n_estimators=800, min_samples_split=2, min_samples_leaf=4, max_features=sqrt, max_depth=20 \n",
            "[CV]  n_estimators=800, min_samples_split=2, min_samples_leaf=4, max_features=sqrt, max_depth=20, score=0.054, total=   2.3s\n",
            "[CV] n_estimators=1000, min_samples_split=2, min_samples_leaf=4, max_features=sqrt, max_depth=40 \n",
            "[CV]  n_estimators=1000, min_samples_split=2, min_samples_leaf=4, max_features=sqrt, max_depth=40, score=-0.018, total=   2.9s\n",
            "[CV] n_estimators=1000, min_samples_split=2, min_samples_leaf=4, max_features=sqrt, max_depth=40 \n",
            "[CV]  n_estimators=1000, min_samples_split=2, min_samples_leaf=4, max_features=sqrt, max_depth=40, score=0.070, total=   2.9s\n",
            "[CV] n_estimators=1000, min_samples_split=2, min_samples_leaf=4, max_features=sqrt, max_depth=40 \n",
            "[CV]  n_estimators=1000, min_samples_split=2, min_samples_leaf=4, max_features=sqrt, max_depth=40, score=0.066, total=   3.0s\n",
            "[CV] n_estimators=1000, min_samples_split=2, min_samples_leaf=4, max_features=sqrt, max_depth=40 \n",
            "[CV]  n_estimators=1000, min_samples_split=2, min_samples_leaf=4, max_features=sqrt, max_depth=40, score=0.090, total=   2.9s\n",
            "[CV] n_estimators=1000, min_samples_split=2, min_samples_leaf=4, max_features=sqrt, max_depth=40 \n",
            "[CV]  n_estimators=1000, min_samples_split=2, min_samples_leaf=4, max_features=sqrt, max_depth=40, score=0.055, total=   2.9s\n"
          ],
          "name": "stdout"
        },
        {
          "output_type": "stream",
          "text": [
            "[Parallel(n_jobs=1)]: Done 100 out of 100 | elapsed:  8.4min finished\n"
          ],
          "name": "stderr"
        },
        {
          "output_type": "execute_result",
          "data": {
            "text/plain": [
              "RandomizedSearchCV(cv=5, error_score=nan,\n",
              "                   estimator=RandomForestRegressor(bootstrap=True,\n",
              "                                                   ccp_alpha=0.0,\n",
              "                                                   criterion='mse',\n",
              "                                                   max_depth=None,\n",
              "                                                   max_features='auto',\n",
              "                                                   max_leaf_nodes=None,\n",
              "                                                   max_samples=None,\n",
              "                                                   min_impurity_decrease=0.0,\n",
              "                                                   min_impurity_split=None,\n",
              "                                                   min_samples_leaf=1,\n",
              "                                                   min_samples_split=2,\n",
              "                                                   min_weight_fraction_leaf=0.0,\n",
              "                                                   n_estimators=100,\n",
              "                                                   n_jobs=None, oob_score=False,\n",
              "                                                   random_state=None, verbose=0,\n",
              "                                                   warm_start=False),\n",
              "                   iid='deprecated', n_iter=20, n_jobs=None,\n",
              "                   param_distributions={'max_depth': [10, 20, 30, 40, 50, 60,\n",
              "                                                      70, 80, 90, 100, None],\n",
              "                                        'max_features': ['auto', 'sqrt'],\n",
              "                                        'min_samples_leaf': [1, 4],\n",
              "                                        'min_samples_split': [2, 10],\n",
              "                                        'n_estimators': [200, 400, 600, 800,\n",
              "                                                         1000]},\n",
              "                   pre_dispatch='2*n_jobs', random_state=42, refit=True,\n",
              "                   return_train_score=False, scoring=None, verbose=3)"
            ]
          },
          "metadata": {
            "tags": []
          },
          "execution_count": 15
        }
      ]
    },
    {
      "cell_type": "code",
      "metadata": {
        "id": "gBPExAMXZfD_",
        "colab": {
          "base_uri": "https://localhost:8080/"
        },
        "outputId": "a2622523-e960-4971-959c-a118a10357bd"
      },
      "source": [
        "rf_random.get_params"
      ],
      "execution_count": 18,
      "outputs": [
        {
          "output_type": "execute_result",
          "data": {
            "text/plain": [
              "<bound method BaseEstimator.get_params of RandomizedSearchCV(cv=5, error_score=nan,\n",
              "                   estimator=RandomForestRegressor(bootstrap=True,\n",
              "                                                   ccp_alpha=0.0,\n",
              "                                                   criterion='mse',\n",
              "                                                   max_depth=None,\n",
              "                                                   max_features='auto',\n",
              "                                                   max_leaf_nodes=None,\n",
              "                                                   max_samples=None,\n",
              "                                                   min_impurity_decrease=0.0,\n",
              "                                                   min_impurity_split=None,\n",
              "                                                   min_samples_leaf=1,\n",
              "                                                   min_samples_split=2,\n",
              "                                                   min_weight_fraction_leaf=0.0,\n",
              "                                                   n_estimators=100,\n",
              "                                                   n_jobs=None, oob_score=False,\n",
              "                                                   random_state=None, verbose=0,\n",
              "                                                   warm_start=False),\n",
              "                   iid='deprecated', n_iter=20, n_jobs=None,\n",
              "                   param_distributions={'max_depth': [10, 20, 30, 40, 50, 60,\n",
              "                                                      70, 80, 90, 100, None],\n",
              "                                        'max_features': ['auto', 'sqrt'],\n",
              "                                        'min_samples_leaf': [1, 4],\n",
              "                                        'min_samples_split': [2, 10],\n",
              "                                        'n_estimators': [200, 400, 600, 800,\n",
              "                                                         1000]},\n",
              "                   pre_dispatch='2*n_jobs', random_state=42, refit=True,\n",
              "                   return_train_score=False, scoring=None, verbose=3)>"
            ]
          },
          "metadata": {
            "tags": []
          },
          "execution_count": 18
        }
      ]
    },
    {
      "cell_type": "code",
      "metadata": {
        "id": "DESP3CPc-21s",
        "outputId": "373a99ee-9975-4701-cf34-260fcb045627",
        "colab": {
          "base_uri": "https://localhost:8080/"
        }
      },
      "source": [
        "\n",
        "n_estimators = [100, 1000, 3000]\n",
        "\n",
        "# Number of features to consider at every split\n",
        "max_features = ['auto']\n",
        "\n",
        "# Maximum number of levels in tree\n",
        "max_depth = [3, None]\n",
        "\n",
        "# Minimum number of samples required to split a node\n",
        "min_samples_split = [2, 4]\n",
        "\n",
        "# Minimum number of samples required at each leaf node\n",
        "min_samples_leaf = [1,10]\n",
        "\n",
        "# Method of selecting samples for training each tree\n",
        "param_grid = {'n_estimators': n_estimators,\n",
        "               'max_features': max_features,\n",
        "               'max_depth': max_depth,\n",
        "               'min_samples_split': min_samples_split,\n",
        "               'min_samples_leaf': min_samples_leaf,\n",
        "                }\n",
        "\n",
        "\n",
        "# Use the random grid to search for best hyperparameters\n",
        "# First create the base model to tune\n",
        "rf = RandomForestRegressor()\n",
        "# Random search of parameters, using 3 fold cross validation, \n",
        "# search across 100 different combinations, and use all available cores\n",
        "rf_grid = GridSearchCV(estimator = rf, \n",
        "                       param_grid = param_grid,  \n",
        "                       cv = 5, \n",
        "                       verbose = 3)\n",
        "\n",
        "rf_grid.fit(XX_pca,yy)"
      ],
      "execution_count": 21,
      "outputs": [
        {
          "output_type": "stream",
          "text": [
            "Fitting 5 folds for each of 24 candidates, totalling 120 fits\n",
            "[CV] max_depth=3, max_features=auto, min_samples_leaf=1, min_samples_split=2, n_estimators=100 \n"
          ],
          "name": "stdout"
        },
        {
          "output_type": "stream",
          "text": [
            "[Parallel(n_jobs=1)]: Using backend SequentialBackend with 1 concurrent workers.\n"
          ],
          "name": "stderr"
        },
        {
          "output_type": "stream",
          "text": [
            "[CV]  max_depth=3, max_features=auto, min_samples_leaf=1, min_samples_split=2, n_estimators=100, score=0.103, total=   1.5s\n",
            "[CV] max_depth=3, max_features=auto, min_samples_leaf=1, min_samples_split=2, n_estimators=100 \n"
          ],
          "name": "stdout"
        },
        {
          "output_type": "stream",
          "text": [
            "[Parallel(n_jobs=1)]: Done   1 out of   1 | elapsed:    1.5s remaining:    0.0s\n"
          ],
          "name": "stderr"
        },
        {
          "output_type": "stream",
          "text": [
            "[CV]  max_depth=3, max_features=auto, min_samples_leaf=1, min_samples_split=2, n_estimators=100, score=0.224, total=   1.5s\n",
            "[CV] max_depth=3, max_features=auto, min_samples_leaf=1, min_samples_split=2, n_estimators=100 \n"
          ],
          "name": "stdout"
        },
        {
          "output_type": "stream",
          "text": [
            "[Parallel(n_jobs=1)]: Done   2 out of   2 | elapsed:    3.0s remaining:    0.0s\n"
          ],
          "name": "stderr"
        },
        {
          "output_type": "stream",
          "text": [
            "[CV]  max_depth=3, max_features=auto, min_samples_leaf=1, min_samples_split=2, n_estimators=100, score=0.189, total=   1.5s\n",
            "[CV] max_depth=3, max_features=auto, min_samples_leaf=1, min_samples_split=2, n_estimators=100 \n",
            "[CV]  max_depth=3, max_features=auto, min_samples_leaf=1, min_samples_split=2, n_estimators=100, score=0.262, total=   1.4s\n",
            "[CV] max_depth=3, max_features=auto, min_samples_leaf=1, min_samples_split=2, n_estimators=100 \n",
            "[CV]  max_depth=3, max_features=auto, min_samples_leaf=1, min_samples_split=2, n_estimators=100, score=0.084, total=   1.4s\n",
            "[CV] max_depth=3, max_features=auto, min_samples_leaf=1, min_samples_split=2, n_estimators=1000 \n",
            "[CV]  max_depth=3, max_features=auto, min_samples_leaf=1, min_samples_split=2, n_estimators=1000, score=0.124, total=  14.2s\n",
            "[CV] max_depth=3, max_features=auto, min_samples_leaf=1, min_samples_split=2, n_estimators=1000 \n",
            "[CV]  max_depth=3, max_features=auto, min_samples_leaf=1, min_samples_split=2, n_estimators=1000, score=0.251, total=  14.2s\n",
            "[CV] max_depth=3, max_features=auto, min_samples_leaf=1, min_samples_split=2, n_estimators=1000 \n",
            "[CV]  max_depth=3, max_features=auto, min_samples_leaf=1, min_samples_split=2, n_estimators=1000, score=0.194, total=  14.4s\n",
            "[CV] max_depth=3, max_features=auto, min_samples_leaf=1, min_samples_split=2, n_estimators=1000 \n",
            "[CV]  max_depth=3, max_features=auto, min_samples_leaf=1, min_samples_split=2, n_estimators=1000, score=0.246, total=  14.3s\n",
            "[CV] max_depth=3, max_features=auto, min_samples_leaf=1, min_samples_split=2, n_estimators=1000 \n",
            "[CV]  max_depth=3, max_features=auto, min_samples_leaf=1, min_samples_split=2, n_estimators=1000, score=0.100, total=  14.2s\n",
            "[CV] max_depth=3, max_features=auto, min_samples_leaf=1, min_samples_split=2, n_estimators=3000 \n",
            "[CV]  max_depth=3, max_features=auto, min_samples_leaf=1, min_samples_split=2, n_estimators=3000, score=0.112, total=  43.1s\n",
            "[CV] max_depth=3, max_features=auto, min_samples_leaf=1, min_samples_split=2, n_estimators=3000 \n",
            "[CV]  max_depth=3, max_features=auto, min_samples_leaf=1, min_samples_split=2, n_estimators=3000, score=0.254, total=  42.8s\n",
            "[CV] max_depth=3, max_features=auto, min_samples_leaf=1, min_samples_split=2, n_estimators=3000 \n",
            "[CV]  max_depth=3, max_features=auto, min_samples_leaf=1, min_samples_split=2, n_estimators=3000, score=0.203, total=  42.8s\n",
            "[CV] max_depth=3, max_features=auto, min_samples_leaf=1, min_samples_split=2, n_estimators=3000 \n",
            "[CV]  max_depth=3, max_features=auto, min_samples_leaf=1, min_samples_split=2, n_estimators=3000, score=0.240, total=  42.8s\n",
            "[CV] max_depth=3, max_features=auto, min_samples_leaf=1, min_samples_split=2, n_estimators=3000 \n",
            "[CV]  max_depth=3, max_features=auto, min_samples_leaf=1, min_samples_split=2, n_estimators=3000, score=0.102, total=  42.7s\n",
            "[CV] max_depth=3, max_features=auto, min_samples_leaf=1, min_samples_split=4, n_estimators=100 \n",
            "[CV]  max_depth=3, max_features=auto, min_samples_leaf=1, min_samples_split=4, n_estimators=100, score=0.108, total=   1.4s\n",
            "[CV] max_depth=3, max_features=auto, min_samples_leaf=1, min_samples_split=4, n_estimators=100 \n",
            "[CV]  max_depth=3, max_features=auto, min_samples_leaf=1, min_samples_split=4, n_estimators=100, score=0.244, total=   1.4s\n",
            "[CV] max_depth=3, max_features=auto, min_samples_leaf=1, min_samples_split=4, n_estimators=100 \n",
            "[CV]  max_depth=3, max_features=auto, min_samples_leaf=1, min_samples_split=4, n_estimators=100, score=0.185, total=   1.4s\n",
            "[CV] max_depth=3, max_features=auto, min_samples_leaf=1, min_samples_split=4, n_estimators=100 \n",
            "[CV]  max_depth=3, max_features=auto, min_samples_leaf=1, min_samples_split=4, n_estimators=100, score=0.229, total=   1.4s\n",
            "[CV] max_depth=3, max_features=auto, min_samples_leaf=1, min_samples_split=4, n_estimators=100 \n",
            "[CV]  max_depth=3, max_features=auto, min_samples_leaf=1, min_samples_split=4, n_estimators=100, score=0.099, total=   1.4s\n",
            "[CV] max_depth=3, max_features=auto, min_samples_leaf=1, min_samples_split=4, n_estimators=1000 \n",
            "[CV]  max_depth=3, max_features=auto, min_samples_leaf=1, min_samples_split=4, n_estimators=1000, score=0.115, total=  14.3s\n",
            "[CV] max_depth=3, max_features=auto, min_samples_leaf=1, min_samples_split=4, n_estimators=1000 \n",
            "[CV]  max_depth=3, max_features=auto, min_samples_leaf=1, min_samples_split=4, n_estimators=1000, score=0.257, total=  14.2s\n",
            "[CV] max_depth=3, max_features=auto, min_samples_leaf=1, min_samples_split=4, n_estimators=1000 \n",
            "[CV]  max_depth=3, max_features=auto, min_samples_leaf=1, min_samples_split=4, n_estimators=1000, score=0.202, total=  14.2s\n",
            "[CV] max_depth=3, max_features=auto, min_samples_leaf=1, min_samples_split=4, n_estimators=1000 \n",
            "[CV]  max_depth=3, max_features=auto, min_samples_leaf=1, min_samples_split=4, n_estimators=1000, score=0.240, total=  14.2s\n",
            "[CV] max_depth=3, max_features=auto, min_samples_leaf=1, min_samples_split=4, n_estimators=1000 \n",
            "[CV]  max_depth=3, max_features=auto, min_samples_leaf=1, min_samples_split=4, n_estimators=1000, score=0.105, total=  14.2s\n",
            "[CV] max_depth=3, max_features=auto, min_samples_leaf=1, min_samples_split=4, n_estimators=3000 \n",
            "[CV]  max_depth=3, max_features=auto, min_samples_leaf=1, min_samples_split=4, n_estimators=3000, score=0.114, total=  42.7s\n",
            "[CV] max_depth=3, max_features=auto, min_samples_leaf=1, min_samples_split=4, n_estimators=3000 \n",
            "[CV]  max_depth=3, max_features=auto, min_samples_leaf=1, min_samples_split=4, n_estimators=3000, score=0.251, total=  42.6s\n",
            "[CV] max_depth=3, max_features=auto, min_samples_leaf=1, min_samples_split=4, n_estimators=3000 \n",
            "[CV]  max_depth=3, max_features=auto, min_samples_leaf=1, min_samples_split=4, n_estimators=3000, score=0.201, total=  43.4s\n",
            "[CV] max_depth=3, max_features=auto, min_samples_leaf=1, min_samples_split=4, n_estimators=3000 \n",
            "[CV]  max_depth=3, max_features=auto, min_samples_leaf=1, min_samples_split=4, n_estimators=3000, score=0.238, total=  42.7s\n",
            "[CV] max_depth=3, max_features=auto, min_samples_leaf=1, min_samples_split=4, n_estimators=3000 \n",
            "[CV]  max_depth=3, max_features=auto, min_samples_leaf=1, min_samples_split=4, n_estimators=3000, score=0.102, total=  42.9s\n",
            "[CV] max_depth=3, max_features=auto, min_samples_leaf=10, min_samples_split=2, n_estimators=100 \n",
            "[CV]  max_depth=3, max_features=auto, min_samples_leaf=10, min_samples_split=2, n_estimators=100, score=0.097, total=   1.3s\n",
            "[CV] max_depth=3, max_features=auto, min_samples_leaf=10, min_samples_split=2, n_estimators=100 \n",
            "[CV]  max_depth=3, max_features=auto, min_samples_leaf=10, min_samples_split=2, n_estimators=100, score=0.250, total=   1.3s\n",
            "[CV] max_depth=3, max_features=auto, min_samples_leaf=10, min_samples_split=2, n_estimators=100 \n",
            "[CV]  max_depth=3, max_features=auto, min_samples_leaf=10, min_samples_split=2, n_estimators=100, score=0.229, total=   1.4s\n",
            "[CV] max_depth=3, max_features=auto, min_samples_leaf=10, min_samples_split=2, n_estimators=100 \n",
            "[CV]  max_depth=3, max_features=auto, min_samples_leaf=10, min_samples_split=2, n_estimators=100, score=0.239, total=   1.4s\n",
            "[CV] max_depth=3, max_features=auto, min_samples_leaf=10, min_samples_split=2, n_estimators=100 \n",
            "[CV]  max_depth=3, max_features=auto, min_samples_leaf=10, min_samples_split=2, n_estimators=100, score=0.104, total=   1.4s\n",
            "[CV] max_depth=3, max_features=auto, min_samples_leaf=10, min_samples_split=2, n_estimators=1000 \n",
            "[CV]  max_depth=3, max_features=auto, min_samples_leaf=10, min_samples_split=2, n_estimators=1000, score=0.115, total=  13.6s\n",
            "[CV] max_depth=3, max_features=auto, min_samples_leaf=10, min_samples_split=2, n_estimators=1000 \n",
            "[CV]  max_depth=3, max_features=auto, min_samples_leaf=10, min_samples_split=2, n_estimators=1000, score=0.255, total=  13.4s\n",
            "[CV] max_depth=3, max_features=auto, min_samples_leaf=10, min_samples_split=2, n_estimators=1000 \n",
            "[CV]  max_depth=3, max_features=auto, min_samples_leaf=10, min_samples_split=2, n_estimators=1000, score=0.205, total=  13.6s\n",
            "[CV] max_depth=3, max_features=auto, min_samples_leaf=10, min_samples_split=2, n_estimators=1000 \n",
            "[CV]  max_depth=3, max_features=auto, min_samples_leaf=10, min_samples_split=2, n_estimators=1000, score=0.240, total=  13.9s\n",
            "[CV] max_depth=3, max_features=auto, min_samples_leaf=10, min_samples_split=2, n_estimators=1000 \n",
            "[CV]  max_depth=3, max_features=auto, min_samples_leaf=10, min_samples_split=2, n_estimators=1000, score=0.097, total=  13.8s\n",
            "[CV] max_depth=3, max_features=auto, min_samples_leaf=10, min_samples_split=2, n_estimators=3000 \n",
            "[CV]  max_depth=3, max_features=auto, min_samples_leaf=10, min_samples_split=2, n_estimators=3000, score=0.114, total=  40.3s\n",
            "[CV] max_depth=3, max_features=auto, min_samples_leaf=10, min_samples_split=2, n_estimators=3000 \n",
            "[CV]  max_depth=3, max_features=auto, min_samples_leaf=10, min_samples_split=2, n_estimators=3000, score=0.256, total=  40.3s\n",
            "[CV] max_depth=3, max_features=auto, min_samples_leaf=10, min_samples_split=2, n_estimators=3000 \n",
            "[CV]  max_depth=3, max_features=auto, min_samples_leaf=10, min_samples_split=2, n_estimators=3000, score=0.202, total=  40.8s\n",
            "[CV] max_depth=3, max_features=auto, min_samples_leaf=10, min_samples_split=2, n_estimators=3000 \n",
            "[CV]  max_depth=3, max_features=auto, min_samples_leaf=10, min_samples_split=2, n_estimators=3000, score=0.239, total=  40.8s\n",
            "[CV] max_depth=3, max_features=auto, min_samples_leaf=10, min_samples_split=2, n_estimators=3000 \n",
            "[CV]  max_depth=3, max_features=auto, min_samples_leaf=10, min_samples_split=2, n_estimators=3000, score=0.101, total=  40.5s\n",
            "[CV] max_depth=3, max_features=auto, min_samples_leaf=10, min_samples_split=4, n_estimators=100 \n",
            "[CV]  max_depth=3, max_features=auto, min_samples_leaf=10, min_samples_split=4, n_estimators=100, score=0.100, total=   1.4s\n",
            "[CV] max_depth=3, max_features=auto, min_samples_leaf=10, min_samples_split=4, n_estimators=100 \n",
            "[CV]  max_depth=3, max_features=auto, min_samples_leaf=10, min_samples_split=4, n_estimators=100, score=0.268, total=   1.4s\n",
            "[CV] max_depth=3, max_features=auto, min_samples_leaf=10, min_samples_split=4, n_estimators=100 \n",
            "[CV]  max_depth=3, max_features=auto, min_samples_leaf=10, min_samples_split=4, n_estimators=100, score=0.199, total=   1.4s\n",
            "[CV] max_depth=3, max_features=auto, min_samples_leaf=10, min_samples_split=4, n_estimators=100 \n",
            "[CV]  max_depth=3, max_features=auto, min_samples_leaf=10, min_samples_split=4, n_estimators=100, score=0.239, total=   1.4s\n",
            "[CV] max_depth=3, max_features=auto, min_samples_leaf=10, min_samples_split=4, n_estimators=100 \n",
            "[CV]  max_depth=3, max_features=auto, min_samples_leaf=10, min_samples_split=4, n_estimators=100, score=0.099, total=   1.4s\n",
            "[CV] max_depth=3, max_features=auto, min_samples_leaf=10, min_samples_split=4, n_estimators=1000 \n",
            "[CV]  max_depth=3, max_features=auto, min_samples_leaf=10, min_samples_split=4, n_estimators=1000, score=0.112, total=  13.5s\n",
            "[CV] max_depth=3, max_features=auto, min_samples_leaf=10, min_samples_split=4, n_estimators=1000 \n",
            "[CV]  max_depth=3, max_features=auto, min_samples_leaf=10, min_samples_split=4, n_estimators=1000, score=0.256, total=  13.5s\n",
            "[CV] max_depth=3, max_features=auto, min_samples_leaf=10, min_samples_split=4, n_estimators=1000 \n",
            "[CV]  max_depth=3, max_features=auto, min_samples_leaf=10, min_samples_split=4, n_estimators=1000, score=0.200, total=  13.6s\n",
            "[CV] max_depth=3, max_features=auto, min_samples_leaf=10, min_samples_split=4, n_estimators=1000 \n",
            "[CV]  max_depth=3, max_features=auto, min_samples_leaf=10, min_samples_split=4, n_estimators=1000, score=0.241, total=  13.6s\n",
            "[CV] max_depth=3, max_features=auto, min_samples_leaf=10, min_samples_split=4, n_estimators=1000 \n",
            "[CV]  max_depth=3, max_features=auto, min_samples_leaf=10, min_samples_split=4, n_estimators=1000, score=0.095, total=  13.5s\n",
            "[CV] max_depth=3, max_features=auto, min_samples_leaf=10, min_samples_split=4, n_estimators=3000 \n",
            "[CV]  max_depth=3, max_features=auto, min_samples_leaf=10, min_samples_split=4, n_estimators=3000, score=0.117, total=  40.5s\n",
            "[CV] max_depth=3, max_features=auto, min_samples_leaf=10, min_samples_split=4, n_estimators=3000 \n",
            "[CV]  max_depth=3, max_features=auto, min_samples_leaf=10, min_samples_split=4, n_estimators=3000, score=0.256, total=  40.5s\n",
            "[CV] max_depth=3, max_features=auto, min_samples_leaf=10, min_samples_split=4, n_estimators=3000 \n",
            "[CV]  max_depth=3, max_features=auto, min_samples_leaf=10, min_samples_split=4, n_estimators=3000, score=0.203, total=  40.5s\n",
            "[CV] max_depth=3, max_features=auto, min_samples_leaf=10, min_samples_split=4, n_estimators=3000 \n",
            "[CV]  max_depth=3, max_features=auto, min_samples_leaf=10, min_samples_split=4, n_estimators=3000, score=0.239, total=  40.6s\n",
            "[CV] max_depth=3, max_features=auto, min_samples_leaf=10, min_samples_split=4, n_estimators=3000 \n",
            "[CV]  max_depth=3, max_features=auto, min_samples_leaf=10, min_samples_split=4, n_estimators=3000, score=0.101, total=  40.8s\n",
            "[CV] max_depth=None, max_features=auto, min_samples_leaf=1, min_samples_split=2, n_estimators=100 \n",
            "[CV]  max_depth=None, max_features=auto, min_samples_leaf=1, min_samples_split=2, n_estimators=100, score=0.116, total=   3.2s\n",
            "[CV] max_depth=None, max_features=auto, min_samples_leaf=1, min_samples_split=2, n_estimators=100 \n",
            "[CV]  max_depth=None, max_features=auto, min_samples_leaf=1, min_samples_split=2, n_estimators=100, score=0.274, total=   3.2s\n",
            "[CV] max_depth=None, max_features=auto, min_samples_leaf=1, min_samples_split=2, n_estimators=100 \n",
            "[CV]  max_depth=None, max_features=auto, min_samples_leaf=1, min_samples_split=2, n_estimators=100, score=0.208, total=   3.3s\n",
            "[CV] max_depth=None, max_features=auto, min_samples_leaf=1, min_samples_split=2, n_estimators=100 \n",
            "[CV]  max_depth=None, max_features=auto, min_samples_leaf=1, min_samples_split=2, n_estimators=100, score=0.289, total=   3.3s\n",
            "[CV] max_depth=None, max_features=auto, min_samples_leaf=1, min_samples_split=2, n_estimators=100 \n",
            "[CV]  max_depth=None, max_features=auto, min_samples_leaf=1, min_samples_split=2, n_estimators=100, score=0.093, total=   3.2s\n",
            "[CV] max_depth=None, max_features=auto, min_samples_leaf=1, min_samples_split=2, n_estimators=1000 \n",
            "[CV]  max_depth=None, max_features=auto, min_samples_leaf=1, min_samples_split=2, n_estimators=1000, score=0.131, total=  32.4s\n",
            "[CV] max_depth=None, max_features=auto, min_samples_leaf=1, min_samples_split=2, n_estimators=1000 \n",
            "[CV]  max_depth=None, max_features=auto, min_samples_leaf=1, min_samples_split=2, n_estimators=1000, score=0.258, total=  32.1s\n",
            "[CV] max_depth=None, max_features=auto, min_samples_leaf=1, min_samples_split=2, n_estimators=1000 \n",
            "[CV]  max_depth=None, max_features=auto, min_samples_leaf=1, min_samples_split=2, n_estimators=1000, score=0.189, total=  32.5s\n",
            "[CV] max_depth=None, max_features=auto, min_samples_leaf=1, min_samples_split=2, n_estimators=1000 \n",
            "[CV]  max_depth=None, max_features=auto, min_samples_leaf=1, min_samples_split=2, n_estimators=1000, score=0.255, total=  32.3s\n",
            "[CV] max_depth=None, max_features=auto, min_samples_leaf=1, min_samples_split=2, n_estimators=1000 \n",
            "[CV]  max_depth=None, max_features=auto, min_samples_leaf=1, min_samples_split=2, n_estimators=1000, score=0.110, total=  32.9s\n",
            "[CV] max_depth=None, max_features=auto, min_samples_leaf=1, min_samples_split=2, n_estimators=3000 \n",
            "[CV]  max_depth=None, max_features=auto, min_samples_leaf=1, min_samples_split=2, n_estimators=3000, score=0.128, total= 1.6min\n",
            "[CV] max_depth=None, max_features=auto, min_samples_leaf=1, min_samples_split=2, n_estimators=3000 \n",
            "[CV]  max_depth=None, max_features=auto, min_samples_leaf=1, min_samples_split=2, n_estimators=3000, score=0.265, total= 1.6min\n",
            "[CV] max_depth=None, max_features=auto, min_samples_leaf=1, min_samples_split=2, n_estimators=3000 \n",
            "[CV]  max_depth=None, max_features=auto, min_samples_leaf=1, min_samples_split=2, n_estimators=3000, score=0.189, total= 1.6min\n",
            "[CV] max_depth=None, max_features=auto, min_samples_leaf=1, min_samples_split=2, n_estimators=3000 \n",
            "[CV]  max_depth=None, max_features=auto, min_samples_leaf=1, min_samples_split=2, n_estimators=3000, score=0.246, total= 1.6min\n",
            "[CV] max_depth=None, max_features=auto, min_samples_leaf=1, min_samples_split=2, n_estimators=3000 \n",
            "[CV]  max_depth=None, max_features=auto, min_samples_leaf=1, min_samples_split=2, n_estimators=3000, score=0.101, total= 1.6min\n",
            "[CV] max_depth=None, max_features=auto, min_samples_leaf=1, min_samples_split=4, n_estimators=100 \n",
            "[CV]  max_depth=None, max_features=auto, min_samples_leaf=1, min_samples_split=4, n_estimators=100, score=0.124, total=   3.0s\n",
            "[CV] max_depth=None, max_features=auto, min_samples_leaf=1, min_samples_split=4, n_estimators=100 \n",
            "[CV]  max_depth=None, max_features=auto, min_samples_leaf=1, min_samples_split=4, n_estimators=100, score=0.256, total=   2.9s\n",
            "[CV] max_depth=None, max_features=auto, min_samples_leaf=1, min_samples_split=4, n_estimators=100 \n",
            "[CV]  max_depth=None, max_features=auto, min_samples_leaf=1, min_samples_split=4, n_estimators=100, score=0.163, total=   3.0s\n",
            "[CV] max_depth=None, max_features=auto, min_samples_leaf=1, min_samples_split=4, n_estimators=100 \n",
            "[CV]  max_depth=None, max_features=auto, min_samples_leaf=1, min_samples_split=4, n_estimators=100, score=0.215, total=   2.9s\n",
            "[CV] max_depth=None, max_features=auto, min_samples_leaf=1, min_samples_split=4, n_estimators=100 \n",
            "[CV]  max_depth=None, max_features=auto, min_samples_leaf=1, min_samples_split=4, n_estimators=100, score=0.104, total=   2.9s\n",
            "[CV] max_depth=None, max_features=auto, min_samples_leaf=1, min_samples_split=4, n_estimators=1000 \n",
            "[CV]  max_depth=None, max_features=auto, min_samples_leaf=1, min_samples_split=4, n_estimators=1000, score=0.121, total=  29.6s\n",
            "[CV] max_depth=None, max_features=auto, min_samples_leaf=1, min_samples_split=4, n_estimators=1000 \n",
            "[CV]  max_depth=None, max_features=auto, min_samples_leaf=1, min_samples_split=4, n_estimators=1000, score=0.260, total=  29.0s\n",
            "[CV] max_depth=None, max_features=auto, min_samples_leaf=1, min_samples_split=4, n_estimators=1000 \n",
            "[CV]  max_depth=None, max_features=auto, min_samples_leaf=1, min_samples_split=4, n_estimators=1000, score=0.192, total=  29.5s\n",
            "[CV] max_depth=None, max_features=auto, min_samples_leaf=1, min_samples_split=4, n_estimators=1000 \n",
            "[CV]  max_depth=None, max_features=auto, min_samples_leaf=1, min_samples_split=4, n_estimators=1000, score=0.248, total=  29.3s\n",
            "[CV] max_depth=None, max_features=auto, min_samples_leaf=1, min_samples_split=4, n_estimators=1000 \n",
            "[CV]  max_depth=None, max_features=auto, min_samples_leaf=1, min_samples_split=4, n_estimators=1000, score=0.096, total=  28.9s\n",
            "[CV] max_depth=None, max_features=auto, min_samples_leaf=1, min_samples_split=4, n_estimators=3000 \n",
            "[CV]  max_depth=None, max_features=auto, min_samples_leaf=1, min_samples_split=4, n_estimators=3000, score=0.125, total= 1.5min\n",
            "[CV] max_depth=None, max_features=auto, min_samples_leaf=1, min_samples_split=4, n_estimators=3000 \n",
            "[CV]  max_depth=None, max_features=auto, min_samples_leaf=1, min_samples_split=4, n_estimators=3000, score=0.259, total= 1.4min\n",
            "[CV] max_depth=None, max_features=auto, min_samples_leaf=1, min_samples_split=4, n_estimators=3000 \n",
            "[CV]  max_depth=None, max_features=auto, min_samples_leaf=1, min_samples_split=4, n_estimators=3000, score=0.187, total= 1.5min\n",
            "[CV] max_depth=None, max_features=auto, min_samples_leaf=1, min_samples_split=4, n_estimators=3000 \n",
            "[CV]  max_depth=None, max_features=auto, min_samples_leaf=1, min_samples_split=4, n_estimators=3000, score=0.247, total= 1.5min\n",
            "[CV] max_depth=None, max_features=auto, min_samples_leaf=1, min_samples_split=4, n_estimators=3000 \n",
            "[CV]  max_depth=None, max_features=auto, min_samples_leaf=1, min_samples_split=4, n_estimators=3000, score=0.102, total= 1.5min\n",
            "[CV] max_depth=None, max_features=auto, min_samples_leaf=10, min_samples_split=2, n_estimators=100 \n",
            "[CV]  max_depth=None, max_features=auto, min_samples_leaf=10, min_samples_split=2, n_estimators=100, score=0.126, total=   1.8s\n",
            "[CV] max_depth=None, max_features=auto, min_samples_leaf=10, min_samples_split=2, n_estimators=100 \n",
            "[CV]  max_depth=None, max_features=auto, min_samples_leaf=10, min_samples_split=2, n_estimators=100, score=0.275, total=   1.8s\n",
            "[CV] max_depth=None, max_features=auto, min_samples_leaf=10, min_samples_split=2, n_estimators=100 \n",
            "[CV]  max_depth=None, max_features=auto, min_samples_leaf=10, min_samples_split=2, n_estimators=100, score=0.172, total=   1.8s\n",
            "[CV] max_depth=None, max_features=auto, min_samples_leaf=10, min_samples_split=2, n_estimators=100 \n",
            "[CV]  max_depth=None, max_features=auto, min_samples_leaf=10, min_samples_split=2, n_estimators=100, score=0.268, total=   1.8s\n",
            "[CV] max_depth=None, max_features=auto, min_samples_leaf=10, min_samples_split=2, n_estimators=100 \n",
            "[CV]  max_depth=None, max_features=auto, min_samples_leaf=10, min_samples_split=2, n_estimators=100, score=0.090, total=   1.8s\n",
            "[CV] max_depth=None, max_features=auto, min_samples_leaf=10, min_samples_split=2, n_estimators=1000 \n",
            "[CV]  max_depth=None, max_features=auto, min_samples_leaf=10, min_samples_split=2, n_estimators=1000, score=0.121, total=  18.2s\n",
            "[CV] max_depth=None, max_features=auto, min_samples_leaf=10, min_samples_split=2, n_estimators=1000 \n",
            "[CV]  max_depth=None, max_features=auto, min_samples_leaf=10, min_samples_split=2, n_estimators=1000, score=0.262, total=  17.9s\n",
            "[CV] max_depth=None, max_features=auto, min_samples_leaf=10, min_samples_split=2, n_estimators=1000 \n",
            "[CV]  max_depth=None, max_features=auto, min_samples_leaf=10, min_samples_split=2, n_estimators=1000, score=0.204, total=  18.1s\n",
            "[CV] max_depth=None, max_features=auto, min_samples_leaf=10, min_samples_split=2, n_estimators=1000 \n",
            "[CV]  max_depth=None, max_features=auto, min_samples_leaf=10, min_samples_split=2, n_estimators=1000, score=0.246, total=  17.8s\n",
            "[CV] max_depth=None, max_features=auto, min_samples_leaf=10, min_samples_split=2, n_estimators=1000 \n",
            "[CV]  max_depth=None, max_features=auto, min_samples_leaf=10, min_samples_split=2, n_estimators=1000, score=0.091, total=  17.7s\n",
            "[CV] max_depth=None, max_features=auto, min_samples_leaf=10, min_samples_split=2, n_estimators=3000 \n",
            "[CV]  max_depth=None, max_features=auto, min_samples_leaf=10, min_samples_split=2, n_estimators=3000, score=0.128, total=  54.5s\n",
            "[CV] max_depth=None, max_features=auto, min_samples_leaf=10, min_samples_split=2, n_estimators=3000 \n",
            "[CV]  max_depth=None, max_features=auto, min_samples_leaf=10, min_samples_split=2, n_estimators=3000, score=0.269, total=  53.4s\n",
            "[CV] max_depth=None, max_features=auto, min_samples_leaf=10, min_samples_split=2, n_estimators=3000 \n",
            "[CV]  max_depth=None, max_features=auto, min_samples_leaf=10, min_samples_split=2, n_estimators=3000, score=0.204, total=  54.2s\n",
            "[CV] max_depth=None, max_features=auto, min_samples_leaf=10, min_samples_split=2, n_estimators=3000 \n",
            "[CV]  max_depth=None, max_features=auto, min_samples_leaf=10, min_samples_split=2, n_estimators=3000, score=0.249, total=  53.4s\n",
            "[CV] max_depth=None, max_features=auto, min_samples_leaf=10, min_samples_split=2, n_estimators=3000 \n",
            "[CV]  max_depth=None, max_features=auto, min_samples_leaf=10, min_samples_split=2, n_estimators=3000, score=0.098, total=  53.1s\n",
            "[CV] max_depth=None, max_features=auto, min_samples_leaf=10, min_samples_split=4, n_estimators=100 \n",
            "[CV]  max_depth=None, max_features=auto, min_samples_leaf=10, min_samples_split=4, n_estimators=100, score=0.150, total=   1.8s\n",
            "[CV] max_depth=None, max_features=auto, min_samples_leaf=10, min_samples_split=4, n_estimators=100 \n",
            "[CV]  max_depth=None, max_features=auto, min_samples_leaf=10, min_samples_split=4, n_estimators=100, score=0.256, total=   1.8s\n",
            "[CV] max_depth=None, max_features=auto, min_samples_leaf=10, min_samples_split=4, n_estimators=100 \n",
            "[CV]  max_depth=None, max_features=auto, min_samples_leaf=10, min_samples_split=4, n_estimators=100, score=0.189, total=   1.8s\n",
            "[CV] max_depth=None, max_features=auto, min_samples_leaf=10, min_samples_split=4, n_estimators=100 \n",
            "[CV]  max_depth=None, max_features=auto, min_samples_leaf=10, min_samples_split=4, n_estimators=100, score=0.263, total=   1.8s\n",
            "[CV] max_depth=None, max_features=auto, min_samples_leaf=10, min_samples_split=4, n_estimators=100 \n",
            "[CV]  max_depth=None, max_features=auto, min_samples_leaf=10, min_samples_split=4, n_estimators=100, score=0.104, total=   1.8s\n",
            "[CV] max_depth=None, max_features=auto, min_samples_leaf=10, min_samples_split=4, n_estimators=1000 \n",
            "[CV]  max_depth=None, max_features=auto, min_samples_leaf=10, min_samples_split=4, n_estimators=1000, score=0.111, total=  18.1s\n",
            "[CV] max_depth=None, max_features=auto, min_samples_leaf=10, min_samples_split=4, n_estimators=1000 \n",
            "[CV]  max_depth=None, max_features=auto, min_samples_leaf=10, min_samples_split=4, n_estimators=1000, score=0.264, total=  18.0s\n",
            "[CV] max_depth=None, max_features=auto, min_samples_leaf=10, min_samples_split=4, n_estimators=1000 \n",
            "[CV]  max_depth=None, max_features=auto, min_samples_leaf=10, min_samples_split=4, n_estimators=1000, score=0.197, total=  18.2s\n",
            "[CV] max_depth=None, max_features=auto, min_samples_leaf=10, min_samples_split=4, n_estimators=1000 \n",
            "[CV]  max_depth=None, max_features=auto, min_samples_leaf=10, min_samples_split=4, n_estimators=1000, score=0.248, total=  17.8s\n",
            "[CV] max_depth=None, max_features=auto, min_samples_leaf=10, min_samples_split=4, n_estimators=1000 \n",
            "[CV]  max_depth=None, max_features=auto, min_samples_leaf=10, min_samples_split=4, n_estimators=1000, score=0.105, total=  17.7s\n",
            "[CV] max_depth=None, max_features=auto, min_samples_leaf=10, min_samples_split=4, n_estimators=3000 \n",
            "[CV]  max_depth=None, max_features=auto, min_samples_leaf=10, min_samples_split=4, n_estimators=3000, score=0.130, total=  54.8s\n",
            "[CV] max_depth=None, max_features=auto, min_samples_leaf=10, min_samples_split=4, n_estimators=3000 \n",
            "[CV]  max_depth=None, max_features=auto, min_samples_leaf=10, min_samples_split=4, n_estimators=3000, score=0.268, total=  54.2s\n",
            "[CV] max_depth=None, max_features=auto, min_samples_leaf=10, min_samples_split=4, n_estimators=3000 \n",
            "[CV]  max_depth=None, max_features=auto, min_samples_leaf=10, min_samples_split=4, n_estimators=3000, score=0.207, total=  55.0s\n",
            "[CV] max_depth=None, max_features=auto, min_samples_leaf=10, min_samples_split=4, n_estimators=3000 \n",
            "[CV]  max_depth=None, max_features=auto, min_samples_leaf=10, min_samples_split=4, n_estimators=3000, score=0.253, total=  54.1s\n",
            "[CV] max_depth=None, max_features=auto, min_samples_leaf=10, min_samples_split=4, n_estimators=3000 \n",
            "[CV]  max_depth=None, max_features=auto, min_samples_leaf=10, min_samples_split=4, n_estimators=3000, score=0.096, total=  53.3s\n"
          ],
          "name": "stdout"
        },
        {
          "output_type": "stream",
          "text": [
            "[Parallel(n_jobs=1)]: Done 120 out of 120 | elapsed: 52.4min finished\n"
          ],
          "name": "stderr"
        },
        {
          "output_type": "execute_result",
          "data": {
            "text/plain": [
              "GridSearchCV(cv=5, error_score=nan,\n",
              "             estimator=RandomForestRegressor(bootstrap=True, ccp_alpha=0.0,\n",
              "                                             criterion='mse', max_depth=None,\n",
              "                                             max_features='auto',\n",
              "                                             max_leaf_nodes=None,\n",
              "                                             max_samples=None,\n",
              "                                             min_impurity_decrease=0.0,\n",
              "                                             min_impurity_split=None,\n",
              "                                             min_samples_leaf=1,\n",
              "                                             min_samples_split=2,\n",
              "                                             min_weight_fraction_leaf=0.0,\n",
              "                                             n_estimators=100, n_jobs=None,\n",
              "                                             oob_score=False, random_state=None,\n",
              "                                             verbose=0, warm_start=False),\n",
              "             iid='deprecated', n_jobs=None,\n",
              "             param_grid={'max_depth': [3, None], 'max_features': ['auto'],\n",
              "                         'min_samples_leaf': [1, 10],\n",
              "                         'min_samples_split': [2, 4],\n",
              "                         'n_estimators': [100, 1000, 3000]},\n",
              "             pre_dispatch='2*n_jobs', refit=True, return_train_score=False,\n",
              "             scoring=None, verbose=3)"
            ]
          },
          "metadata": {
            "tags": []
          },
          "execution_count": 21
        }
      ]
    },
    {
      "cell_type": "code",
      "metadata": {
        "id": "UDq5fQYFMn4m",
        "outputId": "e13c29d9-646c-4b09-b8aa-323172da13e0",
        "colab": {
          "base_uri": "https://localhost:8080/"
        }
      },
      "source": [
        "rf_grid.best_params_"
      ],
      "execution_count": 24,
      "outputs": [
        {
          "output_type": "execute_result",
          "data": {
            "text/plain": [
              "{'max_depth': None,\n",
              " 'max_features': 'auto',\n",
              " 'min_samples_leaf': 1,\n",
              " 'min_samples_split': 2,\n",
              " 'n_estimators': 100}"
            ]
          },
          "metadata": {
            "tags": []
          },
          "execution_count": 24
        }
      ]
    },
    {
      "cell_type": "code",
      "metadata": {
        "id": "hv-L6Tm1kvvZ",
        "colab": {
          "base_uri": "https://localhost:8080/"
        },
        "outputId": "5dd98f99-1b76-4312-e745-7be6b95a05bc"
      },
      "source": [
        "from sklearn.svm import SVR\n",
        "\n",
        "\n",
        "svr = GridSearchCV(SVR(kernel='rbf', gamma = 0.1),\n",
        "                   param_grid={\"C\": [1e0, 1e1, 1e2, 1e3],\n",
        "                               \"gamma\": np.logspace(-2, 2, 5)},\n",
        "                   scoring = scorer,\n",
        "                   cv = 5,\n",
        "                   verbose = 2)\n",
        "\n",
        "svr.fit(XX,yy)"
      ],
      "execution_count": 26,
      "outputs": [
        {
          "output_type": "stream",
          "text": [
            "Fitting 5 folds for each of 20 candidates, totalling 100 fits\n",
            "[CV] C=1.0, gamma=0.01 ...............................................\n"
          ],
          "name": "stdout"
        },
        {
          "output_type": "stream",
          "text": [
            "[Parallel(n_jobs=1)]: Using backend SequentialBackend with 1 concurrent workers.\n"
          ],
          "name": "stderr"
        },
        {
          "output_type": "stream",
          "text": [
            "[CV] ................................ C=1.0, gamma=0.01, total=   6.0s\n",
            "[CV] C=1.0, gamma=0.01 ...............................................\n"
          ],
          "name": "stdout"
        },
        {
          "output_type": "stream",
          "text": [
            "[Parallel(n_jobs=1)]: Done   1 out of   1 | elapsed:    6.0s remaining:    0.0s\n"
          ],
          "name": "stderr"
        },
        {
          "output_type": "stream",
          "text": [
            "[CV] ................................ C=1.0, gamma=0.01, total=   5.9s\n",
            "[CV] C=1.0, gamma=0.01 ...............................................\n",
            "[CV] ................................ C=1.0, gamma=0.01, total=   6.0s\n",
            "[CV] C=1.0, gamma=0.01 ...............................................\n",
            "[CV] ................................ C=1.0, gamma=0.01, total=   6.0s\n",
            "[CV] C=1.0, gamma=0.01 ...............................................\n",
            "[CV] ................................ C=1.0, gamma=0.01, total=   5.9s\n",
            "[CV] C=1.0, gamma=0.1 ................................................\n",
            "[CV] ................................. C=1.0, gamma=0.1, total=   5.8s\n",
            "[CV] C=1.0, gamma=0.1 ................................................\n",
            "[CV] ................................. C=1.0, gamma=0.1, total=   5.9s\n",
            "[CV] C=1.0, gamma=0.1 ................................................\n",
            "[CV] ................................. C=1.0, gamma=0.1, total=   5.9s\n",
            "[CV] C=1.0, gamma=0.1 ................................................\n",
            "[CV] ................................. C=1.0, gamma=0.1, total=   6.0s\n",
            "[CV] C=1.0, gamma=0.1 ................................................\n",
            "[CV] ................................. C=1.0, gamma=0.1, total=   5.9s\n",
            "[CV] C=1.0, gamma=1.0 ................................................\n",
            "[CV] ................................. C=1.0, gamma=1.0, total=   5.8s\n",
            "[CV] C=1.0, gamma=1.0 ................................................\n",
            "[CV] ................................. C=1.0, gamma=1.0, total=   5.9s\n",
            "[CV] C=1.0, gamma=1.0 ................................................\n",
            "[CV] ................................. C=1.0, gamma=1.0, total=   5.9s\n",
            "[CV] C=1.0, gamma=1.0 ................................................\n",
            "[CV] ................................. C=1.0, gamma=1.0, total=   6.0s\n",
            "[CV] C=1.0, gamma=1.0 ................................................\n",
            "[CV] ................................. C=1.0, gamma=1.0, total=   5.9s\n",
            "[CV] C=1.0, gamma=10.0 ...............................................\n",
            "[CV] ................................ C=1.0, gamma=10.0, total=   5.8s\n",
            "[CV] C=1.0, gamma=10.0 ...............................................\n",
            "[CV] ................................ C=1.0, gamma=10.0, total=   5.9s\n",
            "[CV] C=1.0, gamma=10.0 ...............................................\n",
            "[CV] ................................ C=1.0, gamma=10.0, total=   5.9s\n",
            "[CV] C=1.0, gamma=10.0 ...............................................\n",
            "[CV] ................................ C=1.0, gamma=10.0, total=   6.0s\n",
            "[CV] C=1.0, gamma=10.0 ...............................................\n",
            "[CV] ................................ C=1.0, gamma=10.0, total=   5.9s\n",
            "[CV] C=1.0, gamma=100.0 ..............................................\n",
            "[CV] ............................... C=1.0, gamma=100.0, total=   5.9s\n",
            "[CV] C=1.0, gamma=100.0 ..............................................\n",
            "[CV] ............................... C=1.0, gamma=100.0, total=   5.9s\n",
            "[CV] C=1.0, gamma=100.0 ..............................................\n",
            "[CV] ............................... C=1.0, gamma=100.0, total=   5.9s\n",
            "[CV] C=1.0, gamma=100.0 ..............................................\n",
            "[CV] ............................... C=1.0, gamma=100.0, total=   6.0s\n",
            "[CV] C=1.0, gamma=100.0 ..............................................\n",
            "[CV] ............................... C=1.0, gamma=100.0, total=   5.9s\n",
            "[CV] C=10.0, gamma=0.01 ..............................................\n",
            "[CV] ............................... C=10.0, gamma=0.01, total=   5.9s\n",
            "[CV] C=10.0, gamma=0.01 ..............................................\n",
            "[CV] ............................... C=10.0, gamma=0.01, total=   5.9s\n",
            "[CV] C=10.0, gamma=0.01 ..............................................\n",
            "[CV] ............................... C=10.0, gamma=0.01, total=   5.9s\n",
            "[CV] C=10.0, gamma=0.01 ..............................................\n",
            "[CV] ............................... C=10.0, gamma=0.01, total=   6.0s\n",
            "[CV] C=10.0, gamma=0.01 ..............................................\n",
            "[CV] ............................... C=10.0, gamma=0.01, total=   5.9s\n",
            "[CV] C=10.0, gamma=0.1 ...............................................\n",
            "[CV] ................................ C=10.0, gamma=0.1, total=   5.9s\n",
            "[CV] C=10.0, gamma=0.1 ...............................................\n",
            "[CV] ................................ C=10.0, gamma=0.1, total=   5.9s\n",
            "[CV] C=10.0, gamma=0.1 ...............................................\n",
            "[CV] ................................ C=10.0, gamma=0.1, total=   5.9s\n",
            "[CV] C=10.0, gamma=0.1 ...............................................\n",
            "[CV] ................................ C=10.0, gamma=0.1, total=   6.0s\n",
            "[CV] C=10.0, gamma=0.1 ...............................................\n",
            "[CV] ................................ C=10.0, gamma=0.1, total=   5.9s\n",
            "[CV] C=10.0, gamma=1.0 ...............................................\n",
            "[CV] ................................ C=10.0, gamma=1.0, total=   5.9s\n",
            "[CV] C=10.0, gamma=1.0 ...............................................\n",
            "[CV] ................................ C=10.0, gamma=1.0, total=   5.9s\n",
            "[CV] C=10.0, gamma=1.0 ...............................................\n",
            "[CV] ................................ C=10.0, gamma=1.0, total=   5.9s\n",
            "[CV] C=10.0, gamma=1.0 ...............................................\n",
            "[CV] ................................ C=10.0, gamma=1.0, total=   6.0s\n",
            "[CV] C=10.0, gamma=1.0 ...............................................\n",
            "[CV] ................................ C=10.0, gamma=1.0, total=   5.9s\n",
            "[CV] C=10.0, gamma=10.0 ..............................................\n",
            "[CV] ............................... C=10.0, gamma=10.0, total=   5.9s\n",
            "[CV] C=10.0, gamma=10.0 ..............................................\n",
            "[CV] ............................... C=10.0, gamma=10.0, total=   6.0s\n",
            "[CV] C=10.0, gamma=10.0 ..............................................\n",
            "[CV] ............................... C=10.0, gamma=10.0, total=   6.0s\n",
            "[CV] C=10.0, gamma=10.0 ..............................................\n",
            "[CV] ............................... C=10.0, gamma=10.0, total=   5.9s\n",
            "[CV] C=10.0, gamma=10.0 ..............................................\n",
            "[CV] ............................... C=10.0, gamma=10.0, total=   5.9s\n",
            "[CV] C=10.0, gamma=100.0 .............................................\n",
            "[CV] .............................. C=10.0, gamma=100.0, total=   5.9s\n",
            "[CV] C=10.0, gamma=100.0 .............................................\n",
            "[CV] .............................. C=10.0, gamma=100.0, total=   5.9s\n",
            "[CV] C=10.0, gamma=100.0 .............................................\n",
            "[CV] .............................. C=10.0, gamma=100.0, total=   5.9s\n",
            "[CV] C=10.0, gamma=100.0 .............................................\n",
            "[CV] .............................. C=10.0, gamma=100.0, total=   5.9s\n",
            "[CV] C=10.0, gamma=100.0 .............................................\n",
            "[CV] .............................. C=10.0, gamma=100.0, total=   5.9s\n",
            "[CV] C=100.0, gamma=0.01 .............................................\n",
            "[CV] .............................. C=100.0, gamma=0.01, total=   6.0s\n",
            "[CV] C=100.0, gamma=0.01 .............................................\n",
            "[CV] .............................. C=100.0, gamma=0.01, total=   5.9s\n",
            "[CV] C=100.0, gamma=0.01 .............................................\n",
            "[CV] .............................. C=100.0, gamma=0.01, total=   5.9s\n",
            "[CV] C=100.0, gamma=0.01 .............................................\n",
            "[CV] .............................. C=100.0, gamma=0.01, total=   6.0s\n",
            "[CV] C=100.0, gamma=0.01 .............................................\n",
            "[CV] .............................. C=100.0, gamma=0.01, total=   5.9s\n",
            "[CV] C=100.0, gamma=0.1 ..............................................\n",
            "[CV] ............................... C=100.0, gamma=0.1, total=   5.9s\n",
            "[CV] C=100.0, gamma=0.1 ..............................................\n",
            "[CV] ............................... C=100.0, gamma=0.1, total=   5.9s\n",
            "[CV] C=100.0, gamma=0.1 ..............................................\n",
            "[CV] ............................... C=100.0, gamma=0.1, total=   5.9s\n",
            "[CV] C=100.0, gamma=0.1 ..............................................\n",
            "[CV] ............................... C=100.0, gamma=0.1, total=   5.9s\n",
            "[CV] C=100.0, gamma=0.1 ..............................................\n",
            "[CV] ............................... C=100.0, gamma=0.1, total=   5.9s\n",
            "[CV] C=100.0, gamma=1.0 ..............................................\n",
            "[CV] ............................... C=100.0, gamma=1.0, total=   6.0s\n",
            "[CV] C=100.0, gamma=1.0 ..............................................\n",
            "[CV] ............................... C=100.0, gamma=1.0, total=   5.9s\n",
            "[CV] C=100.0, gamma=1.0 ..............................................\n",
            "[CV] ............................... C=100.0, gamma=1.0, total=   5.9s\n",
            "[CV] C=100.0, gamma=1.0 ..............................................\n",
            "[CV] ............................... C=100.0, gamma=1.0, total=   5.9s\n",
            "[CV] C=100.0, gamma=1.0 ..............................................\n",
            "[CV] ............................... C=100.0, gamma=1.0, total=   5.9s\n",
            "[CV] C=100.0, gamma=10.0 .............................................\n",
            "[CV] .............................. C=100.0, gamma=10.0, total=   5.9s\n",
            "[CV] C=100.0, gamma=10.0 .............................................\n",
            "[CV] .............................. C=100.0, gamma=10.0, total=   5.9s\n",
            "[CV] C=100.0, gamma=10.0 .............................................\n",
            "[CV] .............................. C=100.0, gamma=10.0, total=   5.9s\n",
            "[CV] C=100.0, gamma=10.0 .............................................\n",
            "[CV] .............................. C=100.0, gamma=10.0, total=   5.9s\n",
            "[CV] C=100.0, gamma=10.0 .............................................\n",
            "[CV] .............................. C=100.0, gamma=10.0, total=   6.0s\n",
            "[CV] C=100.0, gamma=100.0 ............................................\n",
            "[CV] ............................. C=100.0, gamma=100.0, total=   5.9s\n",
            "[CV] C=100.0, gamma=100.0 ............................................\n",
            "[CV] ............................. C=100.0, gamma=100.0, total=   5.9s\n",
            "[CV] C=100.0, gamma=100.0 ............................................\n",
            "[CV] ............................. C=100.0, gamma=100.0, total=   5.9s\n",
            "[CV] C=100.0, gamma=100.0 ............................................\n",
            "[CV] ............................. C=100.0, gamma=100.0, total=   5.9s\n",
            "[CV] C=100.0, gamma=100.0 ............................................\n",
            "[CV] ............................. C=100.0, gamma=100.0, total=   5.9s\n",
            "[CV] C=1000.0, gamma=0.01 ............................................\n",
            "[CV] ............................. C=1000.0, gamma=0.01, total=   6.0s\n",
            "[CV] C=1000.0, gamma=0.01 ............................................\n",
            "[CV] ............................. C=1000.0, gamma=0.01, total=   5.9s\n",
            "[CV] C=1000.0, gamma=0.01 ............................................\n",
            "[CV] ............................. C=1000.0, gamma=0.01, total=   5.9s\n",
            "[CV] C=1000.0, gamma=0.01 ............................................\n",
            "[CV] ............................. C=1000.0, gamma=0.01, total=   5.9s\n",
            "[CV] C=1000.0, gamma=0.01 ............................................\n",
            "[CV] ............................. C=1000.0, gamma=0.01, total=   5.9s\n",
            "[CV] C=1000.0, gamma=0.1 .............................................\n",
            "[CV] .............................. C=1000.0, gamma=0.1, total=   5.9s\n",
            "[CV] C=1000.0, gamma=0.1 .............................................\n",
            "[CV] .............................. C=1000.0, gamma=0.1, total=   5.9s\n",
            "[CV] C=1000.0, gamma=0.1 .............................................\n",
            "[CV] .............................. C=1000.0, gamma=0.1, total=   5.9s\n",
            "[CV] C=1000.0, gamma=0.1 .............................................\n",
            "[CV] .............................. C=1000.0, gamma=0.1, total=   5.9s\n",
            "[CV] C=1000.0, gamma=0.1 .............................................\n",
            "[CV] .............................. C=1000.0, gamma=0.1, total=   5.9s\n",
            "[CV] C=1000.0, gamma=1.0 .............................................\n",
            "[CV] .............................. C=1000.0, gamma=1.0, total=   5.9s\n",
            "[CV] C=1000.0, gamma=1.0 .............................................\n",
            "[CV] .............................. C=1000.0, gamma=1.0, total=   5.9s\n",
            "[CV] C=1000.0, gamma=1.0 .............................................\n",
            "[CV] .............................. C=1000.0, gamma=1.0, total=   5.9s\n",
            "[CV] C=1000.0, gamma=1.0 .............................................\n",
            "[CV] .............................. C=1000.0, gamma=1.0, total=   6.0s\n",
            "[CV] C=1000.0, gamma=1.0 .............................................\n",
            "[CV] .............................. C=1000.0, gamma=1.0, total=   5.9s\n",
            "[CV] C=1000.0, gamma=10.0 ............................................\n",
            "[CV] ............................. C=1000.0, gamma=10.0, total=   5.9s\n",
            "[CV] C=1000.0, gamma=10.0 ............................................\n",
            "[CV] ............................. C=1000.0, gamma=10.0, total=   5.9s\n",
            "[CV] C=1000.0, gamma=10.0 ............................................\n",
            "[CV] ............................. C=1000.0, gamma=10.0, total=   5.9s\n",
            "[CV] C=1000.0, gamma=10.0 ............................................\n",
            "[CV] ............................. C=1000.0, gamma=10.0, total=   5.9s\n",
            "[CV] C=1000.0, gamma=10.0 ............................................\n",
            "[CV] ............................. C=1000.0, gamma=10.0, total=   5.9s\n",
            "[CV] C=1000.0, gamma=100.0 ...........................................\n",
            "[CV] ............................ C=1000.0, gamma=100.0, total=   6.0s\n",
            "[CV] C=1000.0, gamma=100.0 ...........................................\n",
            "[CV] ............................ C=1000.0, gamma=100.0, total=   5.9s\n",
            "[CV] C=1000.0, gamma=100.0 ...........................................\n",
            "[CV] ............................ C=1000.0, gamma=100.0, total=   5.9s\n",
            "[CV] C=1000.0, gamma=100.0 ...........................................\n",
            "[CV] ............................ C=1000.0, gamma=100.0, total=   5.9s\n",
            "[CV] C=1000.0, gamma=100.0 ...........................................\n",
            "[CV] ............................ C=1000.0, gamma=100.0, total=   5.9s\n"
          ],
          "name": "stdout"
        },
        {
          "output_type": "stream",
          "text": [
            "[Parallel(n_jobs=1)]: Done 100 out of 100 | elapsed:  9.9min finished\n"
          ],
          "name": "stderr"
        },
        {
          "output_type": "execute_result",
          "data": {
            "text/plain": [
              "GridSearchCV(cv=5, error_score=nan,\n",
              "             estimator=SVR(C=1.0, cache_size=200, coef0=0.0, degree=3,\n",
              "                           epsilon=0.1, gamma=0.1, kernel='rbf', max_iter=-1,\n",
              "                           shrinking=True, tol=0.001, verbose=False),\n",
              "             iid='deprecated', n_jobs=None,\n",
              "             param_grid={'C': [1.0, 10.0, 100.0, 1000.0],\n",
              "                         'gamma': array([1.e-02, 1.e-01, 1.e+00, 1.e+01, 1.e+02])},\n",
              "             pre_dispatch='2*n_jobs', refit=True, return_train_score=False,\n",
              "             scoring=make_scorer(mean_squared_error, greater_is_better=False),\n",
              "             verbose=2)"
            ]
          },
          "metadata": {
            "tags": []
          },
          "execution_count": 26
        }
      ]
    },
    {
      "cell_type": "code",
      "metadata": {
        "id": "jdtTWbdayGn4",
        "colab": {
          "base_uri": "https://localhost:8080/"
        },
        "outputId": "a09d58d9-b3ec-4675-8bdc-8726d89f2417"
      },
      "source": [
        "svr_best = svr.best_estimator_\n",
        "\n",
        "pca = PCA(n_components = 0.95, svd_solver = 'full')\n",
        "\n",
        "y_train_pred = []\n",
        "y_test_pred = []\n",
        "\n",
        "for train_index, test_index in tqdm(kf.split(XX), total = num_of_splits, unit = 'iteration'):\n",
        "\n",
        "  X_train_std, X_test_std = XX[train_index,:], XX[test_index,:]\n",
        "  y_train, y_test = yy.iloc[train_index], yy.iloc[test_index]\n",
        "\n",
        "  pca.fit(XX)\n",
        "  \n",
        "  X_train_pca = pca.transform(X_train_std)\n",
        "  X_test_pca = pca.transform(X_test_std)\n",
        "  \n",
        "  svr_best.fit(X_train_pca,y_train)\n",
        "  \n",
        "  y_train_pred.append(mean_squared_error(y_train,svr_best.predict(X_train_pca), squared = False))\n",
        "  y_test_pred.append(mean_squared_error(y_test,svr_best.predict(X_test_pca), squared = False))"
      ],
      "execution_count": 27,
      "outputs": [
        {
          "output_type": "stream",
          "text": [
            "100%|██████████| 10/10 [00:50<00:00,  5.10s/iteration]\n"
          ],
          "name": "stderr"
        }
      ]
    },
    {
      "cell_type": "code",
      "metadata": {
        "id": "plhQEdG_zP5r",
        "colab": {
          "base_uri": "https://localhost:8080/"
        },
        "outputId": "fb230266-f7d1-4e05-9116-837c598d75fe"
      },
      "source": [
        "np.mean(y_train_pred)"
      ],
      "execution_count": 28,
      "outputs": [
        {
          "output_type": "execute_result",
          "data": {
            "text/plain": [
              "7.57190670704602"
            ]
          },
          "metadata": {
            "tags": []
          },
          "execution_count": 28
        }
      ]
    },
    {
      "cell_type": "code",
      "metadata": {
        "id": "YLiP8aPSzKHz",
        "colab": {
          "base_uri": "https://localhost:8080/"
        },
        "outputId": "ab6410b9-b7d6-4493-cfa6-668d419e0d34"
      },
      "source": [
        "np.mean(y_test_pred)"
      ],
      "execution_count": 29,
      "outputs": [
        {
          "output_type": "execute_result",
          "data": {
            "text/plain": [
              "8.408145494162543"
            ]
          },
          "metadata": {
            "tags": []
          },
          "execution_count": 29
        }
      ]
    }
  ]
}