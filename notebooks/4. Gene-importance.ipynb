{
  "nbformat": 4,
  "nbformat_minor": 0,
  "metadata": {
    "colab": {
      "name": "Ensemble-regression.ipynb",
      "provenance": [],
      "authorship_tag": "ABX9TyNFWWxycv/K9MuK5NtgzMVI",
      "include_colab_link": true
    },
    "kernelspec": {
      "name": "python3",
      "display_name": "Python 3"
    },
    "language_info": {
      "name": "python"
    }
  },
  "cells": [
    {
      "cell_type": "markdown",
      "metadata": {
        "id": "view-in-github",
        "colab_type": "text"
      },
      "source": [
        "<a href=\"https://colab.research.google.com/github/nebojsa55/Computational-Genomics_MidTerm-Project/blob/master/notebooks/4.%20Gene-importance.ipynb\" target=\"_parent\"><img src=\"https://colab.research.google.com/assets/colab-badge.svg\" alt=\"Open In Colab\"/></a>"
      ]
    },
    {
      "cell_type": "markdown",
      "metadata": {
        "id": "F6zNsqDiD9mO"
      },
      "source": [
        "# Description\n",
        "\n",
        "In this notebook features will be sorted by importance based on *SelectKBest* class from *sklearn.feature_selection*. Then top 10 features will be plotted with their respective K scores."
      ]
    },
    {
      "cell_type": "code",
      "metadata": {
        "colab": {
          "base_uri": "https://localhost:8080/"
        },
        "id": "odqEpblQrer8",
        "outputId": "81380672-7c26-42df-d6df-3843d2e35def"
      },
      "source": [
        "import numpy as np\n",
        "import pandas as pd\n",
        "from google.colab import drive\n",
        "drive.mount('/content/drive')\n",
        "\n",
        "# Navigate to the folder cointaing our data\n",
        "%cd 'drive/MyDrive/ETF/Master/Computational-Genomics/Project/data'"
      ],
      "execution_count": 1,
      "outputs": [
        {
          "output_type": "stream",
          "text": [
            "Mounted at /content/drive\n",
            "/content/drive/MyDrive/ETF/Master/Computational-Genomics/Project/data\n"
          ],
          "name": "stdout"
        }
      ]
    },
    {
      "cell_type": "code",
      "metadata": {
        "colab": {
          "base_uri": "https://localhost:8080/"
        },
        "id": "ABqJA8XPWFWA",
        "outputId": "9363f47a-2ebb-4e1d-e2ff-2006b3445d4a"
      },
      "source": [
        "anno = pd.read_csv('anoSC1_v11_nokey.csv', delimiter = ',', index_col = 0)\n",
        "HTA20_RMA = pd.read_csv('HTA20_RMA.csv', delimiter = ',', index_col = 0).transpose()\n",
        "\n",
        "# Sync the X and y data by sorting the labels\n",
        "\n",
        "df1 = anno.sort_index()\n",
        "df2 = HTA20_RMA.sort_index()\n",
        "\n",
        "X = df2.iloc[np.array(np.logical_not(df1['GA'].isna())),:]\n",
        "y = df1.dropna().loc[:,['GA','Batch']]\n",
        "\n",
        "# Check to see if the indexes are the same\n",
        "(X.index == y.index).all()"
      ],
      "execution_count": 2,
      "outputs": [
        {
          "output_type": "execute_result",
          "data": {
            "text/plain": [
              "True"
            ]
          },
          "metadata": {
            "tags": []
          },
          "execution_count": 2
        }
      ]
    },
    {
      "cell_type": "code",
      "metadata": {
        "id": "thYgD7WOqe6Q"
      },
      "source": [
        "# Drop Sample_X samples\n",
        "\n",
        "X = X.iloc[32:,:]\n",
        "y = y.iloc[32:,:]"
      ],
      "execution_count": 3,
      "outputs": []
    },
    {
      "cell_type": "code",
      "metadata": {
        "id": "2Dz3Zn44WZS5"
      },
      "source": [
        "from sklearn.preprocessing import StandardScaler\n",
        "\n",
        "XX = np.zeros(X.shape)\n",
        "for i in [1,2,3,4,5,6,7,8,9,10]:\n",
        "    scale = StandardScaler()\n",
        "    indices = np.bool8(y['Batch'] == i)\n",
        "    Xtemp = X.iloc[indices,:]\n",
        "    scale.fit(Xtemp)\n",
        "    XX[indices,:] = scale.transform(Xtemp)\n",
        "\n",
        "# delete batch column\n",
        "yy = y['GA']"
      ],
      "execution_count": 4,
      "outputs": []
    },
    {
      "cell_type": "code",
      "metadata": {
        "id": "ehQQDhbHrNct",
        "colab": {
          "base_uri": "https://localhost:8080/",
          "height": 424
        },
        "outputId": "ab6ed22f-e04a-4355-9d7a-8768ff826009"
      },
      "source": [
        "from sklearn.feature_selection import f_regression,SelectKBest\n",
        "\n",
        "selector = SelectKBest(f_regression, k = 'all')\n",
        "selector.fit(XX,yy)\n",
        "scores = pd.DataFrame()\n",
        "\n",
        "scores['Gene'] = X.columns\n",
        "scores['Kscore'] = selector.scores_\n",
        "\n",
        "# Sort the scores by descending orded\n",
        "scores = scores.sort_values(by = 'Kscore', ascending = False)\n",
        "\n",
        "scores"
      ],
      "execution_count": 5,
      "outputs": [
        {
          "output_type": "execute_result",
          "data": {
            "text/html": [
              "<div>\n",
              "<style scoped>\n",
              "    .dataframe tbody tr th:only-of-type {\n",
              "        vertical-align: middle;\n",
              "    }\n",
              "\n",
              "    .dataframe tbody tr th {\n",
              "        vertical-align: top;\n",
              "    }\n",
              "\n",
              "    .dataframe thead th {\n",
              "        text-align: right;\n",
              "    }\n",
              "</style>\n",
              "<table border=\"1\" class=\"dataframe\">\n",
              "  <thead>\n",
              "    <tr style=\"text-align: right;\">\n",
              "      <th></th>\n",
              "      <th>Gene</th>\n",
              "      <th>Kscore</th>\n",
              "    </tr>\n",
              "  </thead>\n",
              "  <tbody>\n",
              "    <tr>\n",
              "      <th>14087</th>\n",
              "      <td>199675_at</td>\n",
              "      <td>7.228141e+01</td>\n",
              "    </tr>\n",
              "    <tr>\n",
              "      <th>15451</th>\n",
              "      <td>2359_at</td>\n",
              "      <td>6.260472e+01</td>\n",
              "    </tr>\n",
              "    <tr>\n",
              "      <th>19256</th>\n",
              "      <td>3507_at</td>\n",
              "      <td>5.793563e+01</td>\n",
              "    </tr>\n",
              "    <tr>\n",
              "      <th>32431</th>\n",
              "      <td>9619_at</td>\n",
              "      <td>5.783298e+01</td>\n",
              "    </tr>\n",
              "    <tr>\n",
              "      <th>27388</th>\n",
              "      <td>6689_at</td>\n",
              "      <td>5.216264e+01</td>\n",
              "    </tr>\n",
              "    <tr>\n",
              "      <th>...</th>\n",
              "      <td>...</td>\n",
              "      <td>...</td>\n",
              "    </tr>\n",
              "    <tr>\n",
              "      <th>32164</th>\n",
              "      <td>9370_at</td>\n",
              "      <td>9.532947e-08</td>\n",
              "    </tr>\n",
              "    <tr>\n",
              "      <th>2888</th>\n",
              "      <td>100652824_at</td>\n",
              "      <td>5.852026e-08</td>\n",
              "    </tr>\n",
              "    <tr>\n",
              "      <th>22193</th>\n",
              "      <td>50506_at</td>\n",
              "      <td>4.329672e-08</td>\n",
              "    </tr>\n",
              "    <tr>\n",
              "      <th>8980</th>\n",
              "      <td>1057_at</td>\n",
              "      <td>4.068522e-08</td>\n",
              "    </tr>\n",
              "    <tr>\n",
              "      <th>26710</th>\n",
              "      <td>646309_at</td>\n",
              "      <td>1.077209e-08</td>\n",
              "    </tr>\n",
              "  </tbody>\n",
              "</table>\n",
              "<p>32830 rows × 2 columns</p>\n",
              "</div>"
            ],
            "text/plain": [
              "               Gene        Kscore\n",
              "14087     199675_at  7.228141e+01\n",
              "15451       2359_at  6.260472e+01\n",
              "19256       3507_at  5.793563e+01\n",
              "32431       9619_at  5.783298e+01\n",
              "27388       6689_at  5.216264e+01\n",
              "...             ...           ...\n",
              "32164       9370_at  9.532947e-08\n",
              "2888   100652824_at  5.852026e-08\n",
              "22193      50506_at  4.329672e-08\n",
              "8980        1057_at  4.068522e-08\n",
              "26710     646309_at  1.077209e-08\n",
              "\n",
              "[32830 rows x 2 columns]"
            ]
          },
          "metadata": {
            "tags": []
          },
          "execution_count": 5
        }
      ]
    },
    {
      "cell_type": "code",
      "metadata": {
        "colab": {
          "base_uri": "https://localhost:8080/",
          "height": 363
        },
        "id": "VR1tgoVpI1bo",
        "outputId": "f0a0b451-0870-403c-ea52-47322c932557"
      },
      "source": [
        "# Select the first 10 genes\n",
        "\n",
        "scores_10 = scores.iloc[0:10,:]\n",
        "scores_10"
      ],
      "execution_count": 6,
      "outputs": [
        {
          "output_type": "execute_result",
          "data": {
            "text/html": [
              "<div>\n",
              "<style scoped>\n",
              "    .dataframe tbody tr th:only-of-type {\n",
              "        vertical-align: middle;\n",
              "    }\n",
              "\n",
              "    .dataframe tbody tr th {\n",
              "        vertical-align: top;\n",
              "    }\n",
              "\n",
              "    .dataframe thead th {\n",
              "        text-align: right;\n",
              "    }\n",
              "</style>\n",
              "<table border=\"1\" class=\"dataframe\">\n",
              "  <thead>\n",
              "    <tr style=\"text-align: right;\">\n",
              "      <th></th>\n",
              "      <th>Gene</th>\n",
              "      <th>Kscore</th>\n",
              "    </tr>\n",
              "  </thead>\n",
              "  <tbody>\n",
              "    <tr>\n",
              "      <th>14087</th>\n",
              "      <td>199675_at</td>\n",
              "      <td>72.281406</td>\n",
              "    </tr>\n",
              "    <tr>\n",
              "      <th>15451</th>\n",
              "      <td>2359_at</td>\n",
              "      <td>62.604719</td>\n",
              "    </tr>\n",
              "    <tr>\n",
              "      <th>19256</th>\n",
              "      <td>3507_at</td>\n",
              "      <td>57.935625</td>\n",
              "    </tr>\n",
              "    <tr>\n",
              "      <th>32431</th>\n",
              "      <td>9619_at</td>\n",
              "      <td>57.832976</td>\n",
              "    </tr>\n",
              "    <tr>\n",
              "      <th>27388</th>\n",
              "      <td>6689_at</td>\n",
              "      <td>52.162642</td>\n",
              "    </tr>\n",
              "    <tr>\n",
              "      <th>21692</th>\n",
              "      <td>4481_at</td>\n",
              "      <td>51.882048</td>\n",
              "    </tr>\n",
              "    <tr>\n",
              "      <th>18559</th>\n",
              "      <td>326624_at</td>\n",
              "      <td>51.610679</td>\n",
              "    </tr>\n",
              "    <tr>\n",
              "      <th>32544</th>\n",
              "      <td>973_at</td>\n",
              "      <td>50.016548</td>\n",
              "    </tr>\n",
              "    <tr>\n",
              "      <th>22823</th>\n",
              "      <td>5169_at</td>\n",
              "      <td>49.733886</td>\n",
              "    </tr>\n",
              "    <tr>\n",
              "      <th>29063</th>\n",
              "      <td>79087_at</td>\n",
              "      <td>47.355061</td>\n",
              "    </tr>\n",
              "  </tbody>\n",
              "</table>\n",
              "</div>"
            ],
            "text/plain": [
              "            Gene     Kscore\n",
              "14087  199675_at  72.281406\n",
              "15451    2359_at  62.604719\n",
              "19256    3507_at  57.935625\n",
              "32431    9619_at  57.832976\n",
              "27388    6689_at  52.162642\n",
              "21692    4481_at  51.882048\n",
              "18559  326624_at  51.610679\n",
              "32544     973_at  50.016548\n",
              "22823    5169_at  49.733886\n",
              "29063   79087_at  47.355061"
            ]
          },
          "metadata": {
            "tags": []
          },
          "execution_count": 6
        }
      ]
    },
    {
      "cell_type": "code",
      "metadata": {
        "colab": {
          "base_uri": "https://localhost:8080/",
          "height": 382
        },
        "id": "UBshSdVCMbJS",
        "outputId": "0c55f923-f624-4c25-984a-b11f19188c59"
      },
      "source": [
        "# Plot top 10 gene scores\n",
        "\n",
        "import seaborn as sb\n",
        "import matplotlib\n",
        "import matplotlib.pyplot as plt\n",
        "\n",
        "matplotlib.rcParams.update({'font.size': 12})\n",
        "plt.figure(figsize = (3,10), dpi = 300)\n",
        "sb.catplot(x = \"Kscore\", \n",
        "           y = \"Gene\", \n",
        "           data = scores_10, \n",
        "           kind = \"bar\",\n",
        "           orient = \"h\",\n",
        "           color = \"gray\"\n",
        "           ).tight_layout()\n",
        "\n"
      ],
      "execution_count": 7,
      "outputs": [
        {
          "output_type": "display_data",
          "data": {
            "text/plain": [
              "<Figure size 900x3000 with 0 Axes>"
            ]
          },
          "metadata": {
            "tags": []
          }
        },
        {
          "output_type": "display_data",
          "data": {
            "image/png": "[encoded data removed]",
            "text/plain": [
              "<Figure size 360x360 with 1 Axes>"
            ]
          },
          "metadata": {
            "tags": [],
            "needs_background": "light"
          }
        }
      ]
    }
  ]
}