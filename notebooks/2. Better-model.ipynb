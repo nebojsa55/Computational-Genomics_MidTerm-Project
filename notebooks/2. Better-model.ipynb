{
  "nbformat": 4,
  "nbformat_minor": 0,
  "metadata": {
    "colab": {
      "name": "Ensemble-regression.ipynb",
      "provenance": [],
      "authorship_tag": "ABX9TyOBmEgqjnxniXg+L2ZoeHCA",
      "include_colab_link": true
    },
    "kernelspec": {
      "name": "python3",
      "display_name": "Python 3"
    },
    "language_info": {
      "name": "python"
    }
  },
  "cells": [
    {
      "cell_type": "markdown",
      "metadata": {
        "id": "view-in-github",
        "colab_type": "text"
      },
      "source": [
        "<a href=\"https://colab.research.google.com/github/nebojsa55/Computational-Genomics_MidTerm-Project/blob/master/notebooks/2.Better_model.ipynb\" target=\"_parent\"><img src=\"https://colab.research.google.com/assets/colab-badge.svg\" alt=\"Open In Colab\"/></a>"
      ]
    },
    {
      "cell_type": "markdown",
      "metadata": {
        "id": "F6zNsqDiD9mO"
      },
      "source": [
        "# Description\n",
        "In this notebook, we will try a different approach in feature selection. In the first notebook, PCA was used (295 components in total), and the models did not provide good accuracies. We will now use  **Select K Best** method and tune the parameter K to get the best model. \n",
        "\n",
        "Random Forest and Support Vector regressors will have the previously determined 'optimal' parameters.\n",
        "\n",
        "The main scoring of the best K features will be **f_regression** from sklearn.features_selection module that is specially designed to work with SelectKBest class to provide F-scores for every feature.\n",
        "\n",
        "Also, by carefully reviewing the data, I've found samples from different sets, and some samples from set **'GSE113966'** seem to be outliers. Further analysis will exclude those samples (32 total)\n"
      ]
    },
    {
      "cell_type": "code",
      "metadata": {
        "colab": {
          "base_uri": "https://localhost:8080/"
        },
        "id": "odqEpblQrer8",
        "outputId": "72f72a4b-dbc6-43cf-8029-2ec11202d870"
      },
      "source": [
        "import numpy as np\n",
        "import pandas as pd\n",
        "from google.colab import drive\n",
        "drive.mount('/content/drive')\n",
        "\n",
        "# Navigate to the folder cointaing our data\n",
        "%cd 'drive/MyDrive/ETF/Master/Computational-Genomics/Project/data'"
      ],
      "execution_count": 1,
      "outputs": [
        {
          "output_type": "stream",
          "text": [
            "Mounted at /content/drive\n",
            "/content/drive/MyDrive/ETF/Master/Computational-Genomics/Project/data\n"
          ],
          "name": "stdout"
        }
      ]
    },
    {
      "cell_type": "code",
      "metadata": {
        "colab": {
          "base_uri": "https://localhost:8080/"
        },
        "id": "ABqJA8XPWFWA",
        "outputId": "f5b16a2e-6c9b-4b62-ce0a-60dcfbea53d1"
      },
      "source": [
        "anno = pd.read_csv('anoSC1_v11_nokey.csv', delimiter = ',', index_col = 0)\n",
        "HTA20_RMA = pd.read_csv('HTA20_RMA.csv', delimiter = ',', index_col = 0).transpose()\n",
        "\n",
        "# Sync the X and y data by sorting the labels\n",
        "\n",
        "df1 = anno.sort_index()\n",
        "df2 = HTA20_RMA.sort_index()\n",
        "\n",
        "X = df2.iloc[np.array(np.logical_not(df1['GA'].isna())),:]\n",
        "y = df1.dropna().loc[:,['GA','Batch']]\n",
        "\n",
        "# Check to see if the indexes are the same\n",
        "(X.index == y.index).all()"
      ],
      "execution_count": 2,
      "outputs": [
        {
          "output_type": "execute_result",
          "data": {
            "text/plain": [
              "True"
            ]
          },
          "metadata": {
            "tags": []
          },
          "execution_count": 2
        }
      ]
    },
    {
      "cell_type": "code",
      "metadata": {
        "id": "thYgD7WOqe6Q"
      },
      "source": [
        "# Drop Sample_X samples\n",
        "\n",
        "X = X.iloc[32:,:]\n",
        "y = y.iloc[32:,:]"
      ],
      "execution_count": 3,
      "outputs": []
    },
    {
      "cell_type": "code",
      "metadata": {
        "id": "2Dz3Zn44WZS5"
      },
      "source": [
        "from sklearn.preprocessing import StandardScaler\n",
        "\n",
        "XX = np.zeros(X.shape)\n",
        "for i in [1,2,3,4,5,6,7,8,9,10]:\n",
        "    scale = StandardScaler()\n",
        "    indices = np.bool8(y['Batch'] == i)\n",
        "    Xtemp = X.iloc[indices,:]\n",
        "    scale.fit(Xtemp)\n",
        "    XX[indices,:] = scale.transform(Xtemp)\n",
        "\n",
        "# delete batch column\n",
        "yy = y['GA']"
      ],
      "execution_count": 4,
      "outputs": []
    },
    {
      "cell_type": "code",
      "metadata": {
        "id": "ehQQDhbHrNct",
        "colab": {
          "base_uri": "https://localhost:8080/"
        },
        "outputId": "dc1a76d2-d9fc-4f29-a033-9a92c37e0369"
      },
      "source": [
        "from sklearn.feature_selection import f_regression,SelectKBest\n",
        "from sklearn.svm import SVR\n",
        "from sklearn.ensemble import RandomForestRegressor\n",
        "from sklearn.model_selection import cross_val_score\n",
        "from sklearn.metrics import mean_squared_error,make_scorer\n",
        "from sklearn.model_selection import KFold\n",
        "\n",
        "# Create our models\n",
        "rf_model = RandomForestRegressor(n_estimators = 400,\n",
        "                                 max_depth = None,\n",
        "                                 min_samples_leaf = 1,\n",
        "                                 min_samples_split = 4)\n",
        "\n",
        "svr_model = SVR(kernel = 'rbf', C = 1.0, gamma = 0.01)\n",
        "\n",
        "# Create the scorer for cross_val_score\n",
        "scorer = make_scorer(mean_squared_error, greater_is_better = False)\n",
        "\n",
        "# Create KFold \n",
        "kfold = KFold(n_splits = 10, shuffle = True, random_state = 42)\n",
        "\n",
        "# Create lists where cv score will be saved\n",
        "cv_rf = []\n",
        "cv_svr = []\n",
        "\n",
        "for ktemp in [500,1000,2000,3000,5000,10000]:\n",
        "  X_best = SelectKBest(f_regression,k = ktemp).fit_transform(XX,yy)\n",
        "  \n",
        "  # Random forest\n",
        "  cv_rf.append(cross_val_score(rf_model, \n",
        "                          X_best, \n",
        "                          yy,\n",
        "                          cv = kfold, \n",
        "                          scoring=scorer, \n",
        "                          verbose = 3))\n",
        "  \n",
        "  # SVR\n",
        "  cv_svr.append(cross_val_score(svr_model, \n",
        "                          X_best, \n",
        "                          yy,\n",
        "                          cv = kfold, \n",
        "                          scoring=scorer, \n",
        "                          verbose = 3))"
      ],
      "execution_count": 5,
      "outputs": [
        {
          "output_type": "stream",
          "text": [
            "[Parallel(n_jobs=1)]: Using backend SequentialBackend with 1 concurrent workers.\n"
          ],
          "name": "stderr"
        },
        {
          "output_type": "stream",
          "text": [
            "[CV]  ................................................................\n",
            "[CV] .................................. , score=-32.132, total=  20.0s\n",
            "[CV]  ................................................................\n"
          ],
          "name": "stdout"
        },
        {
          "output_type": "stream",
          "text": [
            "[Parallel(n_jobs=1)]: Done   1 out of   1 | elapsed:   20.0s remaining:    0.0s\n"
          ],
          "name": "stderr"
        },
        {
          "output_type": "stream",
          "text": [
            "[CV] .................................. , score=-51.710, total=  20.2s\n",
            "[CV]  ................................................................\n"
          ],
          "name": "stdout"
        },
        {
          "output_type": "stream",
          "text": [
            "[Parallel(n_jobs=1)]: Done   2 out of   2 | elapsed:   40.2s remaining:    0.0s\n"
          ],
          "name": "stderr"
        },
        {
          "output_type": "stream",
          "text": [
            "[CV] .................................. , score=-35.595, total=  20.1s\n",
            "[CV]  ................................................................\n",
            "[CV] .................................. , score=-27.029, total=  20.0s\n",
            "[CV]  ................................................................\n",
            "[CV] .................................. , score=-46.322, total=  20.1s\n",
            "[CV]  ................................................................\n",
            "[CV] .................................. , score=-39.304, total=  20.1s\n",
            "[CV]  ................................................................\n",
            "[CV] .................................. , score=-23.180, total=  20.0s\n",
            "[CV]  ................................................................\n",
            "[CV] .................................. , score=-61.370, total=  20.5s\n",
            "[CV]  ................................................................\n",
            "[CV] .................................. , score=-29.397, total=  20.2s\n",
            "[CV]  ................................................................\n",
            "[CV] .................................. , score=-26.743, total=  20.2s\n",
            "[CV]  ................................................................\n",
            "[CV] .................................. , score=-68.904, total=   0.1s\n",
            "[CV]  ................................................................\n",
            "[CV] .................................. , score=-69.314, total=   0.1s\n",
            "[CV]  ................................................................\n"
          ],
          "name": "stdout"
        },
        {
          "output_type": "stream",
          "text": [
            "[Parallel(n_jobs=1)]: Done  10 out of  10 | elapsed:  3.4min finished\n",
            "[Parallel(n_jobs=1)]: Using backend SequentialBackend with 1 concurrent workers.\n",
            "[Parallel(n_jobs=1)]: Done   1 out of   1 | elapsed:    0.1s remaining:    0.0s\n",
            "[Parallel(n_jobs=1)]: Done   2 out of   2 | elapsed:    0.2s remaining:    0.0s\n"
          ],
          "name": "stderr"
        },
        {
          "output_type": "stream",
          "text": [
            "[CV] .................................. , score=-61.582, total=   0.1s\n",
            "[CV]  ................................................................\n",
            "[CV] .................................. , score=-63.346, total=   0.1s\n",
            "[CV]  ................................................................\n",
            "[CV] .................................. , score=-62.859, total=   0.1s\n",
            "[CV]  ................................................................\n",
            "[CV] .................................. , score=-68.552, total=   0.1s\n",
            "[CV]  ................................................................\n",
            "[CV] .................................. , score=-52.261, total=   0.1s\n",
            "[CV]  ................................................................\n",
            "[CV] ................................. , score=-101.017, total=   0.1s\n",
            "[CV]  ................................................................\n",
            "[CV] .................................. , score=-55.077, total=   0.1s\n",
            "[CV]  ................................................................\n",
            "[CV] .................................. , score=-54.980, total=   0.1s\n",
            "[CV]  ................................................................\n"
          ],
          "name": "stdout"
        },
        {
          "output_type": "stream",
          "text": [
            "[Parallel(n_jobs=1)]: Done  10 out of  10 | elapsed:    0.9s finished\n",
            "[Parallel(n_jobs=1)]: Using backend SequentialBackend with 1 concurrent workers.\n"
          ],
          "name": "stderr"
        },
        {
          "output_type": "stream",
          "text": [
            "[CV] .................................. , score=-32.733, total=  39.1s\n",
            "[CV]  ................................................................\n"
          ],
          "name": "stdout"
        },
        {
          "output_type": "stream",
          "text": [
            "[Parallel(n_jobs=1)]: Done   1 out of   1 | elapsed:   39.1s remaining:    0.0s\n"
          ],
          "name": "stderr"
        },
        {
          "output_type": "stream",
          "text": [
            "[CV] .................................. , score=-51.268, total=  39.7s\n",
            "[CV]  ................................................................\n"
          ],
          "name": "stdout"
        },
        {
          "output_type": "stream",
          "text": [
            "[Parallel(n_jobs=1)]: Done   2 out of   2 | elapsed:  1.3min remaining:    0.0s\n"
          ],
          "name": "stderr"
        },
        {
          "output_type": "stream",
          "text": [
            "[CV] .................................. , score=-36.509, total=  39.3s\n",
            "[CV]  ................................................................\n",
            "[CV] .................................. , score=-28.043, total=  39.8s\n",
            "[CV]  ................................................................\n",
            "[CV] .................................. , score=-45.612, total=  39.3s\n",
            "[CV]  ................................................................\n",
            "[CV] .................................. , score=-39.198, total=  39.3s\n",
            "[CV]  ................................................................\n",
            "[CV] .................................. , score=-22.974, total=  38.9s\n",
            "[CV]  ................................................................\n",
            "[CV] .................................. , score=-61.600, total=  40.0s\n",
            "[CV]  ................................................................\n",
            "[CV] .................................. , score=-27.382, total=  39.4s\n",
            "[CV]  ................................................................\n",
            "[CV] .................................. , score=-30.598, total=  39.4s\n",
            "[CV]  ................................................................\n",
            "[CV] .................................. , score=-70.145, total=   0.2s\n",
            "[CV]  ................................................................\n"
          ],
          "name": "stdout"
        },
        {
          "output_type": "stream",
          "text": [
            "[Parallel(n_jobs=1)]: Done  10 out of  10 | elapsed:  6.6min finished\n",
            "[Parallel(n_jobs=1)]: Using backend SequentialBackend with 1 concurrent workers.\n",
            "[Parallel(n_jobs=1)]: Done   1 out of   1 | elapsed:    0.2s remaining:    0.0s\n"
          ],
          "name": "stderr"
        },
        {
          "output_type": "stream",
          "text": [
            "[CV] .................................. , score=-69.721, total=   0.2s\n",
            "[CV]  ................................................................\n",
            "[CV] .................................. , score=-62.090, total=   0.2s\n",
            "[CV]  ................................................................\n"
          ],
          "name": "stdout"
        },
        {
          "output_type": "stream",
          "text": [
            "[Parallel(n_jobs=1)]: Done   2 out of   2 | elapsed:    0.3s remaining:    0.0s\n"
          ],
          "name": "stderr"
        },
        {
          "output_type": "stream",
          "text": [
            "[CV] .................................. , score=-63.899, total=   0.2s\n",
            "[CV]  ................................................................\n",
            "[CV] .................................. , score=-63.248, total=   0.2s\n",
            "[CV]  ................................................................\n",
            "[CV] .................................. , score=-69.283, total=   0.2s\n",
            "[CV]  ................................................................\n",
            "[CV] .................................. , score=-52.992, total=   0.2s\n",
            "[CV]  ................................................................\n",
            "[CV] ................................. , score=-101.981, total=   0.2s\n",
            "[CV]  ................................................................\n",
            "[CV] .................................. , score=-55.846, total=   0.2s\n",
            "[CV]  ................................................................\n",
            "[CV] .................................. , score=-55.954, total=   0.2s\n",
            "[CV]  ................................................................\n"
          ],
          "name": "stdout"
        },
        {
          "output_type": "stream",
          "text": [
            "[Parallel(n_jobs=1)]: Done  10 out of  10 | elapsed:    1.7s finished\n",
            "[Parallel(n_jobs=1)]: Using backend SequentialBackend with 1 concurrent workers.\n"
          ],
          "name": "stderr"
        },
        {
          "output_type": "stream",
          "text": [
            "[CV] .................................. , score=-32.476, total= 1.3min\n",
            "[CV]  ................................................................\n"
          ],
          "name": "stdout"
        },
        {
          "output_type": "stream",
          "text": [
            "[Parallel(n_jobs=1)]: Done   1 out of   1 | elapsed:  1.3min remaining:    0.0s\n"
          ],
          "name": "stderr"
        },
        {
          "output_type": "stream",
          "text": [
            "[CV] .................................. , score=-49.260, total= 1.3min\n",
            "[CV]  ................................................................\n"
          ],
          "name": "stdout"
        },
        {
          "output_type": "stream",
          "text": [
            "[Parallel(n_jobs=1)]: Done   2 out of   2 | elapsed:  2.6min remaining:    0.0s\n"
          ],
          "name": "stderr"
        },
        {
          "output_type": "stream",
          "text": [
            "[CV] .................................. , score=-37.136, total= 1.3min\n",
            "[CV]  ................................................................\n",
            "[CV] .................................. , score=-29.965, total= 1.3min\n",
            "[CV]  ................................................................\n",
            "[CV] .................................. , score=-47.070, total= 1.3min\n",
            "[CV]  ................................................................\n",
            "[CV] .................................. , score=-39.296, total= 1.3min\n",
            "[CV]  ................................................................\n",
            "[CV] .................................. , score=-24.656, total= 1.3min\n",
            "[CV]  ................................................................\n",
            "[CV] .................................. , score=-61.233, total= 1.3min\n",
            "[CV]  ................................................................\n",
            "[CV] .................................. , score=-29.951, total= 1.3min\n",
            "[CV]  ................................................................\n",
            "[CV] .................................. , score=-30.679, total= 1.3min\n",
            "[CV]  ................................................................\n"
          ],
          "name": "stdout"
        },
        {
          "output_type": "stream",
          "text": [
            "[Parallel(n_jobs=1)]: Done  10 out of  10 | elapsed: 13.0min finished\n",
            "[Parallel(n_jobs=1)]: Using backend SequentialBackend with 1 concurrent workers.\n"
          ],
          "name": "stderr"
        },
        {
          "output_type": "stream",
          "text": [
            "[CV] .................................. , score=-70.171, total=   0.3s\n",
            "[CV]  ................................................................\n"
          ],
          "name": "stdout"
        },
        {
          "output_type": "stream",
          "text": [
            "[Parallel(n_jobs=1)]: Done   1 out of   1 | elapsed:    0.3s remaining:    0.0s\n"
          ],
          "name": "stderr"
        },
        {
          "output_type": "stream",
          "text": [
            "[CV] .................................. , score=-69.732, total=   0.3s\n",
            "[CV]  ................................................................\n"
          ],
          "name": "stdout"
        },
        {
          "output_type": "stream",
          "text": [
            "[Parallel(n_jobs=1)]: Done   2 out of   2 | elapsed:    0.7s remaining:    0.0s\n"
          ],
          "name": "stderr"
        },
        {
          "output_type": "stream",
          "text": [
            "[CV] .................................. , score=-62.098, total=   0.3s\n",
            "[CV]  ................................................................\n",
            "[CV] .................................. , score=-63.871, total=   0.3s\n",
            "[CV]  ................................................................\n",
            "[CV] .................................. , score=-63.209, total=   0.3s\n",
            "[CV]  ................................................................\n",
            "[CV] .................................. , score=-69.299, total=   0.3s\n",
            "[CV]  ................................................................\n",
            "[CV] .................................. , score=-53.001, total=   0.3s\n",
            "[CV]  ................................................................\n",
            "[CV] ................................. , score=-101.995, total=   0.3s\n",
            "[CV]  ................................................................\n",
            "[CV] .................................. , score=-55.853, total=   0.3s\n",
            "[CV]  ................................................................\n",
            "[CV] .................................. , score=-55.978, total=   0.3s\n",
            "[CV]  ................................................................\n"
          ],
          "name": "stdout"
        },
        {
          "output_type": "stream",
          "text": [
            "[Parallel(n_jobs=1)]: Done  10 out of  10 | elapsed:    3.3s finished\n",
            "[Parallel(n_jobs=1)]: Using backend SequentialBackend with 1 concurrent workers.\n"
          ],
          "name": "stderr"
        },
        {
          "output_type": "stream",
          "text": [
            "[CV] .................................. , score=-33.416, total= 1.9min\n",
            "[CV]  ................................................................\n"
          ],
          "name": "stdout"
        },
        {
          "output_type": "stream",
          "text": [
            "[Parallel(n_jobs=1)]: Done   1 out of   1 | elapsed:  1.9min remaining:    0.0s\n"
          ],
          "name": "stderr"
        },
        {
          "output_type": "stream",
          "text": [
            "[CV] .................................. , score=-50.721, total= 2.0min\n",
            "[CV]  ................................................................\n"
          ],
          "name": "stdout"
        },
        {
          "output_type": "stream",
          "text": [
            "[Parallel(n_jobs=1)]: Done   2 out of   2 | elapsed:  3.9min remaining:    0.0s\n"
          ],
          "name": "stderr"
        },
        {
          "output_type": "stream",
          "text": [
            "[CV] .................................. , score=-37.406, total= 2.0min\n",
            "[CV]  ................................................................\n",
            "[CV] .................................. , score=-31.431, total= 2.0min\n",
            "[CV]  ................................................................\n",
            "[CV] .................................. , score=-48.034, total= 2.0min\n",
            "[CV]  ................................................................\n",
            "[CV] .................................. , score=-40.694, total= 2.0min\n",
            "[CV]  ................................................................\n",
            "[CV] .................................. , score=-25.672, total= 1.9min\n",
            "[CV]  ................................................................\n",
            "[CV] .................................. , score=-61.499, total= 2.0min\n",
            "[CV]  ................................................................\n",
            "[CV] .................................. , score=-31.401, total= 2.0min\n",
            "[CV]  ................................................................\n",
            "[CV] .................................. , score=-30.636, total= 2.0min\n",
            "[CV]  ................................................................\n"
          ],
          "name": "stdout"
        },
        {
          "output_type": "stream",
          "text": [
            "[Parallel(n_jobs=1)]: Done  10 out of  10 | elapsed: 19.7min finished\n",
            "[Parallel(n_jobs=1)]: Using backend SequentialBackend with 1 concurrent workers.\n"
          ],
          "name": "stderr"
        },
        {
          "output_type": "stream",
          "text": [
            "[CV] .................................. , score=-70.171, total=   0.5s\n",
            "[CV]  ................................................................\n"
          ],
          "name": "stdout"
        },
        {
          "output_type": "stream",
          "text": [
            "[Parallel(n_jobs=1)]: Done   1 out of   1 | elapsed:    0.5s remaining:    0.0s\n"
          ],
          "name": "stderr"
        },
        {
          "output_type": "stream",
          "text": [
            "[CV] .................................. , score=-69.732, total=   0.5s\n",
            "[CV]  ................................................................\n"
          ],
          "name": "stdout"
        },
        {
          "output_type": "stream",
          "text": [
            "[Parallel(n_jobs=1)]: Done   2 out of   2 | elapsed:    1.0s remaining:    0.0s\n"
          ],
          "name": "stderr"
        },
        {
          "output_type": "stream",
          "text": [
            "[CV] .................................. , score=-62.098, total=   0.5s\n",
            "[CV]  ................................................................\n",
            "[CV] .................................. , score=-63.870, total=   0.5s\n",
            "[CV]  ................................................................\n",
            "[CV] .................................. , score=-63.208, total=   0.5s\n",
            "[CV]  ................................................................\n",
            "[CV] .................................. , score=-69.299, total=   0.5s\n",
            "[CV]  ................................................................\n",
            "[CV] .................................. , score=-53.001, total=   0.5s\n",
            "[CV]  ................................................................\n",
            "[CV] ................................. , score=-101.995, total=   0.5s\n",
            "[CV]  ................................................................\n",
            "[CV] .................................. , score=-55.853, total=   0.5s\n",
            "[CV]  ................................................................\n",
            "[CV] .................................. , score=-55.978, total=   0.5s\n",
            "[CV]  ................................................................\n"
          ],
          "name": "stdout"
        },
        {
          "output_type": "stream",
          "text": [
            "[Parallel(n_jobs=1)]: Done  10 out of  10 | elapsed:    5.0s finished\n",
            "[Parallel(n_jobs=1)]: Using backend SequentialBackend with 1 concurrent workers.\n"
          ],
          "name": "stderr"
        },
        {
          "output_type": "stream",
          "text": [
            "[CV] .................................. , score=-33.187, total= 3.3min\n",
            "[CV]  ................................................................\n"
          ],
          "name": "stdout"
        },
        {
          "output_type": "stream",
          "text": [
            "[Parallel(n_jobs=1)]: Done   1 out of   1 | elapsed:  3.3min remaining:    0.0s\n"
          ],
          "name": "stderr"
        },
        {
          "output_type": "stream",
          "text": [
            "[CV] .................................. , score=-52.673, total= 3.3min\n",
            "[CV]  ................................................................\n"
          ],
          "name": "stdout"
        },
        {
          "output_type": "stream",
          "text": [
            "[Parallel(n_jobs=1)]: Done   2 out of   2 | elapsed:  6.6min remaining:    0.0s\n"
          ],
          "name": "stderr"
        },
        {
          "output_type": "stream",
          "text": [
            "[CV] .................................. , score=-38.618, total= 3.3min\n",
            "[CV]  ................................................................\n",
            "[CV] .................................. , score=-31.974, total= 3.4min\n",
            "[CV]  ................................................................\n",
            "[CV] .................................. , score=-49.639, total= 3.3min\n",
            "[CV]  ................................................................\n",
            "[CV] .................................. , score=-41.879, total= 3.3min\n",
            "[CV]  ................................................................\n",
            "[CV] .................................. , score=-26.027, total= 3.3min\n",
            "[CV]  ................................................................\n",
            "[CV] .................................. , score=-62.155, total= 3.3min\n",
            "[CV]  ................................................................\n",
            "[CV] .................................. , score=-31.755, total= 3.3min\n",
            "[CV]  ................................................................\n",
            "[CV] .................................. , score=-30.920, total= 3.3min\n",
            "[CV]  ................................................................\n"
          ],
          "name": "stdout"
        },
        {
          "output_type": "stream",
          "text": [
            "[Parallel(n_jobs=1)]: Done  10 out of  10 | elapsed: 33.1min finished\n",
            "[Parallel(n_jobs=1)]: Using backend SequentialBackend with 1 concurrent workers.\n"
          ],
          "name": "stderr"
        },
        {
          "output_type": "stream",
          "text": [
            "[CV] .................................. , score=-70.171, total=   0.9s\n",
            "[CV]  ................................................................\n"
          ],
          "name": "stdout"
        },
        {
          "output_type": "stream",
          "text": [
            "[Parallel(n_jobs=1)]: Done   1 out of   1 | elapsed:    0.9s remaining:    0.0s\n"
          ],
          "name": "stderr"
        },
        {
          "output_type": "stream",
          "text": [
            "[CV] .................................. , score=-69.732, total=   0.8s\n",
            "[CV]  ................................................................\n"
          ],
          "name": "stdout"
        },
        {
          "output_type": "stream",
          "text": [
            "[Parallel(n_jobs=1)]: Done   2 out of   2 | elapsed:    1.7s remaining:    0.0s\n"
          ],
          "name": "stderr"
        },
        {
          "output_type": "stream",
          "text": [
            "[CV] .................................. , score=-62.098, total=   0.9s\n",
            "[CV]  ................................................................\n",
            "[CV] .................................. , score=-63.870, total=   0.9s\n",
            "[CV]  ................................................................\n",
            "[CV] .................................. , score=-63.208, total=   0.9s\n",
            "[CV]  ................................................................\n",
            "[CV] .................................. , score=-69.299, total=   0.8s\n",
            "[CV]  ................................................................\n",
            "[CV] .................................. , score=-53.001, total=   0.9s\n",
            "[CV]  ................................................................\n",
            "[CV] ................................. , score=-101.995, total=   0.8s\n",
            "[CV]  ................................................................\n",
            "[CV] .................................. , score=-55.853, total=   0.9s\n",
            "[CV]  ................................................................\n",
            "[CV] .................................. , score=-55.978, total=   0.9s\n",
            "[CV]  ................................................................\n"
          ],
          "name": "stdout"
        },
        {
          "output_type": "stream",
          "text": [
            "[Parallel(n_jobs=1)]: Done  10 out of  10 | elapsed:    8.6s finished\n",
            "[Parallel(n_jobs=1)]: Using backend SequentialBackend with 1 concurrent workers.\n"
          ],
          "name": "stderr"
        },
        {
          "output_type": "stream",
          "text": [
            "[CV] .................................. , score=-36.291, total= 6.8min\n",
            "[CV]  ................................................................\n"
          ],
          "name": "stdout"
        },
        {
          "output_type": "stream",
          "text": [
            "[Parallel(n_jobs=1)]: Done   1 out of   1 | elapsed:  6.8min remaining:    0.0s\n"
          ],
          "name": "stderr"
        },
        {
          "output_type": "stream",
          "text": [
            "[CV] .................................. , score=-52.439, total= 6.7min\n",
            "[CV]  ................................................................\n"
          ],
          "name": "stdout"
        },
        {
          "output_type": "stream",
          "text": [
            "[Parallel(n_jobs=1)]: Done   2 out of   2 | elapsed: 13.4min remaining:    0.0s\n"
          ],
          "name": "stderr"
        },
        {
          "output_type": "stream",
          "text": [
            "[CV] .................................. , score=-40.151, total= 6.7min\n",
            "[CV]  ................................................................\n",
            "[CV] .................................. , score=-33.714, total= 6.7min\n",
            "[CV]  ................................................................\n",
            "[CV] .................................. , score=-48.438, total= 6.7min\n",
            "[CV]  ................................................................\n",
            "[CV] .................................. , score=-42.835, total= 6.7min\n",
            "[CV]  ................................................................\n",
            "[CV] .................................. , score=-28.028, total= 6.7min\n",
            "[CV]  ................................................................\n",
            "[CV] .................................. , score=-66.899, total= 6.8min\n",
            "[CV]  ................................................................\n",
            "[CV] .................................. , score=-32.550, total= 6.8min\n",
            "[CV]  ................................................................\n",
            "[CV] .................................. , score=-32.874, total= 6.8min\n",
            "[CV]  ................................................................\n"
          ],
          "name": "stdout"
        },
        {
          "output_type": "stream",
          "text": [
            "[Parallel(n_jobs=1)]: Done  10 out of  10 | elapsed: 67.4min finished\n",
            "[Parallel(n_jobs=1)]: Using backend SequentialBackend with 1 concurrent workers.\n"
          ],
          "name": "stderr"
        },
        {
          "output_type": "stream",
          "text": [
            "[CV] .................................. , score=-70.171, total=   1.7s\n",
            "[CV]  ................................................................\n"
          ],
          "name": "stdout"
        },
        {
          "output_type": "stream",
          "text": [
            "[Parallel(n_jobs=1)]: Done   1 out of   1 | elapsed:    1.7s remaining:    0.0s\n"
          ],
          "name": "stderr"
        },
        {
          "output_type": "stream",
          "text": [
            "[CV] .................................. , score=-69.732, total=   1.7s\n",
            "[CV]  ................................................................\n"
          ],
          "name": "stdout"
        },
        {
          "output_type": "stream",
          "text": [
            "[Parallel(n_jobs=1)]: Done   2 out of   2 | elapsed:    3.4s remaining:    0.0s\n"
          ],
          "name": "stderr"
        },
        {
          "output_type": "stream",
          "text": [
            "[CV] .................................. , score=-62.098, total=   1.7s\n",
            "[CV]  ................................................................\n",
            "[CV] .................................. , score=-63.870, total=   1.7s\n",
            "[CV]  ................................................................\n",
            "[CV] .................................. , score=-63.208, total=   1.7s\n",
            "[CV]  ................................................................\n",
            "[CV] .................................. , score=-69.299, total=   1.7s\n",
            "[CV]  ................................................................\n",
            "[CV] .................................. , score=-53.001, total=   1.7s\n",
            "[CV]  ................................................................\n",
            "[CV] ................................. , score=-101.995, total=   1.7s\n",
            "[CV]  ................................................................\n",
            "[CV] .................................. , score=-55.853, total=   1.7s\n",
            "[CV]  ................................................................\n",
            "[CV] .................................. , score=-55.978, total=   1.7s\n"
          ],
          "name": "stdout"
        },
        {
          "output_type": "stream",
          "text": [
            "[Parallel(n_jobs=1)]: Done  10 out of  10 | elapsed:   17.1s finished\n"
          ],
          "name": "stderr"
        }
      ]
    },
    {
      "cell_type": "code",
      "metadata": {
        "colab": {
          "base_uri": "https://localhost:8080/"
        },
        "id": "1fjs1s2Rt2IR",
        "outputId": "8f19fb83-af58-4f51-c3a1-7872da1b5e0b"
      },
      "source": [
        "rmse_rf = [np.mean(np.sqrt(np.abs(x))) for x in cv_rf]\n",
        "rmse_rf"
      ],
      "execution_count": 10,
      "outputs": [
        {
          "output_type": "execute_result",
          "data": {
            "text/plain": [
              "[6.034167006409765,\n",
              " 6.063969214754349,\n",
              " 6.1216962106212875,\n",
              " 6.1982268247399235,\n",
              " 6.258539036337153,\n",
              " 6.382534412607984]"
            ]
          },
          "metadata": {
            "tags": []
          },
          "execution_count": 10
        }
      ]
    },
    {
      "cell_type": "code",
      "metadata": {
        "id": "5lrBjBqh7oDZ",
        "colab": {
          "base_uri": "https://localhost:8080/"
        },
        "outputId": "c5031b45-c924-4484-92bc-25cb0f93c39c"
      },
      "source": [
        "rmse_svr = [np.mean(np.sqrt(np.abs(x))) for x in cv_svr]\n",
        "rmse_svr"
      ],
      "execution_count": 11,
      "outputs": [
        {
          "output_type": "execute_result",
          "data": {
            "text/plain": [
              "[8.075687868159163,\n",
              " 8.120651240652332,\n",
              " 8.12092800076083,\n",
              " 8.120916923902438,\n",
              " 8.120916806265408,\n",
              " 8.12091680626173]"
            ]
          },
          "metadata": {
            "tags": []
          },
          "execution_count": 11
        }
      ]
    },
    {
      "cell_type": "markdown",
      "metadata": {
        "id": "p0Rs7JCNq2vj"
      },
      "source": [
        "We can observe that the RF model gives much better results than SVR. Also, the best results are for 500 best features and then it constantly goes slightly up. \n",
        "\n",
        "Let's try to decrease the K parameter.\n"
      ]
    },
    {
      "cell_type": "code",
      "metadata": {
        "colab": {
          "base_uri": "https://localhost:8080/"
        },
        "id": "J1OTUrn_rH78",
        "outputId": "09e51d8d-8b61-4e76-c685-0fc3c9bfbf75"
      },
      "source": [
        "cv_rf_v2 = []\n",
        "\n",
        "for ktemp in [200,300,400,500]:\n",
        "  X_best = SelectKBest(f_regression,k = ktemp).fit_transform(XX,yy)\n",
        "  \n",
        "  # Random forest\n",
        "  cv_rf_v2.append(cross_val_score(rf_model, \n",
        "                          X_best, \n",
        "                          yy,\n",
        "                          cv = kfold, \n",
        "                          scoring=scorer, \n",
        "                          verbose = 3))"
      ],
      "execution_count": 14,
      "outputs": [
        {
          "output_type": "stream",
          "text": [
            "[Parallel(n_jobs=1)]: Using backend SequentialBackend with 1 concurrent workers.\n"
          ],
          "name": "stderr"
        },
        {
          "output_type": "stream",
          "text": [
            "[CV]  ................................................................\n",
            "[CV] .................................. , score=-31.326, total=   8.6s\n",
            "[CV]  ................................................................\n"
          ],
          "name": "stdout"
        },
        {
          "output_type": "stream",
          "text": [
            "[Parallel(n_jobs=1)]: Done   1 out of   1 | elapsed:    8.6s remaining:    0.0s\n"
          ],
          "name": "stderr"
        },
        {
          "output_type": "stream",
          "text": [
            "[CV] .................................. , score=-50.413, total=   8.6s\n",
            "[CV]  ................................................................\n"
          ],
          "name": "stdout"
        },
        {
          "output_type": "stream",
          "text": [
            "[Parallel(n_jobs=1)]: Done   2 out of   2 | elapsed:   17.1s remaining:    0.0s\n"
          ],
          "name": "stderr"
        },
        {
          "output_type": "stream",
          "text": [
            "[CV] .................................. , score=-35.596, total=   8.5s\n",
            "[CV]  ................................................................\n",
            "[CV] .................................. , score=-26.888, total=   8.6s\n",
            "[CV]  ................................................................\n",
            "[CV] .................................. , score=-43.719, total=   8.6s\n",
            "[CV]  ................................................................\n",
            "[CV] .................................. , score=-38.133, total=   8.5s\n",
            "[CV]  ................................................................\n",
            "[CV] .................................. , score=-22.023, total=   8.5s\n",
            "[CV]  ................................................................\n",
            "[CV] .................................. , score=-57.010, total=   8.7s\n",
            "[CV]  ................................................................\n",
            "[CV] .................................. , score=-26.652, total=   8.6s\n",
            "[CV]  ................................................................\n",
            "[CV] .................................. , score=-27.905, total=   8.6s\n",
            "[CV]  ................................................................\n"
          ],
          "name": "stdout"
        },
        {
          "output_type": "stream",
          "text": [
            "[Parallel(n_jobs=1)]: Done  10 out of  10 | elapsed:  1.4min finished\n",
            "[Parallel(n_jobs=1)]: Using backend SequentialBackend with 1 concurrent workers.\n"
          ],
          "name": "stderr"
        },
        {
          "output_type": "stream",
          "text": [
            "[CV] .................................. , score=-30.003, total=  12.5s\n",
            "[CV]  ................................................................\n"
          ],
          "name": "stdout"
        },
        {
          "output_type": "stream",
          "text": [
            "[Parallel(n_jobs=1)]: Done   1 out of   1 | elapsed:   12.5s remaining:    0.0s\n"
          ],
          "name": "stderr"
        },
        {
          "output_type": "stream",
          "text": [
            "[CV] .................................. , score=-52.076, total=  12.5s\n",
            "[CV]  ................................................................\n"
          ],
          "name": "stdout"
        },
        {
          "output_type": "stream",
          "text": [
            "[Parallel(n_jobs=1)]: Done   2 out of   2 | elapsed:   25.0s remaining:    0.0s\n"
          ],
          "name": "stderr"
        },
        {
          "output_type": "stream",
          "text": [
            "[CV] .................................. , score=-35.832, total=  12.4s\n",
            "[CV]  ................................................................\n",
            "[CV] .................................. , score=-26.785, total=  12.7s\n",
            "[CV]  ................................................................\n",
            "[CV] .................................. , score=-45.280, total=  12.5s\n",
            "[CV]  ................................................................\n",
            "[CV] .................................. , score=-38.356, total=  12.4s\n",
            "[CV]  ................................................................\n",
            "[CV] .................................. , score=-22.185, total=  12.4s\n",
            "[CV]  ................................................................\n",
            "[CV] .................................. , score=-59.738, total=  12.8s\n",
            "[CV]  ................................................................\n",
            "[CV] .................................. , score=-26.794, total=  12.6s\n",
            "[CV]  ................................................................\n",
            "[CV] .................................. , score=-29.964, total=  12.6s\n",
            "[CV]  ................................................................\n"
          ],
          "name": "stdout"
        },
        {
          "output_type": "stream",
          "text": [
            "[Parallel(n_jobs=1)]: Done  10 out of  10 | elapsed:  2.1min finished\n",
            "[Parallel(n_jobs=1)]: Using backend SequentialBackend with 1 concurrent workers.\n"
          ],
          "name": "stderr"
        },
        {
          "output_type": "stream",
          "text": [
            "[CV] .................................. , score=-32.320, total=  16.1s\n",
            "[CV]  ................................................................\n"
          ],
          "name": "stdout"
        },
        {
          "output_type": "stream",
          "text": [
            "[Parallel(n_jobs=1)]: Done   1 out of   1 | elapsed:   16.1s remaining:    0.0s\n"
          ],
          "name": "stderr"
        },
        {
          "output_type": "stream",
          "text": [
            "[CV] .................................. , score=-50.232, total=  16.3s\n",
            "[CV]  ................................................................\n"
          ],
          "name": "stdout"
        },
        {
          "output_type": "stream",
          "text": [
            "[Parallel(n_jobs=1)]: Done   2 out of   2 | elapsed:   32.5s remaining:    0.0s\n"
          ],
          "name": "stderr"
        },
        {
          "output_type": "stream",
          "text": [
            "[CV] .................................. , score=-37.067, total=  16.2s\n",
            "[CV]  ................................................................\n",
            "[CV] .................................. , score=-27.217, total=  16.5s\n",
            "[CV]  ................................................................\n",
            "[CV] .................................. , score=-46.709, total=  16.5s\n",
            "[CV]  ................................................................\n",
            "[CV] .................................. , score=-37.885, total=  16.3s\n",
            "[CV]  ................................................................\n",
            "[CV] .................................. , score=-22.919, total=  16.3s\n",
            "[CV]  ................................................................\n",
            "[CV] .................................. , score=-62.118, total=  16.7s\n",
            "[CV]  ................................................................\n",
            "[CV] .................................. , score=-28.142, total=  16.5s\n",
            "[CV]  ................................................................\n",
            "[CV] .................................. , score=-29.261, total=  16.6s\n",
            "[CV]  ................................................................\n"
          ],
          "name": "stdout"
        },
        {
          "output_type": "stream",
          "text": [
            "[Parallel(n_jobs=1)]: Done  10 out of  10 | elapsed:  2.7min finished\n",
            "[Parallel(n_jobs=1)]: Using backend SequentialBackend with 1 concurrent workers.\n"
          ],
          "name": "stderr"
        },
        {
          "output_type": "stream",
          "text": [
            "[CV] .................................. , score=-32.150, total=  20.3s\n",
            "[CV]  ................................................................\n"
          ],
          "name": "stdout"
        },
        {
          "output_type": "stream",
          "text": [
            "[Parallel(n_jobs=1)]: Done   1 out of   1 | elapsed:   20.3s remaining:    0.0s\n"
          ],
          "name": "stderr"
        },
        {
          "output_type": "stream",
          "text": [
            "[CV] .................................. , score=-50.226, total=  20.4s\n",
            "[CV]  ................................................................\n"
          ],
          "name": "stdout"
        },
        {
          "output_type": "stream",
          "text": [
            "[Parallel(n_jobs=1)]: Done   2 out of   2 | elapsed:   40.7s remaining:    0.0s\n"
          ],
          "name": "stderr"
        },
        {
          "output_type": "stream",
          "text": [
            "[CV] .................................. , score=-35.109, total=  20.1s\n",
            "[CV]  ................................................................\n",
            "[CV] .................................. , score=-28.281, total=  20.5s\n",
            "[CV]  ................................................................\n",
            "[CV] .................................. , score=-46.592, total=  20.0s\n",
            "[CV]  ................................................................\n",
            "[CV] .................................. , score=-39.294, total=  20.0s\n",
            "[CV]  ................................................................\n",
            "[CV] .................................. , score=-21.716, total=  19.9s\n",
            "[CV]  ................................................................\n",
            "[CV] .................................. , score=-61.703, total=  20.5s\n",
            "[CV]  ................................................................\n",
            "[CV] .................................. , score=-28.453, total=  20.1s\n",
            "[CV]  ................................................................\n",
            "[CV] .................................. , score=-29.268, total=  20.3s\n"
          ],
          "name": "stdout"
        },
        {
          "output_type": "stream",
          "text": [
            "[Parallel(n_jobs=1)]: Done  10 out of  10 | elapsed:  3.4min finished\n"
          ],
          "name": "stderr"
        }
      ]
    },
    {
      "cell_type": "code",
      "metadata": {
        "colab": {
          "base_uri": "https://localhost:8080/"
        },
        "id": "1PIMz9kquSXq",
        "outputId": "e776efca-2612-4f66-ecdf-2cbfcd77a4c2"
      },
      "source": [
        "rmse_rf_v2 = [np.mean(np.sqrt(np.abs(x))) for x in cv_rf_v2]\n",
        "rmse_rf_v2  "
      ],
      "execution_count": 16,
      "outputs": [
        {
          "output_type": "execute_result",
          "data": {
            "text/plain": [
              "[5.932461934311158, 5.986688128705596, 6.045040161180783, 6.035397854068846]"
            ]
          },
          "metadata": {
            "tags": []
          },
          "execution_count": 16
        }
      ]
    },
    {
      "cell_type": "markdown",
      "metadata": {
        "id": "iFZKY9qPxKgj"
      },
      "source": [
        "K = **200** produces the best result of rmse = **5.932**. PCA analysis provided more than 200 components. So what happened? \n",
        "\n",
        "**f_regression** is a linear estimate test, and it appears that the data is very well suited for a simple linear regressor. In one last try in notebook #3, we will attempt to implement **linear regression** to see if we can lower the rmse test error even further."
      ]
    }
  ]
}