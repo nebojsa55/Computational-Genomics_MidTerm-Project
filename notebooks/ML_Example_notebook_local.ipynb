{
  "nbformat": 4,
  "nbformat_minor": 0,
  "metadata": {
    "colab": {
      "name": "ML-Example-notebook.ipynb",
      "provenance": [],
      "authorship_tag": "ABX9TyPP/NV1y8u4NiMCw3h1i0my",
      "include_colab_link": true
    },
    "kernelspec": {
      "name": "python3",
      "display_name": "Python 3",
      "language": "python"
    },
    "widgets": {
      "application/vnd.jupyter.widget-state+json": {
        "1f1899c270e94ba3bc0ee54f68d56536": {
          "model_module": "@jupyter-widgets/controls",
          "model_name": "HBoxModel",
          "state": {
            "_view_name": "HBoxView",
            "_dom_classes": [],
            "_model_name": "HBoxModel",
            "_view_module": "@jupyter-widgets/controls",
            "_model_module_version": "1.5.0",
            "_view_count": null,
            "_view_module_version": "1.5.0",
            "box_style": "",
            "layout": "IPY_MODEL_328acf64b9724bdf84cf988e01f3dea2",
            "_model_module": "@jupyter-widgets/controls",
            "children": [
              "IPY_MODEL_28b83d9f8a6d44858ada51eb72c7f9b2",
              "IPY_MODEL_62c465d170724f5b9e98b963a2807da4"
            ]
          }
        },
        "328acf64b9724bdf84cf988e01f3dea2": {
          "model_module": "@jupyter-widgets/base",
          "model_name": "LayoutModel",
          "state": {
            "_view_name": "LayoutView",
            "grid_template_rows": null,
            "right": null,
            "justify_content": null,
            "_view_module": "@jupyter-widgets/base",
            "overflow": null,
            "_model_module_version": "1.2.0",
            "_view_count": null,
            "flex_flow": null,
            "width": null,
            "min_width": null,
            "border": null,
            "align_items": null,
            "bottom": null,
            "_model_module": "@jupyter-widgets/base",
            "top": null,
            "grid_column": null,
            "overflow_y": null,
            "overflow_x": null,
            "grid_auto_flow": null,
            "grid_area": null,
            "grid_template_columns": null,
            "flex": null,
            "_model_name": "LayoutModel",
            "justify_items": null,
            "grid_row": null,
            "max_height": null,
            "align_content": null,
            "visibility": null,
            "align_self": null,
            "height": null,
            "min_height": null,
            "padding": null,
            "grid_auto_rows": null,
            "grid_gap": null,
            "max_width": null,
            "order": null,
            "_view_module_version": "1.2.0",
            "grid_template_areas": null,
            "object_position": null,
            "object_fit": null,
            "grid_auto_columns": null,
            "margin": null,
            "display": null,
            "left": null
          }
        },
        "28b83d9f8a6d44858ada51eb72c7f9b2": {
          "model_module": "@jupyter-widgets/controls",
          "model_name": "FloatProgressModel",
          "state": {
            "_view_name": "ProgressView",
            "style": "IPY_MODEL_fc35396fc1044769be5e7c6e6ee6f47e",
            "_dom_classes": [],
            "description": "  0%",
            "_model_name": "FloatProgressModel",
            "bar_style": "danger",
            "max": 10,
            "_view_module": "@jupyter-widgets/controls",
            "_model_module_version": "1.5.0",
            "value": 0,
            "_view_count": null,
            "_view_module_version": "1.5.0",
            "orientation": "horizontal",
            "min": 0,
            "description_tooltip": null,
            "_model_module": "@jupyter-widgets/controls",
            "layout": "IPY_MODEL_e8bdd6255cbf481baaaf3735b1073e11"
          }
        },
        "62c465d170724f5b9e98b963a2807da4": {
          "model_module": "@jupyter-widgets/controls",
          "model_name": "HTMLModel",
          "state": {
            "_view_name": "HTMLView",
            "style": "IPY_MODEL_245f4ae6bdc9418c96fd9f313fe7b4d8",
            "_dom_classes": [],
            "description": "",
            "_model_name": "HTMLModel",
            "placeholder": "​",
            "_view_module": "@jupyter-widgets/controls",
            "_model_module_version": "1.5.0",
            "value": " 0/10 [00:00&lt;?, ?iteration/s]",
            "_view_count": null,
            "_view_module_version": "1.5.0",
            "description_tooltip": null,
            "_model_module": "@jupyter-widgets/controls",
            "layout": "IPY_MODEL_2bdb5f50511d4534ab84fb87de145e22"
          }
        },
        "fc35396fc1044769be5e7c6e6ee6f47e": {
          "model_module": "@jupyter-widgets/controls",
          "model_name": "ProgressStyleModel",
          "state": {
            "_view_name": "StyleView",
            "_model_name": "ProgressStyleModel",
            "description_width": "initial",
            "_view_module": "@jupyter-widgets/base",
            "_model_module_version": "1.5.0",
            "_view_count": null,
            "_view_module_version": "1.2.0",
            "bar_color": null,
            "_model_module": "@jupyter-widgets/controls"
          }
        },
        "e8bdd6255cbf481baaaf3735b1073e11": {
          "model_module": "@jupyter-widgets/base",
          "model_name": "LayoutModel",
          "state": {
            "_view_name": "LayoutView",
            "grid_template_rows": null,
            "right": null,
            "justify_content": null,
            "_view_module": "@jupyter-widgets/base",
            "overflow": null,
            "_model_module_version": "1.2.0",
            "_view_count": null,
            "flex_flow": null,
            "width": null,
            "min_width": null,
            "border": null,
            "align_items": null,
            "bottom": null,
            "_model_module": "@jupyter-widgets/base",
            "top": null,
            "grid_column": null,
            "overflow_y": null,
            "overflow_x": null,
            "grid_auto_flow": null,
            "grid_area": null,
            "grid_template_columns": null,
            "flex": null,
            "_model_name": "LayoutModel",
            "justify_items": null,
            "grid_row": null,
            "max_height": null,
            "align_content": null,
            "visibility": null,
            "align_self": null,
            "height": null,
            "min_height": null,
            "padding": null,
            "grid_auto_rows": null,
            "grid_gap": null,
            "max_width": null,
            "order": null,
            "_view_module_version": "1.2.0",
            "grid_template_areas": null,
            "object_position": null,
            "object_fit": null,
            "grid_auto_columns": null,
            "margin": null,
            "display": null,
            "left": null
          }
        },
        "245f4ae6bdc9418c96fd9f313fe7b4d8": {
          "model_module": "@jupyter-widgets/controls",
          "model_name": "DescriptionStyleModel",
          "state": {
            "_view_name": "StyleView",
            "_model_name": "DescriptionStyleModel",
            "description_width": "",
            "_view_module": "@jupyter-widgets/base",
            "_model_module_version": "1.5.0",
            "_view_count": null,
            "_view_module_version": "1.2.0",
            "_model_module": "@jupyter-widgets/controls"
          }
        },
        "2bdb5f50511d4534ab84fb87de145e22": {
          "model_module": "@jupyter-widgets/base",
          "model_name": "LayoutModel",
          "state": {
            "_view_name": "LayoutView",
            "grid_template_rows": null,
            "right": null,
            "justify_content": null,
            "_view_module": "@jupyter-widgets/base",
            "overflow": null,
            "_model_module_version": "1.2.0",
            "_view_count": null,
            "flex_flow": null,
            "width": null,
            "min_width": null,
            "border": null,
            "align_items": null,
            "bottom": null,
            "_model_module": "@jupyter-widgets/base",
            "top": null,
            "grid_column": null,
            "overflow_y": null,
            "overflow_x": null,
            "grid_auto_flow": null,
            "grid_area": null,
            "grid_template_columns": null,
            "flex": null,
            "_model_name": "LayoutModel",
            "justify_items": null,
            "grid_row": null,
            "max_height": null,
            "align_content": null,
            "visibility": null,
            "align_self": null,
            "height": null,
            "min_height": null,
            "padding": null,
            "grid_auto_rows": null,
            "grid_gap": null,
            "max_width": null,
            "order": null,
            "_view_module_version": "1.2.0",
            "grid_template_areas": null,
            "object_position": null,
            "object_fit": null,
            "grid_auto_columns": null,
            "margin": null,
            "display": null,
            "left": null
          }
        }
      }
    }
  },
  "cells": [
    {
      "cell_type": "markdown",
      "metadata": {
        "id": "kvBu3vZLwZDD"
      },
      "source": [
        "This notebook will provide complete insight in the training and testing process of [DREAM Birth challenge](https://www.synapse.org/#!Synapse:syn18380862wiki590485) Subchallenge 1"
      ]
    },
    {
      "cell_type": "code",
      "metadata": {
        "colab": {
          "base_uri": "https://localhost:8080/",
          "height": 206
        },
        "id": "bVQ8pr4ZyHxI",
        "outputId": "24da34a3-7302-472c-ea36-08e127e8e8c0"
      },
      "source": [
        "import numpy as np\n",
        "import pandas as pd\n",
        "import os.path\n",
        "\n",
        "PATH_FILES = os.path.dirname(os.path.abspath('')) + '/data'\n",
        "\n",
        "anno = pd.read_csv(PATH_FILES + '/anoSC1_v11_nokey.csv', delimiter = ',', index_col = 0)\n",
        "anno.head()"
      ],
      "execution_count": 1,
      "outputs": [
        {
          "output_type": "execute_result",
          "data": {
            "text/plain": [
              "                   GA  Batch      Set  Train Platform\n",
              "SampleID                                             \n",
              "Tarca_001_P1A01  11.0      1  PRB_HTA      1    HTA20\n",
              "Tarca_013_P1B01  15.3      1  PRB_HTA      1    HTA20\n",
              "Tarca_025_P1C01  21.7      1  PRB_HTA      1    HTA20\n",
              "Tarca_037_P1D01  26.7      1  PRB_HTA      1    HTA20\n",
              "Tarca_049_P1E01  31.3      1  PRB_HTA      1    HTA20"
            ],
            "text/html": "<div>\n<style scoped>\n    .dataframe tbody tr th:only-of-type {\n        vertical-align: middle;\n    }\n\n    .dataframe tbody tr th {\n        vertical-align: top;\n    }\n\n    .dataframe thead th {\n        text-align: right;\n    }\n</style>\n<table border=\"1\" class=\"dataframe\">\n  <thead>\n    <tr style=\"text-align: right;\">\n      <th></th>\n      <th>GA</th>\n      <th>Batch</th>\n      <th>Set</th>\n      <th>Train</th>\n      <th>Platform</th>\n    </tr>\n    <tr>\n      <th>SampleID</th>\n      <th></th>\n      <th></th>\n      <th></th>\n      <th></th>\n      <th></th>\n    </tr>\n  </thead>\n  <tbody>\n    <tr>\n      <th>Tarca_001_P1A01</th>\n      <td>11.0</td>\n      <td>1</td>\n      <td>PRB_HTA</td>\n      <td>1</td>\n      <td>HTA20</td>\n    </tr>\n    <tr>\n      <th>Tarca_013_P1B01</th>\n      <td>15.3</td>\n      <td>1</td>\n      <td>PRB_HTA</td>\n      <td>1</td>\n      <td>HTA20</td>\n    </tr>\n    <tr>\n      <th>Tarca_025_P1C01</th>\n      <td>21.7</td>\n      <td>1</td>\n      <td>PRB_HTA</td>\n      <td>1</td>\n      <td>HTA20</td>\n    </tr>\n    <tr>\n      <th>Tarca_037_P1D01</th>\n      <td>26.7</td>\n      <td>1</td>\n      <td>PRB_HTA</td>\n      <td>1</td>\n      <td>HTA20</td>\n    </tr>\n    <tr>\n      <th>Tarca_049_P1E01</th>\n      <td>31.3</td>\n      <td>1</td>\n      <td>PRB_HTA</td>\n      <td>1</td>\n      <td>HTA20</td>\n    </tr>\n  </tbody>\n</table>\n</div>"
          },
          "metadata": {},
          "execution_count": 1
        }
      ]
    },
    {
      "cell_type": "code",
      "metadata": {
        "id": "-kmKr4UcG5Ss",
        "colab": {
          "base_uri": "https://localhost:8080/",
          "height": 290
        },
        "outputId": "49acf0f1-cfb7-47bb-bb86-b3608a9d23ef"
      },
      "source": [
        "HTA20_RMA = pd.read_csv(PATH_FILES + '/HTA20_RMA.csv', delimiter = ',', index_col = 0).transpose()\n",
        "HTA20_RMA.head()"
      ],
      "execution_count": 2,
      "outputs": [
        {
          "output_type": "execute_result",
          "data": {
            "text/plain": [
              "                     1_at     10_at    100_at   1000_at  10000_at  \\\n",
              "Tarca_001_P1A01  6.062215  3.796484  5.849338  3.567779  6.166815   \n",
              "Tarca_003_P1A03  6.125023  3.805305  6.191562  3.452524  5.678373   \n",
              "Tarca_004_P1A04  5.875502  3.450245  6.550525  3.316134  6.185059   \n",
              "Tarca_005_P1A05  6.126131  3.628411  6.421877  3.432451  5.633757   \n",
              "Tarca_006_P1A06  6.146466  3.446812  6.260962  3.477162  5.313198   \n",
              "\n",
              "                 100009613_at  100009676_at  10001_at  10002_at  10003_at  \\\n",
              "Tarca_001_P1A01      4.443027      5.836522  6.330018  4.922339  2.689344   \n",
              "Tarca_003_P1A03      4.773199      6.143398  5.601745  4.711765  2.771010   \n",
              "Tarca_004_P1A04      4.393488      5.898364  6.137984  4.628124  2.556756   \n",
              "Tarca_005_P1A05      4.623783      6.019792  5.787502  4.796283  2.613415   \n",
              "Tarca_006_P1A06      4.422651      6.407699  5.830437  4.726488  2.631878   \n",
              "\n",
              "                 ...  AFFX-BkGr-GC24_at  AFFX-BkGr-GC25_at  \\\n",
              "Tarca_001_P1A01  ...           8.786114          11.587051   \n",
              "Tarca_003_P1A03  ...           9.594813          12.138090   \n",
              "Tarca_004_P1A04  ...           9.294845          12.049271   \n",
              "Tarca_005_P1A05  ...           9.694992          12.311885   \n",
              "Tarca_006_P1A06  ...           9.600712          12.173934   \n",
              "\n",
              "                 AFFX-r2-Bs-dap-5_st  AFFX-r2-Bs-lys-5_st  \\\n",
              "Tarca_001_P1A01             8.342203             4.520028   \n",
              "Tarca_003_P1A03             9.010691             5.148384   \n",
              "Tarca_004_P1A04             8.555541             4.441900   \n",
              "Tarca_005_P1A05             9.164106             4.529299   \n",
              "Tarca_006_P1A06             8.105479             4.989477   \n",
              "\n",
              "                 AFFX-r2-Bs-phe-5_st  AFFX-r2-Bs-thr-5_st  \\\n",
              "Tarca_001_P1A01             5.636615             6.709797   \n",
              "Tarca_003_P1A03             6.723139             6.153199   \n",
              "Tarca_004_P1A04             6.016953             9.590764   \n",
              "Tarca_005_P1A05             6.990176             5.437926   \n",
              "Tarca_006_P1A06             6.247265             7.550088   \n",
              "\n",
              "                 AFFX-r2-Ec-bioB-5_at  AFFX-r2-Ec-bioC-5_at  \\\n",
              "Tarca_001_P1A01              8.972873             10.440245   \n",
              "Tarca_003_P1A03              9.376194             10.845176   \n",
              "Tarca_004_P1A04              8.843612             10.493416   \n",
              "Tarca_005_P1A05              9.191471             10.879879   \n",
              "Tarca_006_P1A06              9.247768             10.754316   \n",
              "\n",
              "                 AFFX-r2-Ec-bioD-5_at  AFFX-r2-P1-cre-5_at  \n",
              "Tarca_001_P1A01             12.101476            13.695705  \n",
              "Tarca_003_P1A03             12.370891            13.635522  \n",
              "Tarca_004_P1A04             12.295786            13.616688  \n",
              "Tarca_005_P1A05             12.249936            13.524328  \n",
              "Tarca_006_P1A06             12.245458            13.509353  \n",
              "\n",
              "[5 rows x 32830 columns]"
            ],
            "text/html": "<div>\n<style scoped>\n    .dataframe tbody tr th:only-of-type {\n        vertical-align: middle;\n    }\n\n    .dataframe tbody tr th {\n        vertical-align: top;\n    }\n\n    .dataframe thead th {\n        text-align: right;\n    }\n</style>\n<table border=\"1\" class=\"dataframe\">\n  <thead>\n    <tr style=\"text-align: right;\">\n      <th></th>\n      <th>1_at</th>\n      <th>10_at</th>\n      <th>100_at</th>\n      <th>1000_at</th>\n      <th>10000_at</th>\n      <th>100009613_at</th>\n      <th>100009676_at</th>\n      <th>10001_at</th>\n      <th>10002_at</th>\n      <th>10003_at</th>\n      <th>...</th>\n      <th>AFFX-BkGr-GC24_at</th>\n      <th>AFFX-BkGr-GC25_at</th>\n      <th>AFFX-r2-Bs-dap-5_st</th>\n      <th>AFFX-r2-Bs-lys-5_st</th>\n      <th>AFFX-r2-Bs-phe-5_st</th>\n      <th>AFFX-r2-Bs-thr-5_st</th>\n      <th>AFFX-r2-Ec-bioB-5_at</th>\n      <th>AFFX-r2-Ec-bioC-5_at</th>\n      <th>AFFX-r2-Ec-bioD-5_at</th>\n      <th>AFFX-r2-P1-cre-5_at</th>\n    </tr>\n  </thead>\n  <tbody>\n    <tr>\n      <th>Tarca_001_P1A01</th>\n      <td>6.062215</td>\n      <td>3.796484</td>\n      <td>5.849338</td>\n      <td>3.567779</td>\n      <td>6.166815</td>\n      <td>4.443027</td>\n      <td>5.836522</td>\n      <td>6.330018</td>\n      <td>4.922339</td>\n      <td>2.689344</td>\n      <td>...</td>\n      <td>8.786114</td>\n      <td>11.587051</td>\n      <td>8.342203</td>\n      <td>4.520028</td>\n      <td>5.636615</td>\n      <td>6.709797</td>\n      <td>8.972873</td>\n      <td>10.440245</td>\n      <td>12.101476</td>\n      <td>13.695705</td>\n    </tr>\n    <tr>\n      <th>Tarca_003_P1A03</th>\n      <td>6.125023</td>\n      <td>3.805305</td>\n      <td>6.191562</td>\n      <td>3.452524</td>\n      <td>5.678373</td>\n      <td>4.773199</td>\n      <td>6.143398</td>\n      <td>5.601745</td>\n      <td>4.711765</td>\n      <td>2.771010</td>\n      <td>...</td>\n      <td>9.594813</td>\n      <td>12.138090</td>\n      <td>9.010691</td>\n      <td>5.148384</td>\n      <td>6.723139</td>\n      <td>6.153199</td>\n      <td>9.376194</td>\n      <td>10.845176</td>\n      <td>12.370891</td>\n      <td>13.635522</td>\n    </tr>\n    <tr>\n      <th>Tarca_004_P1A04</th>\n      <td>5.875502</td>\n      <td>3.450245</td>\n      <td>6.550525</td>\n      <td>3.316134</td>\n      <td>6.185059</td>\n      <td>4.393488</td>\n      <td>5.898364</td>\n      <td>6.137984</td>\n      <td>4.628124</td>\n      <td>2.556756</td>\n      <td>...</td>\n      <td>9.294845</td>\n      <td>12.049271</td>\n      <td>8.555541</td>\n      <td>4.441900</td>\n      <td>6.016953</td>\n      <td>9.590764</td>\n      <td>8.843612</td>\n      <td>10.493416</td>\n      <td>12.295786</td>\n      <td>13.616688</td>\n    </tr>\n    <tr>\n      <th>Tarca_005_P1A05</th>\n      <td>6.126131</td>\n      <td>3.628411</td>\n      <td>6.421877</td>\n      <td>3.432451</td>\n      <td>5.633757</td>\n      <td>4.623783</td>\n      <td>6.019792</td>\n      <td>5.787502</td>\n      <td>4.796283</td>\n      <td>2.613415</td>\n      <td>...</td>\n      <td>9.694992</td>\n      <td>12.311885</td>\n      <td>9.164106</td>\n      <td>4.529299</td>\n      <td>6.990176</td>\n      <td>5.437926</td>\n      <td>9.191471</td>\n      <td>10.879879</td>\n      <td>12.249936</td>\n      <td>13.524328</td>\n    </tr>\n    <tr>\n      <th>Tarca_006_P1A06</th>\n      <td>6.146466</td>\n      <td>3.446812</td>\n      <td>6.260962</td>\n      <td>3.477162</td>\n      <td>5.313198</td>\n      <td>4.422651</td>\n      <td>6.407699</td>\n      <td>5.830437</td>\n      <td>4.726488</td>\n      <td>2.631878</td>\n      <td>...</td>\n      <td>9.600712</td>\n      <td>12.173934</td>\n      <td>8.105479</td>\n      <td>4.989477</td>\n      <td>6.247265</td>\n      <td>7.550088</td>\n      <td>9.247768</td>\n      <td>10.754316</td>\n      <td>12.245458</td>\n      <td>13.509353</td>\n    </tr>\n  </tbody>\n</table>\n<p>5 rows × 32830 columns</p>\n</div>"
          },
          "metadata": {},
          "execution_count": 2
        }
      ]
    },
    {
      "cell_type": "code",
      "metadata": {
        "id": "jQQutF5JVWEh"
      },
      "source": [
        "# Sync the X and y data by sorting the labels\n",
        "\n",
        "df1 = anno.sort_index()\n",
        "df2 = HTA20_RMA.sort_index()\n",
        "\n",
        "X = df2.iloc[np.array(np.logical_not(df1['GA'].isna())),:]\n",
        "y = df1.dropna().loc[:,['GA','Batch']]\n"
      ],
      "execution_count": 3,
      "outputs": []
    },
    {
      "cell_type": "code",
      "execution_count": 4,
      "metadata": {},
      "outputs": [
        {
          "output_type": "execute_result",
          "data": {
            "text/plain": [
              "True"
            ]
          },
          "metadata": {},
          "execution_count": 4
        }
      ],
      "source": [
        "# Check to see if the indexes are the same\n",
        "(X.index == y.index).all()"
      ]
    },
    {
      "source": [
        "## Standard scaling\n",
        "We will now perform the standard scaling of features from one batch"
      ],
      "cell_type": "markdown",
      "metadata": {}
    },
    {
      "cell_type": "code",
      "execution_count": 5,
      "metadata": {},
      "outputs": [],
      "source": [
        "from sklearn.preprocessing import StandardScaler\n",
        "\n",
        "XX = np.zeros(X.shape)\n",
        "for i in [1,2,3,4,5,6,7,8,9,10,32]:\n",
        "    scale = StandardScaler()\n",
        "    indices = np.bool8(y['Batch'] == i)\n",
        "    Xtemp = X.iloc[indices,:]\n",
        "    scale.fit(Xtemp)\n",
        "    XX[indices,:] = scale.transform(Xtemp)"
      ]
    },
    {
      "cell_type": "code",
      "execution_count": 6,
      "metadata": {},
      "outputs": [],
      "source": [
        "# delete batch column\n",
        "yy = y['GA']"
      ]
    },
    {
      "cell_type": "code",
      "metadata": {
        "colab": {
          "base_uri": "https://localhost:8080/",
          "height": 1000,
          "referenced_widgets": [
            "1f1899c270e94ba3bc0ee54f68d56536",
            "328acf64b9724bdf84cf988e01f3dea2",
            "28b83d9f8a6d44858ada51eb72c7f9b2",
            "62c465d170724f5b9e98b963a2807da4",
            "fc35396fc1044769be5e7c6e6ee6f47e",
            "e8bdd6255cbf481baaaf3735b1073e11",
            "245f4ae6bdc9418c96fd9f313fe7b4d8",
            "2bdb5f50511d4534ab84fb87de145e22"
          ]
        },
        "id": "PGgvJuIoN0E2",
        "outputId": "860fee54-eb51-4284-bd32-69317158f458"
      },
      "source": [
        "# import necessary ML modules\n",
        "from sklearn.decomposition import PCA\n",
        "from sklearn.model_selection import KFold\n",
        "from sklearn.ensemble import RandomForestRegressor \n",
        "from sklearn.metrics import mean_squared_error\n",
        "from tqdm import tqdm\n",
        "\n",
        "num_of_splits = 10\n",
        "kf = KFold(n_splits = num_of_splits)\n",
        "forest = RandomForestRegressor(n_estimators = 1000, criterion = 'mse', \n",
        "                               random_state = 1, n_jobs = -1)\n",
        "\n",
        "y_train_pred = []\n",
        "y_test_pred = []\n",
        "\n",
        "for train_index, test_index in tqdm(kf.split(X), total = num_of_splits, unit = 'iteration'):\n",
        "\n",
        "  pca = PCA(n_components = 0.95, svd_solver = 'full')\n",
        "\n",
        "  X_train_std, X_test_std = XX[train_index,:], XX[test_index,:]\n",
        "  y_train, y_test = yy.iloc[train_index], yy.iloc[test_index]\n",
        "\n",
        "  X_train_pca = pca.fit_transform(X_train_std)\n",
        "  X_test_pca = pca.transform(X_test_std)\n",
        "  \n",
        "  forest.fit(X_train_pca,y_train)\n",
        "  \n",
        "  y_train_pred.append(mean_squared_error(y_train,forest.predict(X_train_pca), squared = False))\n",
        "  y_test_pred.append(mean_squared_error(y_test,forest.predict(X_test_pca), squared = False))\n",
        "\n"
      ],
      "execution_count": 9,
      "outputs": [
        {
          "output_type": "stream",
          "name": "stderr",
          "text": [
            "  0%|          | 0/10 [00:04<?, ?iteration/s]\n"
          ]
        },
        {
          "output_type": "error",
          "ename": "NameError",
          "evalue": "name 'y_train_pca' is not defined",
          "traceback": [
            "\u001b[0;31m---------------------------------------------------------------------------\u001b[0m",
            "\u001b[0;31mNameError\u001b[0m                                 Traceback (most recent call last)",
            "\u001b[0;32m<ipython-input-9-4bde82bffde2>\u001b[0m in \u001b[0;36m<module>\u001b[0;34m\u001b[0m\n\u001b[1;32m     24\u001b[0m   \u001b[0mX_test_pca\u001b[0m \u001b[0;34m=\u001b[0m \u001b[0mpca\u001b[0m\u001b[0;34m.\u001b[0m\u001b[0mtransform\u001b[0m\u001b[0;34m(\u001b[0m\u001b[0mX_test_std\u001b[0m\u001b[0;34m)\u001b[0m\u001b[0;34m\u001b[0m\u001b[0;34m\u001b[0m\u001b[0m\n\u001b[1;32m     25\u001b[0m \u001b[0;34m\u001b[0m\u001b[0m\n\u001b[0;32m---> 26\u001b[0;31m   \u001b[0mforest\u001b[0m\u001b[0;34m.\u001b[0m\u001b[0mfit\u001b[0m\u001b[0;34m(\u001b[0m\u001b[0mX_train_pca\u001b[0m\u001b[0;34m,\u001b[0m\u001b[0my_train_pca\u001b[0m\u001b[0;34m)\u001b[0m\u001b[0;34m\u001b[0m\u001b[0;34m\u001b[0m\u001b[0m\n\u001b[0m\u001b[1;32m     27\u001b[0m \u001b[0;34m\u001b[0m\u001b[0m\n\u001b[1;32m     28\u001b[0m   \u001b[0my_train_pred\u001b[0m\u001b[0;34m.\u001b[0m\u001b[0mappend\u001b[0m\u001b[0;34m(\u001b[0m\u001b[0mmean_squared_error\u001b[0m\u001b[0;34m(\u001b[0m\u001b[0my_train_pca\u001b[0m\u001b[0;34m,\u001b[0m\u001b[0mforest\u001b[0m\u001b[0;34m.\u001b[0m\u001b[0mpredict\u001b[0m\u001b[0;34m(\u001b[0m\u001b[0mX_train_pca\u001b[0m\u001b[0;34m)\u001b[0m\u001b[0;34m,\u001b[0m \u001b[0msquared\u001b[0m \u001b[0;34m=\u001b[0m \u001b[0;32mFalse\u001b[0m\u001b[0;34m)\u001b[0m\u001b[0;34m)\u001b[0m\u001b[0;34m\u001b[0m\u001b[0;34m\u001b[0m\u001b[0m\n",
            "\u001b[0;31mNameError\u001b[0m: name 'y_train_pca' is not defined"
          ]
        }
      ]
    },
    {
      "cell_type": "code",
      "execution_count": 8,
      "metadata": {},
      "outputs": [
        {
          "output_type": "execute_result",
          "data": {
            "text/plain": [
              "7.09001644588343"
            ]
          },
          "metadata": {},
          "execution_count": 8
        }
      ],
      "source": [
        "np.mean(y_train_pred)"
      ]
    },
    {
      "cell_type": "code",
      "execution_count": null,
      "metadata": {},
      "outputs": [],
      "source": [
        "np.mean(y_test_pred)"
      ]
    }
  ]
}