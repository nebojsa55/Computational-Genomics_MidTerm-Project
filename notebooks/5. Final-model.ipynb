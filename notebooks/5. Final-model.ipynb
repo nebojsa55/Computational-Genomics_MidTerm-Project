{
  "nbformat": 4,
  "nbformat_minor": 0,
  "metadata": {
    "colab": {
      "name": "Ensemble-regression.ipynb",
      "provenance": [],
      "authorship_tag": "ABX9TyNO+vPqAUr+ClZvAeCWK2TD"
    },
    "kernelspec": {
      "name": "python3",
      "display_name": "Python 3"
    },
    "language_info": {
      "name": "python"
    }
  },
  "cells": [
    {
      "cell_type": "markdown",
      "metadata": {
        "id": "F6zNsqDiD9mO"
      },
      "source": [
        "# Description\n",
        "\n",
        "This notebook will be the same as [notebook #3](https://github.com/nebojsa55/Computational-Genomics_MidTerm-Project/blob/master/notebooks/3.%20Linear-regression.ipynb), except that the model was now tested on the whole testing set (368 samples) to observe whether the model is viable."
      ]
    },
    {
      "cell_type": "code",
      "metadata": {
        "colab": {
          "base_uri": "https://localhost:8080/"
        },
        "id": "odqEpblQrer8",
        "outputId": "5d64b9ac-8ae0-4679-aacf-c2c16d1eb7c5"
      },
      "source": [
        "import numpy as np\n",
        "import pandas as pd\n",
        "from google.colab import drive\n",
        "drive.mount('/content/drive')\n",
        "\n",
        "# Navigate to the folder cointaing our data\n",
        "%cd 'drive/MyDrive/ETF/Master/Computational-Genomics/Project/data'"
      ],
      "execution_count": 1,
      "outputs": [
        {
          "output_type": "stream",
          "text": [
            "Drive already mounted at /content/drive; to attempt to forcibly remount, call drive.mount(\"/content/drive\", force_remount=True).\n",
            "/content/drive/MyDrive/ETF/Master/Computational-Genomics/Project/data\n"
          ],
          "name": "stdout"
        }
      ]
    },
    {
      "cell_type": "code",
      "metadata": {
        "id": "ABqJA8XPWFWA"
      },
      "source": [
        "anno = pd.read_csv('anoSC1_v11_nokey_with_test_samples.csv', delimiter = ',', index_col = 0)\n",
        "HTA20_RMA = pd.read_csv('HTA20_RMA.csv', delimiter = ',', index_col = 0).transpose()\n",
        "\n",
        "# Sync the X and y data by sorting the labels\n",
        "\n",
        "df1 = anno.sort_index()\n",
        "df2 = HTA20_RMA.sort_index()\n"
      ],
      "execution_count": 2,
      "outputs": []
    },
    {
      "cell_type": "code",
      "metadata": {
        "colab": {
          "base_uri": "https://localhost:8080/"
        },
        "id": "_o6-zfXhyeSu",
        "outputId": "531daf76-2822-4127-837b-4dc75d1bf059"
      },
      "source": [
        "# Check to see if the indexes are the same\n",
        "(df1.index == df2.index).all()"
      ],
      "execution_count": 3,
      "outputs": [
        {
          "output_type": "execute_result",
          "data": {
            "text/plain": [
              "True"
            ]
          },
          "metadata": {
            "tags": []
          },
          "execution_count": 3
        }
      ]
    },
    {
      "cell_type": "code",
      "metadata": {
        "id": "thYgD7WOqe6Q"
      },
      "source": [
        "# Drop Sample_X samples\n",
        "\n",
        "X = df2.iloc[32:,:]\n",
        "y = df1.iloc[32:,:]"
      ],
      "execution_count": 4,
      "outputs": []
    },
    {
      "cell_type": "code",
      "metadata": {
        "id": "FXDpFqMbqVHx"
      },
      "source": [
        "# Get training and test sets\n",
        "\n",
        "X_train = X.loc[y['Train'] == 1,:]\n",
        "X_test = X.loc[y['Train'] == 0,:]\n",
        "\n",
        "y_train = y.loc[y['Train'] == 1,:]\n",
        "y_test = y.loc[y['Train'] == 0,:]"
      ],
      "execution_count": 5,
      "outputs": []
    },
    {
      "cell_type": "code",
      "metadata": {
        "id": "2Dz3Zn44WZS5"
      },
      "source": [
        "from sklearn.preprocessing import StandardScaler\n",
        "\n",
        "XX_train = np.zeros(X_train.shape)\n",
        "for i in [1,2,3,4,5,6,7,8,9,10]:\n",
        "    scale = StandardScaler()\n",
        "    indices = np.bool8(y_train['Batch'] == i)\n",
        "    Xtemp = X_train.iloc[indices,:]\n",
        "    scale.fit(Xtemp)\n",
        "    XX_train[indices,:] = scale.transform(Xtemp)\n",
        "\n",
        "# delete batch column\n",
        "yy_train = y_train['GA']"
      ],
      "execution_count": 6,
      "outputs": []
    },
    {
      "cell_type": "code",
      "metadata": {
        "id": "NLvDV2hasPkQ"
      },
      "source": [
        "XX_test = np.zeros(X_test.shape)\n",
        "for i in [1,2,3,4,5,6,7,8,9,10]:\n",
        "    scale = StandardScaler()\n",
        "    indices = np.bool8(y_test['Batch'] == i)\n",
        "    Xtemp = X_test.iloc[indices,:]\n",
        "    scale.fit(Xtemp)\n",
        "    XX_test[indices,:] = scale.transform(Xtemp)\n",
        "\n",
        "# delete batch column\n",
        "yy_test = y_test['GA']"
      ],
      "execution_count": 7,
      "outputs": []
    },
    {
      "cell_type": "code",
      "metadata": {
        "id": "cXjUqaVItKr8"
      },
      "source": [
        "from sklearn.feature_selection import f_regression,SelectKBest\n",
        "from sklearn.linear_model import ElasticNetCV\n",
        "from sklearn.model_selection import cross_val_score\n",
        "from sklearn.metrics import mean_squared_error,make_scorer\n",
        "from sklearn.model_selection import KFold\n",
        "import warnings \n",
        "\n",
        "# Create the scorer for cross_val_score\n",
        "scorer = make_scorer(mean_squared_error, greater_is_better = False)\n",
        "\n",
        "# Create KFold \n",
        "kfold = KFold(n_splits = 10, shuffle = True, random_state = 42)\n",
        "\n",
        "# Create our linear model\n",
        "lin_model = ElasticNetCV(cv = kfold, random_state = 42)\n",
        "\n",
        "# Create lists where cv score will be saved\n",
        "cv_lin = []\n",
        "\n",
        "# Ignore convergence warnings\n",
        "warnings.filterwarnings(\"ignore\")\n",
        "\n",
        "select = SelectKBest(f_regression, k = 1000)\n",
        "X_best = select.fit_transform(XX_train,yy_train)\n",
        "  \n",
        "lin_model.fit(X_best,yy_train)\n",
        "\n",
        "yy_pred = lin_model.predict(select.transform(XX_test))\n",
        "\n",
        "from sklearn.metrics import mean_squared_error\n",
        "\n",
        "loss = mean_squared_error(yy_test,yy_pred,squared = False)\n"
      ],
      "execution_count": 8,
      "outputs": []
    },
    {
      "cell_type": "code",
      "metadata": {
        "colab": {
          "base_uri": "https://localhost:8080/"
        },
        "id": "wijsYGVmhVcJ",
        "outputId": "1950b526-3720-4898-c685-dd3d2a3a26f0"
      },
      "source": [
        "loss"
      ],
      "execution_count": 9,
      "outputs": [
        {
          "output_type": "execute_result",
          "data": {
            "text/plain": [
              "5.040064449436394"
            ]
          },
          "metadata": {
            "tags": []
          },
          "execution_count": 9
        }
      ]
    }
  ]
}