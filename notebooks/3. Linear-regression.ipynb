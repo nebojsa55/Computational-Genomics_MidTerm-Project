{
  "nbformat": 4,
  "nbformat_minor": 0,
  "metadata": {
    "colab": {
      "name": "Ensemble-regression.ipynb",
      "provenance": [],
      "authorship_tag": "ABX9TyO7TeEAclmRKcqXNMhlSobc",
      "include_colab_link": true
    },
    "kernelspec": {
      "name": "python3",
      "display_name": "Python 3"
    },
    "language_info": {
      "name": "python"
    }
  },
  "cells": [
    {
      "cell_type": "markdown",
      "metadata": {
        "id": "view-in-github",
        "colab_type": "text"
      },
      "source": [
        "<a href=\"https://colab.research.google.com/github/nebojsa55/Computational-Genomics_MidTerm-Project/blob/master/notebooks/3.%20Linear-regression.ipynb\" target=\"_parent\"><img src=\"https://colab.research.google.com/assets/colab-badge.svg\" alt=\"Open In Colab\"/></a>"
      ]
    },
    {
      "cell_type": "markdown",
      "metadata": {
        "id": "F6zNsqDiD9mO"
      },
      "source": [
        "# Description\n",
        "We postulated that this data set is probably suitable for **linear regression** in the previous notebook. This statement will be exploited in this notebook to see if the rmse can be below **5.9**, what was our best score with RFR.\n"
      ]
    },
    {
      "cell_type": "code",
      "metadata": {
        "colab": {
          "base_uri": "https://localhost:8080/"
        },
        "id": "odqEpblQrer8",
        "outputId": "3a18a281-122a-463c-c6f7-e40ba5acfce2"
      },
      "source": [
        "import numpy as np\n",
        "import pandas as pd\n",
        "from google.colab import drive\n",
        "drive.mount('/content/drive')\n",
        "\n",
        "# Navigate to the folder cointaing our data\n",
        "%cd 'drive/MyDrive/ETF/Master/Computational-Genomics/Project/data'"
      ],
      "execution_count": 1,
      "outputs": [
        {
          "output_type": "stream",
          "text": [
            "Drive already mounted at /content/drive; to attempt to forcibly remount, call drive.mount(\"/content/drive\", force_remount=True).\n",
            "/content/drive/MyDrive/ETF/Master/Computational-Genomics/Project/data\n"
          ],
          "name": "stdout"
        }
      ]
    },
    {
      "cell_type": "code",
      "metadata": {
        "colab": {
          "base_uri": "https://localhost:8080/"
        },
        "id": "ABqJA8XPWFWA",
        "outputId": "3bec2054-13d4-4b27-82c9-46076cd09e2c"
      },
      "source": [
        "anno = pd.read_csv('anoSC1_v11_nokey.csv', delimiter = ',', index_col = 0)\n",
        "HTA20_RMA = pd.read_csv('HTA20_RMA.csv', delimiter = ',', index_col = 0).transpose()\n",
        "\n",
        "# Sync the X and y data by sorting the labels\n",
        "\n",
        "df1 = anno.sort_index()\n",
        "df2 = HTA20_RMA.sort_index()\n",
        "\n",
        "X = df2.iloc[np.array(np.logical_not(df1['GA'].isna())),:]\n",
        "y = df1.dropna().loc[:,['GA','Batch']]\n",
        "\n",
        "# Check to see if the indexes are the same\n",
        "(X.index == y.index).all()"
      ],
      "execution_count": 2,
      "outputs": [
        {
          "output_type": "execute_result",
          "data": {
            "text/plain": [
              "True"
            ]
          },
          "metadata": {
            "tags": []
          },
          "execution_count": 2
        }
      ]
    },
    {
      "cell_type": "code",
      "metadata": {
        "id": "thYgD7WOqe6Q"
      },
      "source": [
        "# Drop Sample_X samples\n",
        "\n",
        "X = X.iloc[32:,:]\n",
        "y = y.iloc[32:,:]"
      ],
      "execution_count": 3,
      "outputs": []
    },
    {
      "cell_type": "code",
      "metadata": {
        "id": "2Dz3Zn44WZS5"
      },
      "source": [
        "from sklearn.preprocessing import StandardScaler\n",
        "\n",
        "XX = np.zeros(X.shape)\n",
        "for i in [1,2,3,4,5,6,7,8,9,10]:\n",
        "    scale = StandardScaler()\n",
        "    indices = np.bool8(y['Batch'] == i)\n",
        "    Xtemp = X.iloc[indices,:]\n",
        "    scale.fit(Xtemp)\n",
        "    XX[indices,:] = scale.transform(Xtemp)\n",
        "\n",
        "# delete batch column\n",
        "yy = y['GA']"
      ],
      "execution_count": 4,
      "outputs": []
    },
    {
      "cell_type": "code",
      "metadata": {
        "id": "ehQQDhbHrNct",
        "colab": {
          "base_uri": "https://localhost:8080/"
        },
        "outputId": "8f3d4f83-0fd8-448f-d71c-4cfd5bfbc5b1"
      },
      "source": [
        "from sklearn.feature_selection import f_regression,SelectKBest\n",
        "from sklearn.linear_model import ElasticNetCV\n",
        "from sklearn.model_selection import cross_val_score\n",
        "from sklearn.metrics import mean_squared_error,make_scorer\n",
        "from sklearn.model_selection import KFold\n",
        "import warnings \n",
        "\n",
        "# Create the scorer for cross_val_score\n",
        "scorer = make_scorer(mean_squared_error, greater_is_better = False)\n",
        "\n",
        "# Create KFold \n",
        "kfold = KFold(n_splits = 10, shuffle = True, random_state = 42)\n",
        "\n",
        "# Create our linear model\n",
        "lin_model = ElasticNetCV(cv = kfold, random_state = 42)\n",
        "\n",
        "# Create lists where cv score will be saved\n",
        "cv_lin = []\n",
        "\n",
        "# Ignore convergence warnings\n",
        "warnings.filterwarnings(\"ignore\")\n",
        "\n",
        "for ktemp in [200, 500, 1000]:\n",
        "  X_best = SelectKBest(f_regression,k = ktemp).fit_transform(XX,yy)\n",
        "  \n",
        "  # Elastic Net\n",
        "  cv_lin.append(cross_val_score(lin_model, \n",
        "                          X_best, \n",
        "                          yy,\n",
        "                          cv = kfold, \n",
        "                          scoring = scorer, \n",
        "                          verbose = 3))\n",
        "  "
      ],
      "execution_count": 11,
      "outputs": [
        {
          "output_type": "stream",
          "text": [
            "[Parallel(n_jobs=1)]: Using backend SequentialBackend with 1 concurrent workers.\n"
          ],
          "name": "stderr"
        },
        {
          "output_type": "stream",
          "text": [
            "[CV]  ................................................................\n",
            "[CV] .................................. , score=-24.510, total=  13.1s\n",
            "[CV]  ................................................................\n"
          ],
          "name": "stdout"
        },
        {
          "output_type": "stream",
          "text": [
            "[Parallel(n_jobs=1)]: Done   1 out of   1 | elapsed:   13.1s remaining:    0.0s\n"
          ],
          "name": "stderr"
        },
        {
          "output_type": "stream",
          "text": [
            "[CV] .................................. , score=-45.612, total=  11.8s\n",
            "[CV]  ................................................................\n"
          ],
          "name": "stdout"
        },
        {
          "output_type": "stream",
          "text": [
            "[Parallel(n_jobs=1)]: Done   2 out of   2 | elapsed:   25.0s remaining:    0.0s\n"
          ],
          "name": "stderr"
        },
        {
          "output_type": "stream",
          "text": [
            "[CV] .................................. , score=-23.951, total=  12.9s\n",
            "[CV]  ................................................................\n",
            "[CV] .................................. , score=-28.027, total=  13.9s\n",
            "[CV]  ................................................................\n",
            "[CV] .................................. , score=-33.720, total=  13.9s\n",
            "[CV]  ................................................................\n",
            "[CV] .................................. , score=-40.209, total=  12.9s\n",
            "[CV]  ................................................................\n",
            "[CV] .................................. , score=-12.141, total=  13.1s\n",
            "[CV]  ................................................................\n",
            "[CV] .................................. , score=-44.398, total=  13.5s\n",
            "[CV]  ................................................................\n",
            "[CV] .................................. , score=-22.217, total=  15.0s\n",
            "[CV]  ................................................................\n",
            "[CV] .................................. , score=-20.250, total=  15.2s\n",
            "[CV]  ................................................................\n"
          ],
          "name": "stdout"
        },
        {
          "output_type": "stream",
          "text": [
            "[Parallel(n_jobs=1)]: Done  10 out of  10 | elapsed:  2.3min finished\n",
            "[Parallel(n_jobs=1)]: Using backend SequentialBackend with 1 concurrent workers.\n"
          ],
          "name": "stderr"
        },
        {
          "output_type": "stream",
          "text": [
            "[CV] .................................. , score=-26.169, total= 1.2min\n",
            "[CV]  ................................................................\n"
          ],
          "name": "stdout"
        },
        {
          "output_type": "stream",
          "text": [
            "[Parallel(n_jobs=1)]: Done   1 out of   1 | elapsed:  1.2min remaining:    0.0s\n"
          ],
          "name": "stderr"
        },
        {
          "output_type": "stream",
          "text": [
            "[CV] .................................. , score=-38.087, total= 1.1min\n",
            "[CV]  ................................................................\n"
          ],
          "name": "stdout"
        },
        {
          "output_type": "stream",
          "text": [
            "[Parallel(n_jobs=1)]: Done   2 out of   2 | elapsed:  2.3min remaining:    0.0s\n"
          ],
          "name": "stderr"
        },
        {
          "output_type": "stream",
          "text": [
            "[CV] .................................. , score=-19.173, total= 1.3min\n",
            "[CV]  ................................................................\n",
            "[CV] .................................. , score=-25.258, total= 1.3min\n",
            "[CV]  ................................................................\n",
            "[CV] .................................. , score=-28.055, total= 1.2min\n",
            "[CV]  ................................................................\n",
            "[CV] .................................. , score=-22.698, total= 1.0min\n",
            "[CV]  ................................................................\n",
            "[CV] .................................. , score=-15.046, total= 1.1min\n",
            "[CV]  ................................................................\n",
            "[CV] .................................. , score=-38.140, total=  59.8s\n",
            "[CV]  ................................................................\n",
            "[CV] .................................. , score=-17.730, total= 1.1min\n",
            "[CV]  ................................................................\n",
            "[CV] .................................. , score=-18.197, total= 1.1min\n",
            "[CV]  ................................................................\n"
          ],
          "name": "stdout"
        },
        {
          "output_type": "stream",
          "text": [
            "[Parallel(n_jobs=1)]: Done  10 out of  10 | elapsed: 11.2min finished\n",
            "[Parallel(n_jobs=1)]: Using backend SequentialBackend with 1 concurrent workers.\n"
          ],
          "name": "stderr"
        },
        {
          "output_type": "stream",
          "text": [
            "[CV] .................................. , score=-22.796, total= 1.2min\n",
            "[CV]  ................................................................\n"
          ],
          "name": "stdout"
        },
        {
          "output_type": "stream",
          "text": [
            "[Parallel(n_jobs=1)]: Done   1 out of   1 | elapsed:  1.2min remaining:    0.0s\n"
          ],
          "name": "stderr"
        },
        {
          "output_type": "stream",
          "text": [
            "[CV] .................................. , score=-42.744, total= 1.4min\n",
            "[CV]  ................................................................\n"
          ],
          "name": "stdout"
        },
        {
          "output_type": "stream",
          "text": [
            "[Parallel(n_jobs=1)]: Done   2 out of   2 | elapsed:  2.6min remaining:    0.0s\n"
          ],
          "name": "stderr"
        },
        {
          "output_type": "stream",
          "text": [
            "[CV] .................................. , score=-20.199, total= 1.4min\n",
            "[CV]  ................................................................\n",
            "[CV] .................................. , score=-21.516, total= 1.4min\n",
            "[CV]  ................................................................\n",
            "[CV] .................................. , score=-32.073, total= 1.2min\n",
            "[CV]  ................................................................\n",
            "[CV] .................................. , score=-21.660, total= 1.4min\n",
            "[CV]  ................................................................\n",
            "[CV] .................................. , score=-17.677, total= 1.3min\n",
            "[CV]  ................................................................\n",
            "[CV] .................................. , score=-37.821, total= 1.5min\n",
            "[CV]  ................................................................\n",
            "[CV] .................................. , score=-15.047, total= 1.4min\n",
            "[CV]  ................................................................\n",
            "[CV] .................................. , score=-20.873, total= 1.4min\n"
          ],
          "name": "stdout"
        },
        {
          "output_type": "stream",
          "text": [
            "[Parallel(n_jobs=1)]: Done  10 out of  10 | elapsed: 13.5min finished\n"
          ],
          "name": "stderr"
        }
      ]
    },
    {
      "cell_type": "code",
      "metadata": {
        "colab": {
          "base_uri": "https://localhost:8080/"
        },
        "id": "wRsVDuAa9Szu",
        "outputId": "b73c14bf-6b6b-4ee5-f248-b7e533885650"
      },
      "source": [
        "rmse_lin = [np.mean(np.sqrt(np.abs(x))) for x in cv_lin]\n",
        "rmse_lin"
      ],
      "execution_count": 12,
      "outputs": [
        {
          "output_type": "execute_result",
          "data": {
            "text/plain": [
              "[5.340163197515788, 4.928363149626769, 4.956463607432446]"
            ]
          },
          "metadata": {
            "tags": []
          },
          "execution_count": 12
        }
      ]
    },
    {
      "cell_type": "markdown",
      "metadata": {
        "id": "Wr1J3Esi9ixv"
      },
      "source": [
        "## Results\n",
        "\n",
        "This score is lower than the score of a previous model by one whole point! With this, our analysis is finished, and the conclusion is that **Elastic Net linear regressor** is the best suited for this kind of problem. **500** best features were selected.\n",
        "\n",
        "The result of **4.92836** would be good enough for the 19th best result at the challenge, where the RMSE of **4.5442** was the best. \n",
        "\n",
        "However, the obtained error should be taken with a grain of salt (or rather a mountain) since we had only **30-40** samples for testing, whereas the challengers had to test **10 times** more. In those conditions, I believe that the model would most certainly produce a worse result than 4.928, but I think that the error would be in the range of 5 to 6.\n",
        "\n",
        "## Conclusion\n",
        "\n",
        "* The best model for this challenge was linear model\n",
        "* There were outliers in the set **'GSE113966'** "
      ]
    }
  ]
}