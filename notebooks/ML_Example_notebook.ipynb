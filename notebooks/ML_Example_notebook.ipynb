{
  "nbformat": 4,
  "nbformat_minor": 0,
  "metadata": {
    "colab": {
      "name": "ML-Example-notebook.ipynb",
      "provenance": [],
      "authorship_tag": "ABX9TyN4l08ZFhmjWYlk2nUI7Tkj",
      "include_colab_link": true
    },
    "kernelspec": {
      "name": "python3",
      "display_name": "Python 3"
    },
    "language_info": {
      "name": "python"
    }
  },
  "cells": [
    {
      "cell_type": "markdown",
      "metadata": {
        "id": "view-in-github",
        "colab_type": "text"
      },
      "source": [
        "<a href=\"https://colab.research.google.com/github/nebojsa55/Computational-Genomics_MidTerm-Project/blob/master/notebooks/ML_Example_notebook.ipynb\" target=\"_parent\"><img src=\"https://colab.research.google.com/assets/colab-badge.svg\" alt=\"Open In Colab\"/></a>"
      ]
    },
    {
      "cell_type": "markdown",
      "metadata": {
        "id": "kvBu3vZLwZDD"
      },
      "source": [
        "This notebook will provide complete insite in the training and testing process of [DREAM Birth challenge](https://www.synapse.org/#!Synapse:syn18380862/wiki590485)"
      ]
    },
    {
      "cell_type": "code",
      "metadata": {
        "colab": {
          "base_uri": "https://localhost:8080/"
        },
        "id": "Levz1aIsvhct",
        "outputId": "a254366b-1b05-473a-f928-93214bdf26ec"
      },
      "source": [
        "from google.colab import drive\n",
        "drive.mount('/content/drive')\n",
        "\n",
        "# Navigate to the folder cointaing our data\n",
        "%cd 'drive/MyDrive/ETF/Master/Computational-Genomics/Project/data'"
      ],
      "execution_count": 3,
      "outputs": [
        {
          "output_type": "stream",
          "text": [
            "Drive already mounted at /content/drive; to attempt to forcibly remount, call drive.mount(\"/content/drive\", force_remount=True).\n",
            "/content/drive/MyDrive/ETF/Master/Computational-Genomics/Project/data\n"
          ],
          "name": "stdout"
        }
      ]
    },
    {
      "cell_type": "code",
      "metadata": {
        "colab": {
          "base_uri": "https://localhost:8080/"
        },
        "id": "_e_4zCAAx2w5",
        "outputId": "76088ad5-5f59-4b2d-8aa3-6d3b068fe405"
      },
      "source": [
        "# Verify the chosen folder\n",
        "!ls"
      ],
      "execution_count": 4,
      "outputs": [
        {
          "output_type": "stream",
          "text": [
            "anoSC1_v11_nokey.csv  anoSC2_v20_nokey.csv  eset_HuGene21ST.csv  HTA20_RMA.csv\n"
          ],
          "name": "stdout"
        }
      ]
    },
    {
      "cell_type": "code",
      "metadata": {
        "colab": {
          "base_uri": "https://localhost:8080/",
          "height": 206
        },
        "id": "bVQ8pr4ZyHxI",
        "outputId": "6dea7bd5-b7b4-44a2-c800-6867e0b2b459"
      },
      "source": [
        "import pandas as pd\n",
        "\n",
        "data = pd.read_csv('anoSC1_v11_nokey.csv')\n",
        "data.head()"
      ],
      "execution_count": 6,
      "outputs": [
        {
          "output_type": "execute_result",
          "data": {
            "text/html": [
              "<div>\n",
              "<style scoped>\n",
              "    .dataframe tbody tr th:only-of-type {\n",
              "        vertical-align: middle;\n",
              "    }\n",
              "\n",
              "    .dataframe tbody tr th {\n",
              "        vertical-align: top;\n",
              "    }\n",
              "\n",
              "    .dataframe thead th {\n",
              "        text-align: right;\n",
              "    }\n",
              "</style>\n",
              "<table border=\"1\" class=\"dataframe\">\n",
              "  <thead>\n",
              "    <tr style=\"text-align: right;\">\n",
              "      <th></th>\n",
              "      <th>SampleID</th>\n",
              "      <th>GA</th>\n",
              "      <th>Batch</th>\n",
              "      <th>Set</th>\n",
              "      <th>Train</th>\n",
              "      <th>Platform</th>\n",
              "    </tr>\n",
              "  </thead>\n",
              "  <tbody>\n",
              "    <tr>\n",
              "      <th>0</th>\n",
              "      <td>Tarca_001_P1A01</td>\n",
              "      <td>11.0</td>\n",
              "      <td>1</td>\n",
              "      <td>PRB_HTA</td>\n",
              "      <td>1</td>\n",
              "      <td>HTA20</td>\n",
              "    </tr>\n",
              "    <tr>\n",
              "      <th>1</th>\n",
              "      <td>Tarca_013_P1B01</td>\n",
              "      <td>15.3</td>\n",
              "      <td>1</td>\n",
              "      <td>PRB_HTA</td>\n",
              "      <td>1</td>\n",
              "      <td>HTA20</td>\n",
              "    </tr>\n",
              "    <tr>\n",
              "      <th>2</th>\n",
              "      <td>Tarca_025_P1C01</td>\n",
              "      <td>21.7</td>\n",
              "      <td>1</td>\n",
              "      <td>PRB_HTA</td>\n",
              "      <td>1</td>\n",
              "      <td>HTA20</td>\n",
              "    </tr>\n",
              "    <tr>\n",
              "      <th>3</th>\n",
              "      <td>Tarca_037_P1D01</td>\n",
              "      <td>26.7</td>\n",
              "      <td>1</td>\n",
              "      <td>PRB_HTA</td>\n",
              "      <td>1</td>\n",
              "      <td>HTA20</td>\n",
              "    </tr>\n",
              "    <tr>\n",
              "      <th>4</th>\n",
              "      <td>Tarca_049_P1E01</td>\n",
              "      <td>31.3</td>\n",
              "      <td>1</td>\n",
              "      <td>PRB_HTA</td>\n",
              "      <td>1</td>\n",
              "      <td>HTA20</td>\n",
              "    </tr>\n",
              "  </tbody>\n",
              "</table>\n",
              "</div>"
            ],
            "text/plain": [
              "          SampleID    GA  Batch      Set  Train Platform\n",
              "0  Tarca_001_P1A01  11.0      1  PRB_HTA      1    HTA20\n",
              "1  Tarca_013_P1B01  15.3      1  PRB_HTA      1    HTA20\n",
              "2  Tarca_025_P1C01  21.7      1  PRB_HTA      1    HTA20\n",
              "3  Tarca_037_P1D01  26.7      1  PRB_HTA      1    HTA20\n",
              "4  Tarca_049_P1E01  31.3      1  PRB_HTA      1    HTA20"
            ]
          },
          "metadata": {
            "tags": []
          },
          "execution_count": 6
        }
      ]
    }
  ]
}