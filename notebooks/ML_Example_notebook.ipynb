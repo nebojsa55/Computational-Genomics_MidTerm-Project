{
  "nbformat": 4,
  "nbformat_minor": 0,
  "metadata": {
    "colab": {
      "name": "ML-Example-notebook.ipynb",
      "provenance": [],
      "include_colab_link": true
    },
    "kernelspec": {
      "name": "python3",
      "display_name": "Python 3",
      "language": "python"
    }
  },
  "cells": [
    {
      "cell_type": "markdown",
      "metadata": {
        "id": "view-in-github",
        "colab_type": "text"
      },
      "source": [
        "<a href=\"https://colab.research.google.com/github/nebojsa55/Computational-Genomics_MidTerm-Project/blob/master/notebooks/ML_Example_notebook.ipynb\" target=\"_parent\"><img src=\"https://colab.research.google.com/assets/colab-badge.svg\" alt=\"Open In Colab\"/></a>"
      ]
    },
    {
      "cell_type": "markdown",
      "metadata": {
        "id": "kvBu3vZLwZDD"
      },
      "source": [
        "This notebook will provide complete insight in the training and testing process of [DREAM Birth challenge](https://www.synapse.org/#!Synapse:syn18380862wiki590485) Subchallenge 1"
      ]
    },
    {
      "cell_type": "code",
      "metadata": {
        "id": "Y4i3AN50qb3V",
        "colab": {
          "base_uri": "https://localhost:8080/"
        },
        "outputId": "0c51c19a-be70-4767-c816-97dc49bb3495"
      },
      "source": [
        "import numpy as np\n",
        "import pandas as pd\n",
        "from google.colab import drive\n",
        "drive.mount('/content/drive')\n",
        "\n",
        "# Navigate to the folder cointaing our data\n",
        "%cd 'drive/MyDrive/ETF/Master/Computational-Genomics/Project/data'\n"
      ],
      "execution_count": 1,
      "outputs": [
        {
          "output_type": "stream",
          "text": [
            "Drive already mounted at /content/drive; to attempt to forcibly remount, call drive.mount(\"/content/drive\", force_remount=True).\n",
            "/content/drive/MyDrive/ETF/Master/Computational-Genomics/Project/data\n"
          ],
          "name": "stdout"
        }
      ]
    },
    {
      "cell_type": "code",
      "metadata": {
        "id": "VnnfKMy2qhpV",
        "colab": {
          "base_uri": "https://localhost:8080/"
        },
        "outputId": "de544aac-8976-4271-f0a6-b50fb6158b47"
      },
      "source": [
        "# Verify the chosen folder\n",
        "!ls"
      ],
      "execution_count": 2,
      "outputs": [
        {
          "output_type": "stream",
          "text": [
            "anoSC1_v11_nokey.csv  anoSC2_v20_nokey.csv  eset_HuGene21ST.csv  HTA20_RMA.csv\n"
          ],
          "name": "stdout"
        }
      ]
    },
    {
      "cell_type": "code",
      "metadata": {
        "colab": {
          "base_uri": "https://localhost:8080/",
          "height": 238
        },
        "id": "bVQ8pr4ZyHxI",
        "outputId": "9e554b86-3d4c-4df8-9aaf-4b8e8f245613"
      },
      "source": [
        "anno = pd.read_csv('anoSC1_v11_nokey.csv', delimiter = ',', index_col = 0)\n",
        "anno.head()"
      ],
      "execution_count": 3,
      "outputs": [
        {
          "output_type": "execute_result",
          "data": {
            "text/html": [
              "<div>\n",
              "<style scoped>\n",
              "    .dataframe tbody tr th:only-of-type {\n",
              "        vertical-align: middle;\n",
              "    }\n",
              "\n",
              "    .dataframe tbody tr th {\n",
              "        vertical-align: top;\n",
              "    }\n",
              "\n",
              "    .dataframe thead th {\n",
              "        text-align: right;\n",
              "    }\n",
              "</style>\n",
              "<table border=\"1\" class=\"dataframe\">\n",
              "  <thead>\n",
              "    <tr style=\"text-align: right;\">\n",
              "      <th></th>\n",
              "      <th>GA</th>\n",
              "      <th>Batch</th>\n",
              "      <th>Set</th>\n",
              "      <th>Train</th>\n",
              "      <th>Platform</th>\n",
              "    </tr>\n",
              "    <tr>\n",
              "      <th>SampleID</th>\n",
              "      <th></th>\n",
              "      <th></th>\n",
              "      <th></th>\n",
              "      <th></th>\n",
              "      <th></th>\n",
              "    </tr>\n",
              "  </thead>\n",
              "  <tbody>\n",
              "    <tr>\n",
              "      <th>Tarca_001_P1A01</th>\n",
              "      <td>11.0</td>\n",
              "      <td>1</td>\n",
              "      <td>PRB_HTA</td>\n",
              "      <td>1</td>\n",
              "      <td>HTA20</td>\n",
              "    </tr>\n",
              "    <tr>\n",
              "      <th>Tarca_013_P1B01</th>\n",
              "      <td>15.3</td>\n",
              "      <td>1</td>\n",
              "      <td>PRB_HTA</td>\n",
              "      <td>1</td>\n",
              "      <td>HTA20</td>\n",
              "    </tr>\n",
              "    <tr>\n",
              "      <th>Tarca_025_P1C01</th>\n",
              "      <td>21.7</td>\n",
              "      <td>1</td>\n",
              "      <td>PRB_HTA</td>\n",
              "      <td>1</td>\n",
              "      <td>HTA20</td>\n",
              "    </tr>\n",
              "    <tr>\n",
              "      <th>Tarca_037_P1D01</th>\n",
              "      <td>26.7</td>\n",
              "      <td>1</td>\n",
              "      <td>PRB_HTA</td>\n",
              "      <td>1</td>\n",
              "      <td>HTA20</td>\n",
              "    </tr>\n",
              "    <tr>\n",
              "      <th>Tarca_049_P1E01</th>\n",
              "      <td>31.3</td>\n",
              "      <td>1</td>\n",
              "      <td>PRB_HTA</td>\n",
              "      <td>1</td>\n",
              "      <td>HTA20</td>\n",
              "    </tr>\n",
              "  </tbody>\n",
              "</table>\n",
              "</div>"
            ],
            "text/plain": [
              "                   GA  Batch      Set  Train Platform\n",
              "SampleID                                             \n",
              "Tarca_001_P1A01  11.0      1  PRB_HTA      1    HTA20\n",
              "Tarca_013_P1B01  15.3      1  PRB_HTA      1    HTA20\n",
              "Tarca_025_P1C01  21.7      1  PRB_HTA      1    HTA20\n",
              "Tarca_037_P1D01  26.7      1  PRB_HTA      1    HTA20\n",
              "Tarca_049_P1E01  31.3      1  PRB_HTA      1    HTA20"
            ]
          },
          "metadata": {
            "tags": []
          },
          "execution_count": 3
        }
      ]
    },
    {
      "cell_type": "code",
      "metadata": {
        "id": "-kmKr4UcG5Ss",
        "colab": {
          "base_uri": "https://localhost:8080/",
          "height": 290
        },
        "outputId": "51424611-5182-4566-d266-956046b24d43"
      },
      "source": [
        "HTA20_RMA = pd.read_csv('HTA20_RMA.csv', delimiter = ',', index_col = 0).transpose()\n",
        "HTA20_RMA.head()"
      ],
      "execution_count": 4,
      "outputs": [
        {
          "output_type": "execute_result",
          "data": {
            "text/html": [
              "<div>\n",
              "<style scoped>\n",
              "    .dataframe tbody tr th:only-of-type {\n",
              "        vertical-align: middle;\n",
              "    }\n",
              "\n",
              "    .dataframe tbody tr th {\n",
              "        vertical-align: top;\n",
              "    }\n",
              "\n",
              "    .dataframe thead th {\n",
              "        text-align: right;\n",
              "    }\n",
              "</style>\n",
              "<table border=\"1\" class=\"dataframe\">\n",
              "  <thead>\n",
              "    <tr style=\"text-align: right;\">\n",
              "      <th></th>\n",
              "      <th>1_at</th>\n",
              "      <th>10_at</th>\n",
              "      <th>100_at</th>\n",
              "      <th>1000_at</th>\n",
              "      <th>10000_at</th>\n",
              "      <th>100009613_at</th>\n",
              "      <th>100009676_at</th>\n",
              "      <th>10001_at</th>\n",
              "      <th>10002_at</th>\n",
              "      <th>10003_at</th>\n",
              "      <th>100033411_at</th>\n",
              "      <th>100033413_at</th>\n",
              "      <th>100033414_at</th>\n",
              "      <th>100033418_at</th>\n",
              "      <th>100033420_at</th>\n",
              "      <th>100033422_at</th>\n",
              "      <th>100033423_at</th>\n",
              "      <th>100033424_at</th>\n",
              "      <th>100033425_at</th>\n",
              "      <th>100033426_at</th>\n",
              "      <th>100033427_at</th>\n",
              "      <th>100033428_at</th>\n",
              "      <th>100033430_at</th>\n",
              "      <th>100033431_at</th>\n",
              "      <th>100033432_at</th>\n",
              "      <th>100033433_at</th>\n",
              "      <th>100033434_at</th>\n",
              "      <th>100033435_at</th>\n",
              "      <th>100033436_at</th>\n",
              "      <th>100033437_at</th>\n",
              "      <th>100033438_at</th>\n",
              "      <th>100033439_at</th>\n",
              "      <th>100033440_at</th>\n",
              "      <th>100033441_at</th>\n",
              "      <th>100033444_at</th>\n",
              "      <th>100033445_at</th>\n",
              "      <th>100033447_at</th>\n",
              "      <th>100033451_at</th>\n",
              "      <th>100033453_at</th>\n",
              "      <th>100033603_at</th>\n",
              "      <th>...</th>\n",
              "      <th>9989_at</th>\n",
              "      <th>999_at</th>\n",
              "      <th>9990_at</th>\n",
              "      <th>9991_at</th>\n",
              "      <th>9992_at</th>\n",
              "      <th>9993_at</th>\n",
              "      <th>9994_at</th>\n",
              "      <th>9995_at</th>\n",
              "      <th>9997_at</th>\n",
              "      <th>AFFX-BkGr-GC03_at</th>\n",
              "      <th>AFFX-BkGr-GC04_at</th>\n",
              "      <th>AFFX-BkGr-GC05_at</th>\n",
              "      <th>AFFX-BkGr-GC06_at</th>\n",
              "      <th>AFFX-BkGr-GC07_at</th>\n",
              "      <th>AFFX-BkGr-GC08_at</th>\n",
              "      <th>AFFX-BkGr-GC09_at</th>\n",
              "      <th>AFFX-BkGr-GC10_at</th>\n",
              "      <th>AFFX-BkGr-GC11_at</th>\n",
              "      <th>AFFX-BkGr-GC12_at</th>\n",
              "      <th>AFFX-BkGr-GC13_at</th>\n",
              "      <th>AFFX-BkGr-GC14_at</th>\n",
              "      <th>AFFX-BkGr-GC15_at</th>\n",
              "      <th>AFFX-BkGr-GC16_at</th>\n",
              "      <th>AFFX-BkGr-GC17_at</th>\n",
              "      <th>AFFX-BkGr-GC18_at</th>\n",
              "      <th>AFFX-BkGr-GC19_at</th>\n",
              "      <th>AFFX-BkGr-GC20_at</th>\n",
              "      <th>AFFX-BkGr-GC21_at</th>\n",
              "      <th>AFFX-BkGr-GC22_at</th>\n",
              "      <th>AFFX-BkGr-GC23_at</th>\n",
              "      <th>AFFX-BkGr-GC24_at</th>\n",
              "      <th>AFFX-BkGr-GC25_at</th>\n",
              "      <th>AFFX-r2-Bs-dap-5_st</th>\n",
              "      <th>AFFX-r2-Bs-lys-5_st</th>\n",
              "      <th>AFFX-r2-Bs-phe-5_st</th>\n",
              "      <th>AFFX-r2-Bs-thr-5_st</th>\n",
              "      <th>AFFX-r2-Ec-bioB-5_at</th>\n",
              "      <th>AFFX-r2-Ec-bioC-5_at</th>\n",
              "      <th>AFFX-r2-Ec-bioD-5_at</th>\n",
              "      <th>AFFX-r2-P1-cre-5_at</th>\n",
              "    </tr>\n",
              "  </thead>\n",
              "  <tbody>\n",
              "    <tr>\n",
              "      <th>Tarca_001_P1A01</th>\n",
              "      <td>6.062215</td>\n",
              "      <td>3.796484</td>\n",
              "      <td>5.849338</td>\n",
              "      <td>3.567779</td>\n",
              "      <td>6.166815</td>\n",
              "      <td>4.443027</td>\n",
              "      <td>5.836522</td>\n",
              "      <td>6.330018</td>\n",
              "      <td>4.922339</td>\n",
              "      <td>2.689344</td>\n",
              "      <td>2.745619</td>\n",
              "      <td>2.760609</td>\n",
              "      <td>3.794684</td>\n",
              "      <td>2.848183</td>\n",
              "      <td>2.812774</td>\n",
              "      <td>2.140590</td>\n",
              "      <td>2.692848</td>\n",
              "      <td>2.352924</td>\n",
              "      <td>2.484768</td>\n",
              "      <td>6.538760</td>\n",
              "      <td>9.544726</td>\n",
              "      <td>2.362534</td>\n",
              "      <td>2.406803</td>\n",
              "      <td>4.657512</td>\n",
              "      <td>3.047816</td>\n",
              "      <td>2.109620</td>\n",
              "      <td>5.771233</td>\n",
              "      <td>4.077138</td>\n",
              "      <td>3.123733</td>\n",
              "      <td>2.195346</td>\n",
              "      <td>2.975659</td>\n",
              "      <td>3.324574</td>\n",
              "      <td>2.430415</td>\n",
              "      <td>2.135031</td>\n",
              "      <td>2.073197</td>\n",
              "      <td>2.400044</td>\n",
              "      <td>2.235433</td>\n",
              "      <td>2.274116</td>\n",
              "      <td>2.261528</td>\n",
              "      <td>2.395431</td>\n",
              "      <td>...</td>\n",
              "      <td>8.815727</td>\n",
              "      <td>5.624144</td>\n",
              "      <td>9.769020</td>\n",
              "      <td>9.700440</td>\n",
              "      <td>3.771009</td>\n",
              "      <td>8.227688</td>\n",
              "      <td>5.992462</td>\n",
              "      <td>5.387680</td>\n",
              "      <td>7.220196</td>\n",
              "      <td>2.191452</td>\n",
              "      <td>2.111011</td>\n",
              "      <td>2.108250</td>\n",
              "      <td>2.120018</td>\n",
              "      <td>2.159772</td>\n",
              "      <td>2.215722</td>\n",
              "      <td>2.223840</td>\n",
              "      <td>2.286487</td>\n",
              "      <td>2.371125</td>\n",
              "      <td>2.499349</td>\n",
              "      <td>2.741896</td>\n",
              "      <td>3.064696</td>\n",
              "      <td>3.792943</td>\n",
              "      <td>4.401289</td>\n",
              "      <td>4.918235</td>\n",
              "      <td>5.631017</td>\n",
              "      <td>5.963709</td>\n",
              "      <td>6.412206</td>\n",
              "      <td>7.216170</td>\n",
              "      <td>7.863468</td>\n",
              "      <td>8.502729</td>\n",
              "      <td>8.786114</td>\n",
              "      <td>11.587051</td>\n",
              "      <td>8.342203</td>\n",
              "      <td>4.520028</td>\n",
              "      <td>5.636615</td>\n",
              "      <td>6.709797</td>\n",
              "      <td>8.972873</td>\n",
              "      <td>10.440245</td>\n",
              "      <td>12.101476</td>\n",
              "      <td>13.695705</td>\n",
              "    </tr>\n",
              "    <tr>\n",
              "      <th>Tarca_003_P1A03</th>\n",
              "      <td>6.125023</td>\n",
              "      <td>3.805305</td>\n",
              "      <td>6.191562</td>\n",
              "      <td>3.452524</td>\n",
              "      <td>5.678373</td>\n",
              "      <td>4.773199</td>\n",
              "      <td>6.143398</td>\n",
              "      <td>5.601745</td>\n",
              "      <td>4.711765</td>\n",
              "      <td>2.771010</td>\n",
              "      <td>3.263577</td>\n",
              "      <td>2.402899</td>\n",
              "      <td>3.346500</td>\n",
              "      <td>2.295464</td>\n",
              "      <td>2.752254</td>\n",
              "      <td>2.230644</td>\n",
              "      <td>2.808706</td>\n",
              "      <td>2.744754</td>\n",
              "      <td>2.392213</td>\n",
              "      <td>6.467364</td>\n",
              "      <td>8.983699</td>\n",
              "      <td>2.072872</td>\n",
              "      <td>2.145610</td>\n",
              "      <td>4.924804</td>\n",
              "      <td>2.951409</td>\n",
              "      <td>2.159747</td>\n",
              "      <td>5.714813</td>\n",
              "      <td>3.980073</td>\n",
              "      <td>2.873573</td>\n",
              "      <td>2.296149</td>\n",
              "      <td>2.765574</td>\n",
              "      <td>3.076334</td>\n",
              "      <td>1.960614</td>\n",
              "      <td>2.248927</td>\n",
              "      <td>2.554416</td>\n",
              "      <td>2.177165</td>\n",
              "      <td>2.065589</td>\n",
              "      <td>2.202918</td>\n",
              "      <td>2.091162</td>\n",
              "      <td>1.976425</td>\n",
              "      <td>...</td>\n",
              "      <td>8.226103</td>\n",
              "      <td>6.582291</td>\n",
              "      <td>9.389587</td>\n",
              "      <td>9.271577</td>\n",
              "      <td>3.838563</td>\n",
              "      <td>8.083417</td>\n",
              "      <td>5.826221</td>\n",
              "      <td>5.780958</td>\n",
              "      <td>7.440989</td>\n",
              "      <td>2.011836</td>\n",
              "      <td>2.053886</td>\n",
              "      <td>2.062657</td>\n",
              "      <td>2.106248</td>\n",
              "      <td>2.107264</td>\n",
              "      <td>2.171664</td>\n",
              "      <td>2.195808</td>\n",
              "      <td>2.285022</td>\n",
              "      <td>2.385383</td>\n",
              "      <td>2.570683</td>\n",
              "      <td>2.905709</td>\n",
              "      <td>3.323025</td>\n",
              "      <td>4.155433</td>\n",
              "      <td>4.921309</td>\n",
              "      <td>5.625932</td>\n",
              "      <td>6.350828</td>\n",
              "      <td>6.794233</td>\n",
              "      <td>7.217978</td>\n",
              "      <td>8.070590</td>\n",
              "      <td>8.642121</td>\n",
              "      <td>9.393085</td>\n",
              "      <td>9.594813</td>\n",
              "      <td>12.138090</td>\n",
              "      <td>9.010691</td>\n",
              "      <td>5.148384</td>\n",
              "      <td>6.723139</td>\n",
              "      <td>6.153199</td>\n",
              "      <td>9.376194</td>\n",
              "      <td>10.845176</td>\n",
              "      <td>12.370891</td>\n",
              "      <td>13.635522</td>\n",
              "    </tr>\n",
              "    <tr>\n",
              "      <th>Tarca_004_P1A04</th>\n",
              "      <td>5.875502</td>\n",
              "      <td>3.450245</td>\n",
              "      <td>6.550525</td>\n",
              "      <td>3.316134</td>\n",
              "      <td>6.185059</td>\n",
              "      <td>4.393488</td>\n",
              "      <td>5.898364</td>\n",
              "      <td>6.137984</td>\n",
              "      <td>4.628124</td>\n",
              "      <td>2.556756</td>\n",
              "      <td>2.707656</td>\n",
              "      <td>3.036456</td>\n",
              "      <td>4.299712</td>\n",
              "      <td>2.483257</td>\n",
              "      <td>3.513083</td>\n",
              "      <td>2.268800</td>\n",
              "      <td>3.034612</td>\n",
              "      <td>2.385361</td>\n",
              "      <td>2.288809</td>\n",
              "      <td>7.389350</td>\n",
              "      <td>10.039720</td>\n",
              "      <td>2.154480</td>\n",
              "      <td>2.025051</td>\n",
              "      <td>5.993964</td>\n",
              "      <td>2.810200</td>\n",
              "      <td>1.943169</td>\n",
              "      <td>6.154146</td>\n",
              "      <td>4.331164</td>\n",
              "      <td>2.710385</td>\n",
              "      <td>2.238039</td>\n",
              "      <td>2.833525</td>\n",
              "      <td>3.401957</td>\n",
              "      <td>2.044615</td>\n",
              "      <td>2.048938</td>\n",
              "      <td>1.958607</td>\n",
              "      <td>1.918034</td>\n",
              "      <td>1.815077</td>\n",
              "      <td>2.009749</td>\n",
              "      <td>2.109266</td>\n",
              "      <td>2.257260</td>\n",
              "      <td>...</td>\n",
              "      <td>8.454372</td>\n",
              "      <td>5.852143</td>\n",
              "      <td>9.431374</td>\n",
              "      <td>9.470850</td>\n",
              "      <td>3.568739</td>\n",
              "      <td>7.983239</td>\n",
              "      <td>6.175550</td>\n",
              "      <td>5.393079</td>\n",
              "      <td>7.331443</td>\n",
              "      <td>2.088989</td>\n",
              "      <td>2.003418</td>\n",
              "      <td>2.026268</td>\n",
              "      <td>2.039770</td>\n",
              "      <td>2.045315</td>\n",
              "      <td>2.089306</td>\n",
              "      <td>2.105618</td>\n",
              "      <td>2.184611</td>\n",
              "      <td>2.283092</td>\n",
              "      <td>2.430860</td>\n",
              "      <td>2.698857</td>\n",
              "      <td>3.048324</td>\n",
              "      <td>3.767554</td>\n",
              "      <td>4.423481</td>\n",
              "      <td>5.102220</td>\n",
              "      <td>5.843332</td>\n",
              "      <td>6.258922</td>\n",
              "      <td>6.762380</td>\n",
              "      <td>7.623269</td>\n",
              "      <td>8.280635</td>\n",
              "      <td>9.033983</td>\n",
              "      <td>9.294845</td>\n",
              "      <td>12.049271</td>\n",
              "      <td>8.555541</td>\n",
              "      <td>4.441900</td>\n",
              "      <td>6.016953</td>\n",
              "      <td>9.590764</td>\n",
              "      <td>8.843612</td>\n",
              "      <td>10.493416</td>\n",
              "      <td>12.295786</td>\n",
              "      <td>13.616688</td>\n",
              "    </tr>\n",
              "    <tr>\n",
              "      <th>Tarca_005_P1A05</th>\n",
              "      <td>6.126131</td>\n",
              "      <td>3.628411</td>\n",
              "      <td>6.421877</td>\n",
              "      <td>3.432451</td>\n",
              "      <td>5.633757</td>\n",
              "      <td>4.623783</td>\n",
              "      <td>6.019792</td>\n",
              "      <td>5.787502</td>\n",
              "      <td>4.796283</td>\n",
              "      <td>2.613415</td>\n",
              "      <td>2.807741</td>\n",
              "      <td>2.645834</td>\n",
              "      <td>3.810852</td>\n",
              "      <td>3.238697</td>\n",
              "      <td>2.784896</td>\n",
              "      <td>2.331521</td>\n",
              "      <td>2.756186</td>\n",
              "      <td>2.362922</td>\n",
              "      <td>2.314093</td>\n",
              "      <td>6.896619</td>\n",
              "      <td>9.346465</td>\n",
              "      <td>2.051147</td>\n",
              "      <td>2.134905</td>\n",
              "      <td>4.942601</td>\n",
              "      <td>3.305603</td>\n",
              "      <td>2.407998</td>\n",
              "      <td>5.454726</td>\n",
              "      <td>4.206752</td>\n",
              "      <td>2.410564</td>\n",
              "      <td>2.268998</td>\n",
              "      <td>2.669970</td>\n",
              "      <td>3.014598</td>\n",
              "      <td>2.033149</td>\n",
              "      <td>2.310311</td>\n",
              "      <td>2.188688</td>\n",
              "      <td>1.991138</td>\n",
              "      <td>2.243578</td>\n",
              "      <td>2.077085</td>\n",
              "      <td>2.033383</td>\n",
              "      <td>2.458295</td>\n",
              "      <td>...</td>\n",
              "      <td>8.606502</td>\n",
              "      <td>6.114320</td>\n",
              "      <td>9.544130</td>\n",
              "      <td>9.374321</td>\n",
              "      <td>3.691639</td>\n",
              "      <td>8.270554</td>\n",
              "      <td>5.635078</td>\n",
              "      <td>5.183500</td>\n",
              "      <td>7.298491</td>\n",
              "      <td>2.044670</td>\n",
              "      <td>2.094643</td>\n",
              "      <td>2.139602</td>\n",
              "      <td>2.094847</td>\n",
              "      <td>2.126440</td>\n",
              "      <td>2.150045</td>\n",
              "      <td>2.199919</td>\n",
              "      <td>2.325623</td>\n",
              "      <td>2.383102</td>\n",
              "      <td>2.567234</td>\n",
              "      <td>2.876098</td>\n",
              "      <td>3.277482</td>\n",
              "      <td>4.066424</td>\n",
              "      <td>4.859661</td>\n",
              "      <td>5.400951</td>\n",
              "      <td>6.173044</td>\n",
              "      <td>6.645898</td>\n",
              "      <td>7.140619</td>\n",
              "      <td>7.980902</td>\n",
              "      <td>8.647948</td>\n",
              "      <td>9.400945</td>\n",
              "      <td>9.694992</td>\n",
              "      <td>12.311885</td>\n",
              "      <td>9.164106</td>\n",
              "      <td>4.529299</td>\n",
              "      <td>6.990176</td>\n",
              "      <td>5.437926</td>\n",
              "      <td>9.191471</td>\n",
              "      <td>10.879879</td>\n",
              "      <td>12.249936</td>\n",
              "      <td>13.524328</td>\n",
              "    </tr>\n",
              "    <tr>\n",
              "      <th>Tarca_006_P1A06</th>\n",
              "      <td>6.146466</td>\n",
              "      <td>3.446812</td>\n",
              "      <td>6.260962</td>\n",
              "      <td>3.477162</td>\n",
              "      <td>5.313198</td>\n",
              "      <td>4.422651</td>\n",
              "      <td>6.407699</td>\n",
              "      <td>5.830437</td>\n",
              "      <td>4.726488</td>\n",
              "      <td>2.631878</td>\n",
              "      <td>2.763387</td>\n",
              "      <td>3.105819</td>\n",
              "      <td>3.758044</td>\n",
              "      <td>2.501649</td>\n",
              "      <td>2.561260</td>\n",
              "      <td>2.455754</td>\n",
              "      <td>3.007438</td>\n",
              "      <td>2.332454</td>\n",
              "      <td>2.367595</td>\n",
              "      <td>6.941780</td>\n",
              "      <td>9.567956</td>\n",
              "      <td>2.472964</td>\n",
              "      <td>2.161994</td>\n",
              "      <td>5.286657</td>\n",
              "      <td>3.247169</td>\n",
              "      <td>2.878103</td>\n",
              "      <td>5.605735</td>\n",
              "      <td>4.337340</td>\n",
              "      <td>2.828053</td>\n",
              "      <td>2.455532</td>\n",
              "      <td>2.856074</td>\n",
              "      <td>3.206121</td>\n",
              "      <td>2.154353</td>\n",
              "      <td>1.970942</td>\n",
              "      <td>2.178542</td>\n",
              "      <td>2.094531</td>\n",
              "      <td>2.141441</td>\n",
              "      <td>2.075437</td>\n",
              "      <td>2.102256</td>\n",
              "      <td>2.141675</td>\n",
              "      <td>...</td>\n",
              "      <td>8.385291</td>\n",
              "      <td>6.566107</td>\n",
              "      <td>9.411351</td>\n",
              "      <td>9.267968</td>\n",
              "      <td>3.758960</td>\n",
              "      <td>8.012785</td>\n",
              "      <td>5.740465</td>\n",
              "      <td>5.434734</td>\n",
              "      <td>7.413392</td>\n",
              "      <td>2.170965</td>\n",
              "      <td>2.088567</td>\n",
              "      <td>2.095180</td>\n",
              "      <td>2.132475</td>\n",
              "      <td>2.139009</td>\n",
              "      <td>2.157587</td>\n",
              "      <td>2.199556</td>\n",
              "      <td>2.332073</td>\n",
              "      <td>2.395501</td>\n",
              "      <td>2.608228</td>\n",
              "      <td>2.871665</td>\n",
              "      <td>3.274047</td>\n",
              "      <td>4.047538</td>\n",
              "      <td>4.932088</td>\n",
              "      <td>5.494324</td>\n",
              "      <td>6.250512</td>\n",
              "      <td>6.722213</td>\n",
              "      <td>7.175260</td>\n",
              "      <td>8.003085</td>\n",
              "      <td>8.659736</td>\n",
              "      <td>9.397893</td>\n",
              "      <td>9.600712</td>\n",
              "      <td>12.173934</td>\n",
              "      <td>8.105479</td>\n",
              "      <td>4.989477</td>\n",
              "      <td>6.247265</td>\n",
              "      <td>7.550088</td>\n",
              "      <td>9.247768</td>\n",
              "      <td>10.754316</td>\n",
              "      <td>12.245458</td>\n",
              "      <td>13.509353</td>\n",
              "    </tr>\n",
              "  </tbody>\n",
              "</table>\n",
              "<p>5 rows × 32830 columns</p>\n",
              "</div>"
            ],
            "text/plain": [
              "                     1_at     10_at  ...  AFFX-r2-Ec-bioD-5_at  AFFX-r2-P1-cre-5_at\n",
              "Tarca_001_P1A01  6.062215  3.796484  ...             12.101476            13.695705\n",
              "Tarca_003_P1A03  6.125023  3.805305  ...             12.370891            13.635522\n",
              "Tarca_004_P1A04  5.875502  3.450245  ...             12.295786            13.616688\n",
              "Tarca_005_P1A05  6.126131  3.628411  ...             12.249936            13.524328\n",
              "Tarca_006_P1A06  6.146466  3.446812  ...             12.245458            13.509353\n",
              "\n",
              "[5 rows x 32830 columns]"
            ]
          },
          "metadata": {
            "tags": []
          },
          "execution_count": 4
        }
      ]
    },
    {
      "cell_type": "markdown",
      "metadata": {
        "id": "TT3s9eQiq6-h"
      },
      "source": [
        "## Missing data\n",
        "\n",
        "Unfortunately, all of the test data are missing **GA** (gastetion age) parameter, due to the nature od DREAM Pretem Challenge. In order to overcome this, we will use only the original training set for our model training and testing. 10% of data was used for testing (37 samples). 10-fold cross validation was performed in order to determine our ML model."
      ]
    },
    {
      "cell_type": "code",
      "metadata": {
        "colab": {
          "base_uri": "https://localhost:8080/"
        },
        "id": "TReRulx0Ls45",
        "outputId": "c33698ed-5071-4bd1-c43b-c526889d209d"
      },
      "source": [
        "anno.loc[anno['Train'] == 1].shape[0]"
      ],
      "execution_count": 5,
      "outputs": [
        {
          "output_type": "execute_result",
          "data": {
            "text/plain": [
              "367"
            ]
          },
          "metadata": {
            "tags": []
          },
          "execution_count": 5
        }
      ]
    },
    {
      "cell_type": "code",
      "metadata": {
        "id": "jQQutF5JVWEh"
      },
      "source": [
        "# Sync the X and y data by sorting the labels\n",
        "\n",
        "df1 = anno.sort_index()\n",
        "df2 = HTA20_RMA.sort_index()\n",
        "\n",
        "X = df2.iloc[np.array(np.logical_not(df1['GA'].isna())),:]\n",
        "y = df1.dropna().loc[:,['GA','Batch']]\n"
      ],
      "execution_count": 6,
      "outputs": []
    },
    {
      "cell_type": "code",
      "metadata": {
        "id": "ZcfV6Mt1qOHr",
        "colab": {
          "base_uri": "https://localhost:8080/"
        },
        "outputId": "b4ed3c09-2ec2-4c9b-c5ad-ecdaf59c12ca"
      },
      "source": [
        "# Check to see if the indexes are the same\n",
        "(X.index == y.index).all()"
      ],
      "execution_count": 7,
      "outputs": [
        {
          "output_type": "execute_result",
          "data": {
            "text/plain": [
              "True"
            ]
          },
          "metadata": {
            "tags": []
          },
          "execution_count": 7
        }
      ]
    },
    {
      "cell_type": "markdown",
      "metadata": {
        "id": "hZxsMMQUqOHt"
      },
      "source": [
        "## Standard scaling\n",
        "We will now perform the standard scaling of features from *one batch*"
      ]
    },
    {
      "cell_type": "code",
      "metadata": {
        "id": "6C_XPzQkqOHv"
      },
      "source": [
        "from sklearn.preprocessing import StandardScaler\n",
        "\n",
        "XX = np.zeros(X.shape)\n",
        "for i in [1,2,3,4,5,6,7,8,9,10,32]:\n",
        "    scale = StandardScaler()\n",
        "    indices = np.bool8(y['Batch'] == i)\n",
        "    Xtemp = X.iloc[indices,:]\n",
        "    scale.fit(Xtemp)\n",
        "    XX[indices,:] = scale.transform(Xtemp)"
      ],
      "execution_count": 8,
      "outputs": []
    },
    {
      "cell_type": "code",
      "metadata": {
        "id": "XaB3DNRjqOHw"
      },
      "source": [
        "# delete batch column\n",
        "yy = y['GA']"
      ],
      "execution_count": 9,
      "outputs": []
    },
    {
      "cell_type": "markdown",
      "metadata": {
        "id": "d-U8RW6io_Cz"
      },
      "source": [
        "## Regression\n",
        "\n",
        "In this section we will perform regression using a couple of well known regressors such as:\n",
        "* **Random forrest regressor** and\n",
        "* **Support vector regressor**\n",
        "\n",
        "The main regression metric will be **RMSE** (Root mean square error), as it was used in DREAM Preterm challenge.\n",
        "\n",
        "### Random forest regressor"
      ]
    },
    {
      "cell_type": "code",
      "metadata": {
        "colab": {
          "base_uri": "https://localhost:8080/"
        },
        "id": "PGgvJuIoN0E2",
        "outputId": "63d46037-21da-4097-a482-9abe500523f7"
      },
      "source": [
        "# import necessary ML modules\n",
        "from sklearn.decomposition import PCA\n",
        "from sklearn.model_selection import KFold\n",
        "from sklearn.ensemble import RandomForestRegressor\n",
        "from sklearn.metrics import mean_squared_error\n",
        "from tqdm import tqdm\n",
        "\n",
        "\n",
        "num_of_splits = 10\n",
        "kf = KFold(n_splits = num_of_splits)\n",
        "regressor = RandomForestRegressor(n_estimators = 1000,\n",
        "                                  n_jobs = -1, \n",
        "                                  random_state = 42)\n",
        "\n",
        "pca = PCA(n_components = 0.95, svd_solver = 'full')\n",
        "\n",
        "y_train_pred = []\n",
        "y_test_pred = []\n",
        "\n",
        "for train_index, test_index in tqdm(kf.split(XX), total = num_of_splits, unit = 'iteration'):\n",
        "\n",
        "  X_train_std, X_test_std = XX[train_index,:], XX[test_index,:]\n",
        "  y_train, y_test = yy.iloc[train_index], yy.iloc[test_index]\n",
        "\n",
        "  pca.fit(XX)\n",
        "  \n",
        "  X_train_pca = pca.transform(X_train_std)\n",
        "  X_test_pca = pca.transform(X_test_std)\n",
        "  \n",
        "  regressor.fit(X_train_pca,y_train)\n",
        "  \n",
        "  y_train_pred.append(mean_squared_error(y_train,regressor.predict(X_train_pca), squared = False))\n",
        "  y_test_pred.append(mean_squared_error(y_test,regressor.predict(X_test_pca), squared = False))\n",
        "\n"
      ],
      "execution_count": 10,
      "outputs": [
        {
          "output_type": "stream",
          "text": [
            "100%|██████████| 10/10 [05:55<00:00, 35.60s/iteration]\n"
          ],
          "name": "stderr"
        }
      ]
    },
    {
      "cell_type": "code",
      "metadata": {
        "id": "fpJBc5nxqOHz",
        "colab": {
          "base_uri": "https://localhost:8080/"
        },
        "outputId": "6f8c0f0a-31db-4d35-f0b3-2304748f3c4c"
      },
      "source": [
        "np.mean(y_train_pred)"
      ],
      "execution_count": 11,
      "outputs": [
        {
          "output_type": "execute_result",
          "data": {
            "text/plain": [
              "2.7622168255170916"
            ]
          },
          "metadata": {
            "tags": []
          },
          "execution_count": 11
        }
      ]
    },
    {
      "cell_type": "code",
      "metadata": {
        "id": "KKrdvoT9qOH1",
        "colab": {
          "base_uri": "https://localhost:8080/"
        },
        "outputId": "4e6f0f7c-9da7-49cb-8266-86974dbd8f44"
      },
      "source": [
        "np.mean(y_test_pred)"
      ],
      "execution_count": 12,
      "outputs": [
        {
          "output_type": "execute_result",
          "data": {
            "text/plain": [
              "7.532737936379085"
            ]
          },
          "metadata": {
            "tags": []
          },
          "execution_count": 12
        }
      ]
    },
    {
      "cell_type": "markdown",
      "metadata": {
        "id": "zFgwoq05pq8u"
      },
      "source": [
        "#### Model overfitting\n",
        "We can observe that our current RF model is overfiting. To overcome that, we will try to tune hyperparameters via crossvalidation"
      ]
    },
    {
      "cell_type": "code",
      "metadata": {
        "colab": {
          "base_uri": "https://localhost:8080/",
          "height": 401
        },
        "id": "HxOVWVMAYb4-",
        "outputId": "9f49bd97-7f0d-4ba7-adac-2e9c03c28e9a"
      },
      "source": [
        "from sklearn.model_selection import GridSearchCV\n",
        "from sklearn.metrics import make_scorer\n",
        "from sklearn.model_selection import RandomizedSearchCV\n",
        "\n",
        "scorer = make_scorer(mean_squared_error, greater_is_better = False)\n",
        "\n",
        "n_estimators = [int(x) for x in np.linspace(start = 200, stop = 1000, num = 5)]\n",
        "\n",
        "# Number of features to consider at every split\n",
        "max_features = ['auto', 'sqrt']\n",
        "\n",
        "# Maximum number of levels in tree\n",
        "max_depth = [int(x) for x in np.linspace(10, 100, num = 10)]\n",
        "max_depth.append(None)\n",
        "\n",
        "# Minimum number of samples required to split a node\n",
        "min_samples_split = [2, 5]\n",
        "\n",
        "# Minimum number of samples required at each leaf node\n",
        "min_samples_leaf = [1, 2, 4]\n",
        "\n",
        "# Method of selecting samples for training each tree\n",
        "random_grid = {'n_estimators': n_estimators,\n",
        "               'max_features': max_features,\n",
        "               'max_depth': max_depth,\n",
        "               'min_samples_split': min_samples_split,\n",
        "               'min_samples_leaf': min_samples_leaf,\n",
        "                }\n",
        "\n",
        "\n",
        "# Use the random grid to search for best hyperparameters\n",
        "# First create the base model to tune\n",
        "rf = RandomForestRegressor()\n",
        "# Random search of parameters, using 3 fold cross validation, \n",
        "# search across 100 different combinations, and use all available cores\n",
        "rf_random = RandomizedSearchCV(estimator = rf, \n",
        "                               param_distributions = random_grid, \n",
        "                               n_iter = 20, \n",
        "                               cv = 5, \n",
        "                               verbose = 3, \n",
        "                               random_state = 10)\n",
        "\n",
        "rf_random.fit(XX,yy)"
      ],
      "execution_count": 20,
      "outputs": [
        {
          "output_type": "stream",
          "text": [
            "Fitting 5 folds for each of 20 candidates, totalling 100 fits\n",
            "[CV] n_estimators=1000, min_samples_split=2, min_samples_leaf=2, max_features=auto, max_depth=50 \n"
          ],
          "name": "stdout"
        },
        {
          "output_type": "stream",
          "text": [
            "[Parallel(n_jobs=1)]: Using backend SequentialBackend with 1 concurrent workers.\n"
          ],
          "name": "stderr"
        },
        {
          "output_type": "error",
          "ename": "KeyboardInterrupt",
          "evalue": "ignored",
          "traceback": [
            "\u001b[0;31m---------------------------------------------------------------------------\u001b[0m",
            "\u001b[0;31mKeyboardInterrupt\u001b[0m                         Traceback (most recent call last)",
            "\u001b[0;32m<ipython-input-20-e9b2a5e59ad3>\u001b[0m in \u001b[0;36m<module>\u001b[0;34m()\u001b[0m\n\u001b[1;32m     41\u001b[0m                                random_state = 10)\n\u001b[1;32m     42\u001b[0m \u001b[0;34m\u001b[0m\u001b[0m\n\u001b[0;32m---> 43\u001b[0;31m \u001b[0mrf_random\u001b[0m\u001b[0;34m.\u001b[0m\u001b[0mfit\u001b[0m\u001b[0;34m(\u001b[0m\u001b[0mXX\u001b[0m\u001b[0;34m,\u001b[0m\u001b[0myy\u001b[0m\u001b[0;34m)\u001b[0m\u001b[0;34m\u001b[0m\u001b[0;34m\u001b[0m\u001b[0m\n\u001b[0m",
            "\u001b[0;32m/usr/local/lib/python3.7/dist-packages/sklearn/model_selection/_search.py\u001b[0m in \u001b[0;36mfit\u001b[0;34m(self, X, y, groups, **fit_params)\u001b[0m\n\u001b[1;32m    708\u001b[0m                 \u001b[0;32mreturn\u001b[0m \u001b[0mresults\u001b[0m\u001b[0;34m\u001b[0m\u001b[0;34m\u001b[0m\u001b[0m\n\u001b[1;32m    709\u001b[0m \u001b[0;34m\u001b[0m\u001b[0m\n\u001b[0;32m--> 710\u001b[0;31m             \u001b[0mself\u001b[0m\u001b[0;34m.\u001b[0m\u001b[0m_run_search\u001b[0m\u001b[0;34m(\u001b[0m\u001b[0mevaluate_candidates\u001b[0m\u001b[0;34m)\u001b[0m\u001b[0;34m\u001b[0m\u001b[0;34m\u001b[0m\u001b[0m\n\u001b[0m\u001b[1;32m    711\u001b[0m \u001b[0;34m\u001b[0m\u001b[0m\n\u001b[1;32m    712\u001b[0m         \u001b[0;31m# For multi-metric evaluation, store the best_index_, best_params_ and\u001b[0m\u001b[0;34m\u001b[0m\u001b[0;34m\u001b[0m\u001b[0;34m\u001b[0m\u001b[0m\n",
            "\u001b[0;32m/usr/local/lib/python3.7/dist-packages/sklearn/model_selection/_search.py\u001b[0m in \u001b[0;36m_run_search\u001b[0;34m(self, evaluate_candidates)\u001b[0m\n\u001b[1;32m   1482\u001b[0m         evaluate_candidates(ParameterSampler(\n\u001b[1;32m   1483\u001b[0m             \u001b[0mself\u001b[0m\u001b[0;34m.\u001b[0m\u001b[0mparam_distributions\u001b[0m\u001b[0;34m,\u001b[0m \u001b[0mself\u001b[0m\u001b[0;34m.\u001b[0m\u001b[0mn_iter\u001b[0m\u001b[0;34m,\u001b[0m\u001b[0;34m\u001b[0m\u001b[0;34m\u001b[0m\u001b[0m\n\u001b[0;32m-> 1484\u001b[0;31m             random_state=self.random_state))\n\u001b[0m",
            "\u001b[0;32m/usr/local/lib/python3.7/dist-packages/sklearn/model_selection/_search.py\u001b[0m in \u001b[0;36mevaluate_candidates\u001b[0;34m(candidate_params)\u001b[0m\n\u001b[1;32m    687\u001b[0m                                \u001b[0;32mfor\u001b[0m \u001b[0mparameters\u001b[0m\u001b[0;34m,\u001b[0m \u001b[0;34m(\u001b[0m\u001b[0mtrain\u001b[0m\u001b[0;34m,\u001b[0m \u001b[0mtest\u001b[0m\u001b[0;34m)\u001b[0m\u001b[0;34m\u001b[0m\u001b[0;34m\u001b[0m\u001b[0m\n\u001b[1;32m    688\u001b[0m                                in product(candidate_params,\n\u001b[0;32m--> 689\u001b[0;31m                                           cv.split(X, y, groups)))\n\u001b[0m\u001b[1;32m    690\u001b[0m \u001b[0;34m\u001b[0m\u001b[0m\n\u001b[1;32m    691\u001b[0m                 \u001b[0;32mif\u001b[0m \u001b[0mlen\u001b[0m\u001b[0;34m(\u001b[0m\u001b[0mout\u001b[0m\u001b[0;34m)\u001b[0m \u001b[0;34m<\u001b[0m \u001b[0;36m1\u001b[0m\u001b[0;34m:\u001b[0m\u001b[0;34m\u001b[0m\u001b[0;34m\u001b[0m\u001b[0m\n",
            "\u001b[0;32m/usr/local/lib/python3.7/dist-packages/joblib/parallel.py\u001b[0m in \u001b[0;36m__call__\u001b[0;34m(self, iterable)\u001b[0m\n\u001b[1;32m   1039\u001b[0m             \u001b[0;31m# remaining jobs.\u001b[0m\u001b[0;34m\u001b[0m\u001b[0;34m\u001b[0m\u001b[0;34m\u001b[0m\u001b[0m\n\u001b[1;32m   1040\u001b[0m             \u001b[0mself\u001b[0m\u001b[0;34m.\u001b[0m\u001b[0m_iterating\u001b[0m \u001b[0;34m=\u001b[0m \u001b[0;32mFalse\u001b[0m\u001b[0;34m\u001b[0m\u001b[0;34m\u001b[0m\u001b[0m\n\u001b[0;32m-> 1041\u001b[0;31m             \u001b[0;32mif\u001b[0m \u001b[0mself\u001b[0m\u001b[0;34m.\u001b[0m\u001b[0mdispatch_one_batch\u001b[0m\u001b[0;34m(\u001b[0m\u001b[0miterator\u001b[0m\u001b[0;34m)\u001b[0m\u001b[0;34m:\u001b[0m\u001b[0;34m\u001b[0m\u001b[0;34m\u001b[0m\u001b[0m\n\u001b[0m\u001b[1;32m   1042\u001b[0m                 \u001b[0mself\u001b[0m\u001b[0;34m.\u001b[0m\u001b[0m_iterating\u001b[0m \u001b[0;34m=\u001b[0m \u001b[0mself\u001b[0m\u001b[0;34m.\u001b[0m\u001b[0m_original_iterator\u001b[0m \u001b[0;32mis\u001b[0m \u001b[0;32mnot\u001b[0m \u001b[0;32mNone\u001b[0m\u001b[0;34m\u001b[0m\u001b[0;34m\u001b[0m\u001b[0m\n\u001b[1;32m   1043\u001b[0m \u001b[0;34m\u001b[0m\u001b[0m\n",
            "\u001b[0;32m/usr/local/lib/python3.7/dist-packages/joblib/parallel.py\u001b[0m in \u001b[0;36mdispatch_one_batch\u001b[0;34m(self, iterator)\u001b[0m\n\u001b[1;32m    857\u001b[0m                 \u001b[0;32mreturn\u001b[0m \u001b[0;32mFalse\u001b[0m\u001b[0;34m\u001b[0m\u001b[0;34m\u001b[0m\u001b[0m\n\u001b[1;32m    858\u001b[0m             \u001b[0;32melse\u001b[0m\u001b[0;34m:\u001b[0m\u001b[0;34m\u001b[0m\u001b[0;34m\u001b[0m\u001b[0m\n\u001b[0;32m--> 859\u001b[0;31m                 \u001b[0mself\u001b[0m\u001b[0;34m.\u001b[0m\u001b[0m_dispatch\u001b[0m\u001b[0;34m(\u001b[0m\u001b[0mtasks\u001b[0m\u001b[0;34m)\u001b[0m\u001b[0;34m\u001b[0m\u001b[0;34m\u001b[0m\u001b[0m\n\u001b[0m\u001b[1;32m    860\u001b[0m                 \u001b[0;32mreturn\u001b[0m \u001b[0;32mTrue\u001b[0m\u001b[0;34m\u001b[0m\u001b[0;34m\u001b[0m\u001b[0m\n\u001b[1;32m    861\u001b[0m \u001b[0;34m\u001b[0m\u001b[0m\n",
            "\u001b[0;32m/usr/local/lib/python3.7/dist-packages/joblib/parallel.py\u001b[0m in \u001b[0;36m_dispatch\u001b[0;34m(self, batch)\u001b[0m\n\u001b[1;32m    775\u001b[0m         \u001b[0;32mwith\u001b[0m \u001b[0mself\u001b[0m\u001b[0;34m.\u001b[0m\u001b[0m_lock\u001b[0m\u001b[0;34m:\u001b[0m\u001b[0;34m\u001b[0m\u001b[0;34m\u001b[0m\u001b[0m\n\u001b[1;32m    776\u001b[0m             \u001b[0mjob_idx\u001b[0m \u001b[0;34m=\u001b[0m \u001b[0mlen\u001b[0m\u001b[0;34m(\u001b[0m\u001b[0mself\u001b[0m\u001b[0;34m.\u001b[0m\u001b[0m_jobs\u001b[0m\u001b[0;34m)\u001b[0m\u001b[0;34m\u001b[0m\u001b[0;34m\u001b[0m\u001b[0m\n\u001b[0;32m--> 777\u001b[0;31m             \u001b[0mjob\u001b[0m \u001b[0;34m=\u001b[0m \u001b[0mself\u001b[0m\u001b[0;34m.\u001b[0m\u001b[0m_backend\u001b[0m\u001b[0;34m.\u001b[0m\u001b[0mapply_async\u001b[0m\u001b[0;34m(\u001b[0m\u001b[0mbatch\u001b[0m\u001b[0;34m,\u001b[0m \u001b[0mcallback\u001b[0m\u001b[0;34m=\u001b[0m\u001b[0mcb\u001b[0m\u001b[0;34m)\u001b[0m\u001b[0;34m\u001b[0m\u001b[0;34m\u001b[0m\u001b[0m\n\u001b[0m\u001b[1;32m    778\u001b[0m             \u001b[0;31m# A job can complete so quickly than its callback is\u001b[0m\u001b[0;34m\u001b[0m\u001b[0;34m\u001b[0m\u001b[0;34m\u001b[0m\u001b[0m\n\u001b[1;32m    779\u001b[0m             \u001b[0;31m# called before we get here, causing self._jobs to\u001b[0m\u001b[0;34m\u001b[0m\u001b[0;34m\u001b[0m\u001b[0;34m\u001b[0m\u001b[0m\n",
            "\u001b[0;32m/usr/local/lib/python3.7/dist-packages/joblib/_parallel_backends.py\u001b[0m in \u001b[0;36mapply_async\u001b[0;34m(self, func, callback)\u001b[0m\n\u001b[1;32m    206\u001b[0m     \u001b[0;32mdef\u001b[0m \u001b[0mapply_async\u001b[0m\u001b[0;34m(\u001b[0m\u001b[0mself\u001b[0m\u001b[0;34m,\u001b[0m \u001b[0mfunc\u001b[0m\u001b[0;34m,\u001b[0m \u001b[0mcallback\u001b[0m\u001b[0;34m=\u001b[0m\u001b[0;32mNone\u001b[0m\u001b[0;34m)\u001b[0m\u001b[0;34m:\u001b[0m\u001b[0;34m\u001b[0m\u001b[0;34m\u001b[0m\u001b[0m\n\u001b[1;32m    207\u001b[0m         \u001b[0;34m\"\"\"Schedule a func to be run\"\"\"\u001b[0m\u001b[0;34m\u001b[0m\u001b[0;34m\u001b[0m\u001b[0m\n\u001b[0;32m--> 208\u001b[0;31m         \u001b[0mresult\u001b[0m \u001b[0;34m=\u001b[0m \u001b[0mImmediateResult\u001b[0m\u001b[0;34m(\u001b[0m\u001b[0mfunc\u001b[0m\u001b[0;34m)\u001b[0m\u001b[0;34m\u001b[0m\u001b[0;34m\u001b[0m\u001b[0m\n\u001b[0m\u001b[1;32m    209\u001b[0m         \u001b[0;32mif\u001b[0m \u001b[0mcallback\u001b[0m\u001b[0;34m:\u001b[0m\u001b[0;34m\u001b[0m\u001b[0;34m\u001b[0m\u001b[0m\n\u001b[1;32m    210\u001b[0m             \u001b[0mcallback\u001b[0m\u001b[0;34m(\u001b[0m\u001b[0mresult\u001b[0m\u001b[0;34m)\u001b[0m\u001b[0;34m\u001b[0m\u001b[0;34m\u001b[0m\u001b[0m\n",
            "\u001b[0;32m/usr/local/lib/python3.7/dist-packages/joblib/_parallel_backends.py\u001b[0m in \u001b[0;36m__init__\u001b[0;34m(self, batch)\u001b[0m\n\u001b[1;32m    570\u001b[0m         \u001b[0;31m# Don't delay the application, to avoid keeping the input\u001b[0m\u001b[0;34m\u001b[0m\u001b[0;34m\u001b[0m\u001b[0;34m\u001b[0m\u001b[0m\n\u001b[1;32m    571\u001b[0m         \u001b[0;31m# arguments in memory\u001b[0m\u001b[0;34m\u001b[0m\u001b[0;34m\u001b[0m\u001b[0;34m\u001b[0m\u001b[0m\n\u001b[0;32m--> 572\u001b[0;31m         \u001b[0mself\u001b[0m\u001b[0;34m.\u001b[0m\u001b[0mresults\u001b[0m \u001b[0;34m=\u001b[0m \u001b[0mbatch\u001b[0m\u001b[0;34m(\u001b[0m\u001b[0;34m)\u001b[0m\u001b[0;34m\u001b[0m\u001b[0;34m\u001b[0m\u001b[0m\n\u001b[0m\u001b[1;32m    573\u001b[0m \u001b[0;34m\u001b[0m\u001b[0m\n\u001b[1;32m    574\u001b[0m     \u001b[0;32mdef\u001b[0m \u001b[0mget\u001b[0m\u001b[0;34m(\u001b[0m\u001b[0mself\u001b[0m\u001b[0;34m)\u001b[0m\u001b[0;34m:\u001b[0m\u001b[0;34m\u001b[0m\u001b[0;34m\u001b[0m\u001b[0m\n",
            "\u001b[0;32m/usr/local/lib/python3.7/dist-packages/joblib/parallel.py\u001b[0m in \u001b[0;36m__call__\u001b[0;34m(self)\u001b[0m\n\u001b[1;32m    261\u001b[0m         \u001b[0;32mwith\u001b[0m \u001b[0mparallel_backend\u001b[0m\u001b[0;34m(\u001b[0m\u001b[0mself\u001b[0m\u001b[0;34m.\u001b[0m\u001b[0m_backend\u001b[0m\u001b[0;34m,\u001b[0m \u001b[0mn_jobs\u001b[0m\u001b[0;34m=\u001b[0m\u001b[0mself\u001b[0m\u001b[0;34m.\u001b[0m\u001b[0m_n_jobs\u001b[0m\u001b[0;34m)\u001b[0m\u001b[0;34m:\u001b[0m\u001b[0;34m\u001b[0m\u001b[0;34m\u001b[0m\u001b[0m\n\u001b[1;32m    262\u001b[0m             return [func(*args, **kwargs)\n\u001b[0;32m--> 263\u001b[0;31m                     for func, args, kwargs in self.items]\n\u001b[0m\u001b[1;32m    264\u001b[0m \u001b[0;34m\u001b[0m\u001b[0m\n\u001b[1;32m    265\u001b[0m     \u001b[0;32mdef\u001b[0m \u001b[0m__reduce__\u001b[0m\u001b[0;34m(\u001b[0m\u001b[0mself\u001b[0m\u001b[0;34m)\u001b[0m\u001b[0;34m:\u001b[0m\u001b[0;34m\u001b[0m\u001b[0;34m\u001b[0m\u001b[0m\n",
            "\u001b[0;32m/usr/local/lib/python3.7/dist-packages/joblib/parallel.py\u001b[0m in \u001b[0;36m<listcomp>\u001b[0;34m(.0)\u001b[0m\n\u001b[1;32m    261\u001b[0m         \u001b[0;32mwith\u001b[0m \u001b[0mparallel_backend\u001b[0m\u001b[0;34m(\u001b[0m\u001b[0mself\u001b[0m\u001b[0;34m.\u001b[0m\u001b[0m_backend\u001b[0m\u001b[0;34m,\u001b[0m \u001b[0mn_jobs\u001b[0m\u001b[0;34m=\u001b[0m\u001b[0mself\u001b[0m\u001b[0;34m.\u001b[0m\u001b[0m_n_jobs\u001b[0m\u001b[0;34m)\u001b[0m\u001b[0;34m:\u001b[0m\u001b[0;34m\u001b[0m\u001b[0;34m\u001b[0m\u001b[0m\n\u001b[1;32m    262\u001b[0m             return [func(*args, **kwargs)\n\u001b[0;32m--> 263\u001b[0;31m                     for func, args, kwargs in self.items]\n\u001b[0m\u001b[1;32m    264\u001b[0m \u001b[0;34m\u001b[0m\u001b[0m\n\u001b[1;32m    265\u001b[0m     \u001b[0;32mdef\u001b[0m \u001b[0m__reduce__\u001b[0m\u001b[0;34m(\u001b[0m\u001b[0mself\u001b[0m\u001b[0;34m)\u001b[0m\u001b[0;34m:\u001b[0m\u001b[0;34m\u001b[0m\u001b[0;34m\u001b[0m\u001b[0m\n",
            "\u001b[0;32m/usr/local/lib/python3.7/dist-packages/sklearn/model_selection/_validation.py\u001b[0m in \u001b[0;36m_fit_and_score\u001b[0;34m(estimator, X, y, scorer, train, test, verbose, parameters, fit_params, return_train_score, return_parameters, return_n_test_samples, return_times, return_estimator, error_score)\u001b[0m\n\u001b[1;32m    513\u001b[0m             \u001b[0mestimator\u001b[0m\u001b[0;34m.\u001b[0m\u001b[0mfit\u001b[0m\u001b[0;34m(\u001b[0m\u001b[0mX_train\u001b[0m\u001b[0;34m,\u001b[0m \u001b[0;34m**\u001b[0m\u001b[0mfit_params\u001b[0m\u001b[0;34m)\u001b[0m\u001b[0;34m\u001b[0m\u001b[0;34m\u001b[0m\u001b[0m\n\u001b[1;32m    514\u001b[0m         \u001b[0;32melse\u001b[0m\u001b[0;34m:\u001b[0m\u001b[0;34m\u001b[0m\u001b[0;34m\u001b[0m\u001b[0m\n\u001b[0;32m--> 515\u001b[0;31m             \u001b[0mestimator\u001b[0m\u001b[0;34m.\u001b[0m\u001b[0mfit\u001b[0m\u001b[0;34m(\u001b[0m\u001b[0mX_train\u001b[0m\u001b[0;34m,\u001b[0m \u001b[0my_train\u001b[0m\u001b[0;34m,\u001b[0m \u001b[0;34m**\u001b[0m\u001b[0mfit_params\u001b[0m\u001b[0;34m)\u001b[0m\u001b[0;34m\u001b[0m\u001b[0;34m\u001b[0m\u001b[0m\n\u001b[0m\u001b[1;32m    516\u001b[0m \u001b[0;34m\u001b[0m\u001b[0m\n\u001b[1;32m    517\u001b[0m     \u001b[0;32mexcept\u001b[0m \u001b[0mException\u001b[0m \u001b[0;32mas\u001b[0m \u001b[0me\u001b[0m\u001b[0;34m:\u001b[0m\u001b[0;34m\u001b[0m\u001b[0;34m\u001b[0m\u001b[0m\n",
            "\u001b[0;32m/usr/local/lib/python3.7/dist-packages/sklearn/ensemble/_forest.py\u001b[0m in \u001b[0;36mfit\u001b[0;34m(self, X, y, sample_weight)\u001b[0m\n\u001b[1;32m    381\u001b[0m                     \u001b[0mverbose\u001b[0m\u001b[0;34m=\u001b[0m\u001b[0mself\u001b[0m\u001b[0;34m.\u001b[0m\u001b[0mverbose\u001b[0m\u001b[0;34m,\u001b[0m \u001b[0mclass_weight\u001b[0m\u001b[0;34m=\u001b[0m\u001b[0mself\u001b[0m\u001b[0;34m.\u001b[0m\u001b[0mclass_weight\u001b[0m\u001b[0;34m,\u001b[0m\u001b[0;34m\u001b[0m\u001b[0;34m\u001b[0m\u001b[0m\n\u001b[1;32m    382\u001b[0m                     n_samples_bootstrap=n_samples_bootstrap)\n\u001b[0;32m--> 383\u001b[0;31m                 for i, t in enumerate(trees))\n\u001b[0m\u001b[1;32m    384\u001b[0m \u001b[0;34m\u001b[0m\u001b[0m\n\u001b[1;32m    385\u001b[0m             \u001b[0;31m# Collect newly grown trees\u001b[0m\u001b[0;34m\u001b[0m\u001b[0;34m\u001b[0m\u001b[0;34m\u001b[0m\u001b[0m\n",
            "\u001b[0;32m/usr/local/lib/python3.7/dist-packages/joblib/parallel.py\u001b[0m in \u001b[0;36m__call__\u001b[0;34m(self, iterable)\u001b[0m\n\u001b[1;32m   1042\u001b[0m                 \u001b[0mself\u001b[0m\u001b[0;34m.\u001b[0m\u001b[0m_iterating\u001b[0m \u001b[0;34m=\u001b[0m \u001b[0mself\u001b[0m\u001b[0;34m.\u001b[0m\u001b[0m_original_iterator\u001b[0m \u001b[0;32mis\u001b[0m \u001b[0;32mnot\u001b[0m \u001b[0;32mNone\u001b[0m\u001b[0;34m\u001b[0m\u001b[0;34m\u001b[0m\u001b[0m\n\u001b[1;32m   1043\u001b[0m \u001b[0;34m\u001b[0m\u001b[0m\n\u001b[0;32m-> 1044\u001b[0;31m             \u001b[0;32mwhile\u001b[0m \u001b[0mself\u001b[0m\u001b[0;34m.\u001b[0m\u001b[0mdispatch_one_batch\u001b[0m\u001b[0;34m(\u001b[0m\u001b[0miterator\u001b[0m\u001b[0;34m)\u001b[0m\u001b[0;34m:\u001b[0m\u001b[0;34m\u001b[0m\u001b[0;34m\u001b[0m\u001b[0m\n\u001b[0m\u001b[1;32m   1045\u001b[0m                 \u001b[0;32mpass\u001b[0m\u001b[0;34m\u001b[0m\u001b[0;34m\u001b[0m\u001b[0m\n\u001b[1;32m   1046\u001b[0m \u001b[0;34m\u001b[0m\u001b[0m\n",
            "\u001b[0;32m/usr/local/lib/python3.7/dist-packages/joblib/parallel.py\u001b[0m in \u001b[0;36mdispatch_one_batch\u001b[0;34m(self, iterator)\u001b[0m\n\u001b[1;32m    857\u001b[0m                 \u001b[0;32mreturn\u001b[0m \u001b[0;32mFalse\u001b[0m\u001b[0;34m\u001b[0m\u001b[0;34m\u001b[0m\u001b[0m\n\u001b[1;32m    858\u001b[0m             \u001b[0;32melse\u001b[0m\u001b[0;34m:\u001b[0m\u001b[0;34m\u001b[0m\u001b[0;34m\u001b[0m\u001b[0m\n\u001b[0;32m--> 859\u001b[0;31m                 \u001b[0mself\u001b[0m\u001b[0;34m.\u001b[0m\u001b[0m_dispatch\u001b[0m\u001b[0;34m(\u001b[0m\u001b[0mtasks\u001b[0m\u001b[0;34m)\u001b[0m\u001b[0;34m\u001b[0m\u001b[0;34m\u001b[0m\u001b[0m\n\u001b[0m\u001b[1;32m    860\u001b[0m                 \u001b[0;32mreturn\u001b[0m \u001b[0;32mTrue\u001b[0m\u001b[0;34m\u001b[0m\u001b[0;34m\u001b[0m\u001b[0m\n\u001b[1;32m    861\u001b[0m \u001b[0;34m\u001b[0m\u001b[0m\n",
            "\u001b[0;32m/usr/local/lib/python3.7/dist-packages/joblib/parallel.py\u001b[0m in \u001b[0;36m_dispatch\u001b[0;34m(self, batch)\u001b[0m\n\u001b[1;32m    775\u001b[0m         \u001b[0;32mwith\u001b[0m \u001b[0mself\u001b[0m\u001b[0;34m.\u001b[0m\u001b[0m_lock\u001b[0m\u001b[0;34m:\u001b[0m\u001b[0;34m\u001b[0m\u001b[0;34m\u001b[0m\u001b[0m\n\u001b[1;32m    776\u001b[0m             \u001b[0mjob_idx\u001b[0m \u001b[0;34m=\u001b[0m \u001b[0mlen\u001b[0m\u001b[0;34m(\u001b[0m\u001b[0mself\u001b[0m\u001b[0;34m.\u001b[0m\u001b[0m_jobs\u001b[0m\u001b[0;34m)\u001b[0m\u001b[0;34m\u001b[0m\u001b[0;34m\u001b[0m\u001b[0m\n\u001b[0;32m--> 777\u001b[0;31m             \u001b[0mjob\u001b[0m \u001b[0;34m=\u001b[0m \u001b[0mself\u001b[0m\u001b[0;34m.\u001b[0m\u001b[0m_backend\u001b[0m\u001b[0;34m.\u001b[0m\u001b[0mapply_async\u001b[0m\u001b[0;34m(\u001b[0m\u001b[0mbatch\u001b[0m\u001b[0;34m,\u001b[0m \u001b[0mcallback\u001b[0m\u001b[0;34m=\u001b[0m\u001b[0mcb\u001b[0m\u001b[0;34m)\u001b[0m\u001b[0;34m\u001b[0m\u001b[0;34m\u001b[0m\u001b[0m\n\u001b[0m\u001b[1;32m    778\u001b[0m             \u001b[0;31m# A job can complete so quickly than its callback is\u001b[0m\u001b[0;34m\u001b[0m\u001b[0;34m\u001b[0m\u001b[0;34m\u001b[0m\u001b[0m\n\u001b[1;32m    779\u001b[0m             \u001b[0;31m# called before we get here, causing self._jobs to\u001b[0m\u001b[0;34m\u001b[0m\u001b[0;34m\u001b[0m\u001b[0;34m\u001b[0m\u001b[0m\n",
            "\u001b[0;32m/usr/local/lib/python3.7/dist-packages/joblib/_parallel_backends.py\u001b[0m in \u001b[0;36mapply_async\u001b[0;34m(self, func, callback)\u001b[0m\n\u001b[1;32m    206\u001b[0m     \u001b[0;32mdef\u001b[0m \u001b[0mapply_async\u001b[0m\u001b[0;34m(\u001b[0m\u001b[0mself\u001b[0m\u001b[0;34m,\u001b[0m \u001b[0mfunc\u001b[0m\u001b[0;34m,\u001b[0m \u001b[0mcallback\u001b[0m\u001b[0;34m=\u001b[0m\u001b[0;32mNone\u001b[0m\u001b[0;34m)\u001b[0m\u001b[0;34m:\u001b[0m\u001b[0;34m\u001b[0m\u001b[0;34m\u001b[0m\u001b[0m\n\u001b[1;32m    207\u001b[0m         \u001b[0;34m\"\"\"Schedule a func to be run\"\"\"\u001b[0m\u001b[0;34m\u001b[0m\u001b[0;34m\u001b[0m\u001b[0m\n\u001b[0;32m--> 208\u001b[0;31m         \u001b[0mresult\u001b[0m \u001b[0;34m=\u001b[0m \u001b[0mImmediateResult\u001b[0m\u001b[0;34m(\u001b[0m\u001b[0mfunc\u001b[0m\u001b[0;34m)\u001b[0m\u001b[0;34m\u001b[0m\u001b[0;34m\u001b[0m\u001b[0m\n\u001b[0m\u001b[1;32m    209\u001b[0m         \u001b[0;32mif\u001b[0m \u001b[0mcallback\u001b[0m\u001b[0;34m:\u001b[0m\u001b[0;34m\u001b[0m\u001b[0;34m\u001b[0m\u001b[0m\n\u001b[1;32m    210\u001b[0m             \u001b[0mcallback\u001b[0m\u001b[0;34m(\u001b[0m\u001b[0mresult\u001b[0m\u001b[0;34m)\u001b[0m\u001b[0;34m\u001b[0m\u001b[0;34m\u001b[0m\u001b[0m\n",
            "\u001b[0;32m/usr/local/lib/python3.7/dist-packages/joblib/_parallel_backends.py\u001b[0m in \u001b[0;36m__init__\u001b[0;34m(self, batch)\u001b[0m\n\u001b[1;32m    570\u001b[0m         \u001b[0;31m# Don't delay the application, to avoid keeping the input\u001b[0m\u001b[0;34m\u001b[0m\u001b[0;34m\u001b[0m\u001b[0;34m\u001b[0m\u001b[0m\n\u001b[1;32m    571\u001b[0m         \u001b[0;31m# arguments in memory\u001b[0m\u001b[0;34m\u001b[0m\u001b[0;34m\u001b[0m\u001b[0;34m\u001b[0m\u001b[0m\n\u001b[0;32m--> 572\u001b[0;31m         \u001b[0mself\u001b[0m\u001b[0;34m.\u001b[0m\u001b[0mresults\u001b[0m \u001b[0;34m=\u001b[0m \u001b[0mbatch\u001b[0m\u001b[0;34m(\u001b[0m\u001b[0;34m)\u001b[0m\u001b[0;34m\u001b[0m\u001b[0;34m\u001b[0m\u001b[0m\n\u001b[0m\u001b[1;32m    573\u001b[0m \u001b[0;34m\u001b[0m\u001b[0m\n\u001b[1;32m    574\u001b[0m     \u001b[0;32mdef\u001b[0m \u001b[0mget\u001b[0m\u001b[0;34m(\u001b[0m\u001b[0mself\u001b[0m\u001b[0;34m)\u001b[0m\u001b[0;34m:\u001b[0m\u001b[0;34m\u001b[0m\u001b[0;34m\u001b[0m\u001b[0m\n",
            "\u001b[0;32m/usr/local/lib/python3.7/dist-packages/joblib/parallel.py\u001b[0m in \u001b[0;36m__call__\u001b[0;34m(self)\u001b[0m\n\u001b[1;32m    261\u001b[0m         \u001b[0;32mwith\u001b[0m \u001b[0mparallel_backend\u001b[0m\u001b[0;34m(\u001b[0m\u001b[0mself\u001b[0m\u001b[0;34m.\u001b[0m\u001b[0m_backend\u001b[0m\u001b[0;34m,\u001b[0m \u001b[0mn_jobs\u001b[0m\u001b[0;34m=\u001b[0m\u001b[0mself\u001b[0m\u001b[0;34m.\u001b[0m\u001b[0m_n_jobs\u001b[0m\u001b[0;34m)\u001b[0m\u001b[0;34m:\u001b[0m\u001b[0;34m\u001b[0m\u001b[0;34m\u001b[0m\u001b[0m\n\u001b[1;32m    262\u001b[0m             return [func(*args, **kwargs)\n\u001b[0;32m--> 263\u001b[0;31m                     for func, args, kwargs in self.items]\n\u001b[0m\u001b[1;32m    264\u001b[0m \u001b[0;34m\u001b[0m\u001b[0m\n\u001b[1;32m    265\u001b[0m     \u001b[0;32mdef\u001b[0m \u001b[0m__reduce__\u001b[0m\u001b[0;34m(\u001b[0m\u001b[0mself\u001b[0m\u001b[0;34m)\u001b[0m\u001b[0;34m:\u001b[0m\u001b[0;34m\u001b[0m\u001b[0;34m\u001b[0m\u001b[0m\n",
            "\u001b[0;32m/usr/local/lib/python3.7/dist-packages/joblib/parallel.py\u001b[0m in \u001b[0;36m<listcomp>\u001b[0;34m(.0)\u001b[0m\n\u001b[1;32m    261\u001b[0m         \u001b[0;32mwith\u001b[0m \u001b[0mparallel_backend\u001b[0m\u001b[0;34m(\u001b[0m\u001b[0mself\u001b[0m\u001b[0;34m.\u001b[0m\u001b[0m_backend\u001b[0m\u001b[0;34m,\u001b[0m \u001b[0mn_jobs\u001b[0m\u001b[0;34m=\u001b[0m\u001b[0mself\u001b[0m\u001b[0;34m.\u001b[0m\u001b[0m_n_jobs\u001b[0m\u001b[0;34m)\u001b[0m\u001b[0;34m:\u001b[0m\u001b[0;34m\u001b[0m\u001b[0;34m\u001b[0m\u001b[0m\n\u001b[1;32m    262\u001b[0m             return [func(*args, **kwargs)\n\u001b[0;32m--> 263\u001b[0;31m                     for func, args, kwargs in self.items]\n\u001b[0m\u001b[1;32m    264\u001b[0m \u001b[0;34m\u001b[0m\u001b[0m\n\u001b[1;32m    265\u001b[0m     \u001b[0;32mdef\u001b[0m \u001b[0m__reduce__\u001b[0m\u001b[0;34m(\u001b[0m\u001b[0mself\u001b[0m\u001b[0;34m)\u001b[0m\u001b[0;34m:\u001b[0m\u001b[0;34m\u001b[0m\u001b[0;34m\u001b[0m\u001b[0m\n",
            "\u001b[0;32m/usr/local/lib/python3.7/dist-packages/sklearn/ensemble/_forest.py\u001b[0m in \u001b[0;36m_parallel_build_trees\u001b[0;34m(tree, forest, X, y, sample_weight, tree_idx, n_trees, verbose, class_weight, n_samples_bootstrap)\u001b[0m\n\u001b[1;32m    163\u001b[0m             \u001b[0mcurr_sample_weight\u001b[0m \u001b[0;34m*=\u001b[0m \u001b[0mcompute_sample_weight\u001b[0m\u001b[0;34m(\u001b[0m\u001b[0;34m'balanced'\u001b[0m\u001b[0;34m,\u001b[0m \u001b[0my\u001b[0m\u001b[0;34m,\u001b[0m \u001b[0mindices\u001b[0m\u001b[0;34m)\u001b[0m\u001b[0;34m\u001b[0m\u001b[0;34m\u001b[0m\u001b[0m\n\u001b[1;32m    164\u001b[0m \u001b[0;34m\u001b[0m\u001b[0m\n\u001b[0;32m--> 165\u001b[0;31m         \u001b[0mtree\u001b[0m\u001b[0;34m.\u001b[0m\u001b[0mfit\u001b[0m\u001b[0;34m(\u001b[0m\u001b[0mX\u001b[0m\u001b[0;34m,\u001b[0m \u001b[0my\u001b[0m\u001b[0;34m,\u001b[0m \u001b[0msample_weight\u001b[0m\u001b[0;34m=\u001b[0m\u001b[0mcurr_sample_weight\u001b[0m\u001b[0;34m,\u001b[0m \u001b[0mcheck_input\u001b[0m\u001b[0;34m=\u001b[0m\u001b[0;32mFalse\u001b[0m\u001b[0;34m)\u001b[0m\u001b[0;34m\u001b[0m\u001b[0;34m\u001b[0m\u001b[0m\n\u001b[0m\u001b[1;32m    166\u001b[0m     \u001b[0;32melse\u001b[0m\u001b[0;34m:\u001b[0m\u001b[0;34m\u001b[0m\u001b[0;34m\u001b[0m\u001b[0m\n\u001b[1;32m    167\u001b[0m         \u001b[0mtree\u001b[0m\u001b[0;34m.\u001b[0m\u001b[0mfit\u001b[0m\u001b[0;34m(\u001b[0m\u001b[0mX\u001b[0m\u001b[0;34m,\u001b[0m \u001b[0my\u001b[0m\u001b[0;34m,\u001b[0m \u001b[0msample_weight\u001b[0m\u001b[0;34m=\u001b[0m\u001b[0msample_weight\u001b[0m\u001b[0;34m,\u001b[0m \u001b[0mcheck_input\u001b[0m\u001b[0;34m=\u001b[0m\u001b[0;32mFalse\u001b[0m\u001b[0;34m)\u001b[0m\u001b[0;34m\u001b[0m\u001b[0;34m\u001b[0m\u001b[0m\n",
            "\u001b[0;32m/usr/local/lib/python3.7/dist-packages/sklearn/tree/_classes.py\u001b[0m in \u001b[0;36mfit\u001b[0;34m(self, X, y, sample_weight, check_input, X_idx_sorted)\u001b[0m\n\u001b[1;32m   1223\u001b[0m             \u001b[0msample_weight\u001b[0m\u001b[0;34m=\u001b[0m\u001b[0msample_weight\u001b[0m\u001b[0;34m,\u001b[0m\u001b[0;34m\u001b[0m\u001b[0;34m\u001b[0m\u001b[0m\n\u001b[1;32m   1224\u001b[0m             \u001b[0mcheck_input\u001b[0m\u001b[0;34m=\u001b[0m\u001b[0mcheck_input\u001b[0m\u001b[0;34m,\u001b[0m\u001b[0;34m\u001b[0m\u001b[0;34m\u001b[0m\u001b[0m\n\u001b[0;32m-> 1225\u001b[0;31m             X_idx_sorted=X_idx_sorted)\n\u001b[0m\u001b[1;32m   1226\u001b[0m         \u001b[0;32mreturn\u001b[0m \u001b[0mself\u001b[0m\u001b[0;34m\u001b[0m\u001b[0;34m\u001b[0m\u001b[0m\n\u001b[1;32m   1227\u001b[0m \u001b[0;34m\u001b[0m\u001b[0m\n",
            "\u001b[0;32m/usr/local/lib/python3.7/dist-packages/sklearn/tree/_classes.py\u001b[0m in \u001b[0;36mfit\u001b[0;34m(self, X, y, sample_weight, check_input, X_idx_sorted)\u001b[0m\n\u001b[1;32m    365\u001b[0m                                            min_impurity_split)\n\u001b[1;32m    366\u001b[0m \u001b[0;34m\u001b[0m\u001b[0m\n\u001b[0;32m--> 367\u001b[0;31m         \u001b[0mbuilder\u001b[0m\u001b[0;34m.\u001b[0m\u001b[0mbuild\u001b[0m\u001b[0;34m(\u001b[0m\u001b[0mself\u001b[0m\u001b[0;34m.\u001b[0m\u001b[0mtree_\u001b[0m\u001b[0;34m,\u001b[0m \u001b[0mX\u001b[0m\u001b[0;34m,\u001b[0m \u001b[0my\u001b[0m\u001b[0;34m,\u001b[0m \u001b[0msample_weight\u001b[0m\u001b[0;34m,\u001b[0m \u001b[0mX_idx_sorted\u001b[0m\u001b[0;34m)\u001b[0m\u001b[0;34m\u001b[0m\u001b[0;34m\u001b[0m\u001b[0m\n\u001b[0m\u001b[1;32m    368\u001b[0m \u001b[0;34m\u001b[0m\u001b[0m\n\u001b[1;32m    369\u001b[0m         \u001b[0;32mif\u001b[0m \u001b[0mself\u001b[0m\u001b[0;34m.\u001b[0m\u001b[0mn_outputs_\u001b[0m \u001b[0;34m==\u001b[0m \u001b[0;36m1\u001b[0m \u001b[0;32mand\u001b[0m \u001b[0mis_classifier\u001b[0m\u001b[0;34m(\u001b[0m\u001b[0mself\u001b[0m\u001b[0;34m)\u001b[0m\u001b[0;34m:\u001b[0m\u001b[0;34m\u001b[0m\u001b[0;34m\u001b[0m\u001b[0m\n",
            "\u001b[0;31mKeyboardInterrupt\u001b[0m: "
          ]
        }
      ]
    },
    {
      "cell_type": "code",
      "metadata": {
        "id": "KdfQwdv4ZZbC",
        "outputId": "ec1f6c7d-1e0a-405f-cbfb-cd7531bb631d",
        "colab": {
          "base_uri": "https://localhost:8080/"
        }
      },
      "source": [
        "y_test_min"
      ],
      "execution_count": 22,
      "outputs": [
        {
          "output_type": "execute_result",
          "data": {
            "text/plain": [
              "7.484923736365769"
            ]
          },
          "metadata": {
            "tags": []
          },
          "execution_count": 22
        }
      ]
    },
    {
      "cell_type": "code",
      "metadata": {
        "id": "gBPExAMXZfD_",
        "outputId": "c9e76caa-9eb2-49d2-fea1-d6701a17b18f",
        "colab": {
          "base_uri": "https://localhost:8080/"
        }
      },
      "source": [
        "best_rf.get_params"
      ],
      "execution_count": 23,
      "outputs": [
        {
          "output_type": "execute_result",
          "data": {
            "text/plain": [
              "<bound method BaseEstimator.get_params of RandomForestRegressor(bootstrap=True, ccp_alpha=0.0, criterion='mse',\n",
              "                      max_depth=50, max_features='auto', max_leaf_nodes=None,\n",
              "                      max_samples=None, min_impurity_decrease=0.0,\n",
              "                      min_impurity_split=None, min_samples_leaf=4,\n",
              "                      min_samples_split=3, min_weight_fraction_leaf=0.0,\n",
              "                      n_estimators=3000, n_jobs=-1, oob_score=False,\n",
              "                      random_state=42, verbose=0, warm_start=False)>"
            ]
          },
          "metadata": {
            "tags": []
          },
          "execution_count": 23
        }
      ]
    },
    {
      "cell_type": "code",
      "metadata": {
        "id": "hv-L6Tm1kvvZ",
        "outputId": "34f51bf1-f870-402c-b69f-98a6ecc9f743",
        "colab": {
          "base_uri": "https://localhost:8080/"
        }
      },
      "source": [
        "from sklearn.svm import SVR\n",
        "\n",
        "\n",
        "svr = GridSearchCV(SVR(kernel='rbf', gamma=0.1),\n",
        "                   param_grid={\"C\": [1e0, 1e1, 1e2, 1e3],\n",
        "                               \"gamma\": np.logspace(-2, 2, 5)},\n",
        "                   scoring = scorer,\n",
        "                   cv = 10,\n",
        "                   verbose = 2)\n",
        "\n",
        "svr.fit(XX,yy)"
      ],
      "execution_count": 33,
      "outputs": [
        {
          "output_type": "stream",
          "text": [
            "Fitting 10 folds for each of 20 candidates, totalling 200 fits\n",
            "[CV] C=1.0, gamma=0.01 ...............................................\n"
          ],
          "name": "stdout"
        },
        {
          "output_type": "stream",
          "text": [
            "[Parallel(n_jobs=1)]: Using backend SequentialBackend with 1 concurrent workers.\n"
          ],
          "name": "stderr"
        },
        {
          "output_type": "stream",
          "text": [
            "[CV] ................................ C=1.0, gamma=0.01, total=   7.3s\n",
            "[CV] C=1.0, gamma=0.01 ...............................................\n"
          ],
          "name": "stdout"
        },
        {
          "output_type": "stream",
          "text": [
            "[Parallel(n_jobs=1)]: Done   1 out of   1 | elapsed:    7.3s remaining:    0.0s\n"
          ],
          "name": "stderr"
        },
        {
          "output_type": "stream",
          "text": [
            "[CV] ................................ C=1.0, gamma=0.01, total=   7.3s\n",
            "[CV] C=1.0, gamma=0.01 ...............................................\n",
            "[CV] ................................ C=1.0, gamma=0.01, total=   7.1s\n",
            "[CV] C=1.0, gamma=0.01 ...............................................\n",
            "[CV] ................................ C=1.0, gamma=0.01, total=   7.2s\n",
            "[CV] C=1.0, gamma=0.01 ...............................................\n",
            "[CV] ................................ C=1.0, gamma=0.01, total=   7.1s\n",
            "[CV] C=1.0, gamma=0.01 ...............................................\n",
            "[CV] ................................ C=1.0, gamma=0.01, total=   7.2s\n",
            "[CV] C=1.0, gamma=0.01 ...............................................\n",
            "[CV] ................................ C=1.0, gamma=0.01, total=   7.1s\n",
            "[CV] C=1.0, gamma=0.01 ...............................................\n",
            "[CV] ................................ C=1.0, gamma=0.01, total=   7.2s\n",
            "[CV] C=1.0, gamma=0.01 ...............................................\n",
            "[CV] ................................ C=1.0, gamma=0.01, total=   7.3s\n",
            "[CV] C=1.0, gamma=0.01 ...............................................\n",
            "[CV] ................................ C=1.0, gamma=0.01, total=   7.3s\n",
            "[CV] C=1.0, gamma=0.1 ................................................\n",
            "[CV] ................................. C=1.0, gamma=0.1, total=   7.2s\n",
            "[CV] C=1.0, gamma=0.1 ................................................\n",
            "[CV] ................................. C=1.0, gamma=0.1, total=   7.2s\n",
            "[CV] C=1.0, gamma=0.1 ................................................\n",
            "[CV] ................................. C=1.0, gamma=0.1, total=   7.1s\n",
            "[CV] C=1.0, gamma=0.1 ................................................\n",
            "[CV] ................................. C=1.0, gamma=0.1, total=   7.3s\n",
            "[CV] C=1.0, gamma=0.1 ................................................\n",
            "[CV] ................................. C=1.0, gamma=0.1, total=   7.2s\n",
            "[CV] C=1.0, gamma=0.1 ................................................\n",
            "[CV] ................................. C=1.0, gamma=0.1, total=   7.2s\n",
            "[CV] C=1.0, gamma=0.1 ................................................\n",
            "[CV] ................................. C=1.0, gamma=0.1, total=   7.1s\n",
            "[CV] C=1.0, gamma=0.1 ................................................\n",
            "[CV] ................................. C=1.0, gamma=0.1, total=   7.2s\n",
            "[CV] C=1.0, gamma=0.1 ................................................\n",
            "[CV] ................................. C=1.0, gamma=0.1, total=   7.2s\n",
            "[CV] C=1.0, gamma=0.1 ................................................\n",
            "[CV] ................................. C=1.0, gamma=0.1, total=   7.2s\n",
            "[CV] C=1.0, gamma=1.0 ................................................\n",
            "[CV] ................................. C=1.0, gamma=1.0, total=   7.2s\n",
            "[CV] C=1.0, gamma=1.0 ................................................\n",
            "[CV] ................................. C=1.0, gamma=1.0, total=   7.3s\n",
            "[CV] C=1.0, gamma=1.0 ................................................\n",
            "[CV] ................................. C=1.0, gamma=1.0, total=   7.2s\n",
            "[CV] C=1.0, gamma=1.0 ................................................\n",
            "[CV] ................................. C=1.0, gamma=1.0, total=   7.3s\n",
            "[CV] C=1.0, gamma=1.0 ................................................\n",
            "[CV] ................................. C=1.0, gamma=1.0, total=   7.2s\n",
            "[CV] C=1.0, gamma=1.0 ................................................\n",
            "[CV] ................................. C=1.0, gamma=1.0, total=   7.2s\n",
            "[CV] C=1.0, gamma=1.0 ................................................\n",
            "[CV] ................................. C=1.0, gamma=1.0, total=   7.1s\n",
            "[CV] C=1.0, gamma=1.0 ................................................\n",
            "[CV] ................................. C=1.0, gamma=1.0, total=   7.2s\n",
            "[CV] C=1.0, gamma=1.0 ................................................\n",
            "[CV] ................................. C=1.0, gamma=1.0, total=   7.2s\n",
            "[CV] C=1.0, gamma=1.0 ................................................\n",
            "[CV] ................................. C=1.0, gamma=1.0, total=   7.2s\n",
            "[CV] C=1.0, gamma=10.0 ...............................................\n",
            "[CV] ................................ C=1.0, gamma=10.0, total=   7.3s\n",
            "[CV] C=1.0, gamma=10.0 ...............................................\n",
            "[CV] ................................ C=1.0, gamma=10.0, total=   7.3s\n",
            "[CV] C=1.0, gamma=10.0 ...............................................\n",
            "[CV] ................................ C=1.0, gamma=10.0, total=   7.1s\n",
            "[CV] C=1.0, gamma=10.0 ...............................................\n",
            "[CV] ................................ C=1.0, gamma=10.0, total=   7.2s\n",
            "[CV] C=1.0, gamma=10.0 ...............................................\n",
            "[CV] ................................ C=1.0, gamma=10.0, total=   7.2s\n",
            "[CV] C=1.0, gamma=10.0 ...............................................\n",
            "[CV] ................................ C=1.0, gamma=10.0, total=   7.2s\n",
            "[CV] C=1.0, gamma=10.0 ...............................................\n",
            "[CV] ................................ C=1.0, gamma=10.0, total=   7.2s\n",
            "[CV] C=1.0, gamma=10.0 ...............................................\n",
            "[CV] ................................ C=1.0, gamma=10.0, total=   7.2s\n",
            "[CV] C=1.0, gamma=10.0 ...............................................\n",
            "[CV] ................................ C=1.0, gamma=10.0, total=   7.3s\n",
            "[CV] C=1.0, gamma=10.0 ...............................................\n",
            "[CV] ................................ C=1.0, gamma=10.0, total=   7.3s\n",
            "[CV] C=1.0, gamma=100.0 ..............................................\n",
            "[CV] ............................... C=1.0, gamma=100.0, total=   7.2s\n",
            "[CV] C=1.0, gamma=100.0 ..............................................\n",
            "[CV] ............................... C=1.0, gamma=100.0, total=   7.4s\n",
            "[CV] C=1.0, gamma=100.0 ..............................................\n",
            "[CV] ............................... C=1.0, gamma=100.0, total=   7.2s\n",
            "[CV] C=1.0, gamma=100.0 ..............................................\n",
            "[CV] ............................... C=1.0, gamma=100.0, total=   7.3s\n",
            "[CV] C=1.0, gamma=100.0 ..............................................\n",
            "[CV] ............................... C=1.0, gamma=100.0, total=   7.2s\n",
            "[CV] C=1.0, gamma=100.0 ..............................................\n",
            "[CV] ............................... C=1.0, gamma=100.0, total=   7.2s\n",
            "[CV] C=1.0, gamma=100.0 ..............................................\n",
            "[CV] ............................... C=1.0, gamma=100.0, total=   7.1s\n",
            "[CV] C=1.0, gamma=100.0 ..............................................\n",
            "[CV] ............................... C=1.0, gamma=100.0, total=   7.2s\n",
            "[CV] C=1.0, gamma=100.0 ..............................................\n",
            "[CV] ............................... C=1.0, gamma=100.0, total=   7.2s\n",
            "[CV] C=1.0, gamma=100.0 ..............................................\n",
            "[CV] ............................... C=1.0, gamma=100.0, total=   7.2s\n",
            "[CV] C=10.0, gamma=0.01 ..............................................\n",
            "[CV] ............................... C=10.0, gamma=0.01, total=   7.1s\n",
            "[CV] C=10.0, gamma=0.01 ..............................................\n",
            "[CV] ............................... C=10.0, gamma=0.01, total=   7.2s\n",
            "[CV] C=10.0, gamma=0.01 ..............................................\n",
            "[CV] ............................... C=10.0, gamma=0.01, total=   7.2s\n",
            "[CV] C=10.0, gamma=0.01 ..............................................\n",
            "[CV] ............................... C=10.0, gamma=0.01, total=   7.2s\n",
            "[CV] C=10.0, gamma=0.01 ..............................................\n",
            "[CV] ............................... C=10.0, gamma=0.01, total=   7.1s\n",
            "[CV] C=10.0, gamma=0.01 ..............................................\n",
            "[CV] ............................... C=10.0, gamma=0.01, total=   7.2s\n",
            "[CV] C=10.0, gamma=0.01 ..............................................\n",
            "[CV] ............................... C=10.0, gamma=0.01, total=   7.2s\n",
            "[CV] C=10.0, gamma=0.01 ..............................................\n",
            "[CV] ............................... C=10.0, gamma=0.01, total=   7.3s\n",
            "[CV] C=10.0, gamma=0.01 ..............................................\n",
            "[CV] ............................... C=10.0, gamma=0.01, total=   7.2s\n",
            "[CV] C=10.0, gamma=0.01 ..............................................\n",
            "[CV] ............................... C=10.0, gamma=0.01, total=   7.1s\n",
            "[CV] C=10.0, gamma=0.1 ...............................................\n",
            "[CV] ................................ C=10.0, gamma=0.1, total=   7.1s\n",
            "[CV] C=10.0, gamma=0.1 ...............................................\n",
            "[CV] ................................ C=10.0, gamma=0.1, total=   7.2s\n",
            "[CV] C=10.0, gamma=0.1 ...............................................\n",
            "[CV] ................................ C=10.0, gamma=0.1, total=   7.1s\n",
            "[CV] C=10.0, gamma=0.1 ...............................................\n",
            "[CV] ................................ C=10.0, gamma=0.1, total=   7.2s\n",
            "[CV] C=10.0, gamma=0.1 ...............................................\n",
            "[CV] ................................ C=10.0, gamma=0.1, total=   7.1s\n",
            "[CV] C=10.0, gamma=0.1 ...............................................\n",
            "[CV] ................................ C=10.0, gamma=0.1, total=   7.2s\n",
            "[CV] C=10.0, gamma=0.1 ...............................................\n",
            "[CV] ................................ C=10.0, gamma=0.1, total=   7.2s\n",
            "[CV] C=10.0, gamma=0.1 ...............................................\n",
            "[CV] ................................ C=10.0, gamma=0.1, total=   7.2s\n",
            "[CV] C=10.0, gamma=0.1 ...............................................\n",
            "[CV] ................................ C=10.0, gamma=0.1, total=   7.2s\n",
            "[CV] C=10.0, gamma=0.1 ...............................................\n",
            "[CV] ................................ C=10.0, gamma=0.1, total=   7.1s\n",
            "[CV] C=10.0, gamma=1.0 ...............................................\n",
            "[CV] ................................ C=10.0, gamma=1.0, total=   7.1s\n",
            "[CV] C=10.0, gamma=1.0 ...............................................\n",
            "[CV] ................................ C=10.0, gamma=1.0, total=   7.2s\n",
            "[CV] C=10.0, gamma=1.0 ...............................................\n",
            "[CV] ................................ C=10.0, gamma=1.0, total=   7.1s\n",
            "[CV] C=10.0, gamma=1.0 ...............................................\n",
            "[CV] ................................ C=10.0, gamma=1.0, total=   7.2s\n",
            "[CV] C=10.0, gamma=1.0 ...............................................\n",
            "[CV] ................................ C=10.0, gamma=1.0, total=   7.2s\n",
            "[CV] C=10.0, gamma=1.0 ...............................................\n",
            "[CV] ................................ C=10.0, gamma=1.0, total=   7.2s\n",
            "[CV] C=10.0, gamma=1.0 ...............................................\n",
            "[CV] ................................ C=10.0, gamma=1.0, total=   7.2s\n",
            "[CV] C=10.0, gamma=1.0 ...............................................\n",
            "[CV] ................................ C=10.0, gamma=1.0, total=   7.3s\n",
            "[CV] C=10.0, gamma=1.0 ...............................................\n",
            "[CV] ................................ C=10.0, gamma=1.0, total=   7.5s\n",
            "[CV] C=10.0, gamma=1.0 ...............................................\n",
            "[CV] ................................ C=10.0, gamma=1.0, total=   7.4s\n",
            "[CV] C=10.0, gamma=10.0 ..............................................\n",
            "[CV] ............................... C=10.0, gamma=10.0, total=   7.5s\n",
            "[CV] C=10.0, gamma=10.0 ..............................................\n",
            "[CV] ............................... C=10.0, gamma=10.0, total=   7.2s\n",
            "[CV] C=10.0, gamma=10.0 ..............................................\n",
            "[CV] ............................... C=10.0, gamma=10.0, total=   7.1s\n",
            "[CV] C=10.0, gamma=10.0 ..............................................\n",
            "[CV] ............................... C=10.0, gamma=10.0, total=   7.1s\n",
            "[CV] C=10.0, gamma=10.0 ..............................................\n",
            "[CV] ............................... C=10.0, gamma=10.0, total=   7.1s\n",
            "[CV] C=10.0, gamma=10.0 ..............................................\n",
            "[CV] ............................... C=10.0, gamma=10.0, total=   7.1s\n",
            "[CV] C=10.0, gamma=10.0 ..............................................\n",
            "[CV] ............................... C=10.0, gamma=10.0, total=   7.2s\n",
            "[CV] C=10.0, gamma=10.0 ..............................................\n",
            "[CV] ............................... C=10.0, gamma=10.0, total=   7.3s\n",
            "[CV] C=10.0, gamma=10.0 ..............................................\n",
            "[CV] ............................... C=10.0, gamma=10.0, total=   7.1s\n",
            "[CV] C=10.0, gamma=10.0 ..............................................\n",
            "[CV] ............................... C=10.0, gamma=10.0, total=   7.2s\n",
            "[CV] C=10.0, gamma=100.0 .............................................\n",
            "[CV] .............................. C=10.0, gamma=100.0, total=   7.2s\n",
            "[CV] C=10.0, gamma=100.0 .............................................\n",
            "[CV] .............................. C=10.0, gamma=100.0, total=   7.2s\n",
            "[CV] C=10.0, gamma=100.0 .............................................\n",
            "[CV] .............................. C=10.0, gamma=100.0, total=   7.1s\n",
            "[CV] C=10.0, gamma=100.0 .............................................\n",
            "[CV] .............................. C=10.0, gamma=100.0, total=   7.2s\n",
            "[CV] C=10.0, gamma=100.0 .............................................\n",
            "[CV] .............................. C=10.0, gamma=100.0, total=   7.0s\n",
            "[CV] C=10.0, gamma=100.0 .............................................\n",
            "[CV] .............................. C=10.0, gamma=100.0, total=   7.1s\n",
            "[CV] C=10.0, gamma=100.0 .............................................\n",
            "[CV] .............................. C=10.0, gamma=100.0, total=   7.2s\n",
            "[CV] C=10.0, gamma=100.0 .............................................\n",
            "[CV] .............................. C=10.0, gamma=100.0, total=   7.2s\n",
            "[CV] C=10.0, gamma=100.0 .............................................\n",
            "[CV] .............................. C=10.0, gamma=100.0, total=   7.1s\n",
            "[CV] C=10.0, gamma=100.0 .............................................\n",
            "[CV] .............................. C=10.0, gamma=100.0, total=   7.1s\n",
            "[CV] C=100.0, gamma=0.01 .............................................\n",
            "[CV] .............................. C=100.0, gamma=0.01, total=   7.2s\n",
            "[CV] C=100.0, gamma=0.01 .............................................\n",
            "[CV] .............................. C=100.0, gamma=0.01, total=   7.2s\n",
            "[CV] C=100.0, gamma=0.01 .............................................\n",
            "[CV] .............................. C=100.0, gamma=0.01, total=   7.1s\n",
            "[CV] C=100.0, gamma=0.01 .............................................\n",
            "[CV] .............................. C=100.0, gamma=0.01, total=   7.1s\n",
            "[CV] C=100.0, gamma=0.01 .............................................\n",
            "[CV] .............................. C=100.0, gamma=0.01, total=   7.1s\n",
            "[CV] C=100.0, gamma=0.01 .............................................\n",
            "[CV] .............................. C=100.0, gamma=0.01, total=   7.1s\n",
            "[CV] C=100.0, gamma=0.01 .............................................\n",
            "[CV] .............................. C=100.0, gamma=0.01, total=   7.1s\n",
            "[CV] C=100.0, gamma=0.01 .............................................\n",
            "[CV] .............................. C=100.0, gamma=0.01, total=   7.1s\n",
            "[CV] C=100.0, gamma=0.01 .............................................\n",
            "[CV] .............................. C=100.0, gamma=0.01, total=   7.1s\n",
            "[CV] C=100.0, gamma=0.01 .............................................\n",
            "[CV] .............................. C=100.0, gamma=0.01, total=   7.2s\n",
            "[CV] C=100.0, gamma=0.1 ..............................................\n",
            "[CV] ............................... C=100.0, gamma=0.1, total=   7.2s\n",
            "[CV] C=100.0, gamma=0.1 ..............................................\n",
            "[CV] ............................... C=100.0, gamma=0.1, total=   7.2s\n",
            "[CV] C=100.0, gamma=0.1 ..............................................\n",
            "[CV] ............................... C=100.0, gamma=0.1, total=   7.1s\n",
            "[CV] C=100.0, gamma=0.1 ..............................................\n",
            "[CV] ............................... C=100.0, gamma=0.1, total=   7.2s\n",
            "[CV] C=100.0, gamma=0.1 ..............................................\n",
            "[CV] ............................... C=100.0, gamma=0.1, total=   7.1s\n",
            "[CV] C=100.0, gamma=0.1 ..............................................\n",
            "[CV] ............................... C=100.0, gamma=0.1, total=   7.2s\n",
            "[CV] C=100.0, gamma=0.1 ..............................................\n",
            "[CV] ............................... C=100.0, gamma=0.1, total=   7.1s\n",
            "[CV] C=100.0, gamma=0.1 ..............................................\n",
            "[CV] ............................... C=100.0, gamma=0.1, total=   7.1s\n",
            "[CV] C=100.0, gamma=0.1 ..............................................\n",
            "[CV] ............................... C=100.0, gamma=0.1, total=   7.4s\n",
            "[CV] C=100.0, gamma=0.1 ..............................................\n",
            "[CV] ............................... C=100.0, gamma=0.1, total=   7.1s\n",
            "[CV] C=100.0, gamma=1.0 ..............................................\n",
            "[CV] ............................... C=100.0, gamma=1.0, total=   7.2s\n",
            "[CV] C=100.0, gamma=1.0 ..............................................\n",
            "[CV] ............................... C=100.0, gamma=1.0, total=   7.1s\n",
            "[CV] C=100.0, gamma=1.0 ..............................................\n",
            "[CV] ............................... C=100.0, gamma=1.0, total=   7.1s\n",
            "[CV] C=100.0, gamma=1.0 ..............................................\n",
            "[CV] ............................... C=100.0, gamma=1.0, total=   7.2s\n",
            "[CV] C=100.0, gamma=1.0 ..............................................\n",
            "[CV] ............................... C=100.0, gamma=1.0, total=   7.1s\n",
            "[CV] C=100.0, gamma=1.0 ..............................................\n",
            "[CV] ............................... C=100.0, gamma=1.0, total=   7.1s\n",
            "[CV] C=100.0, gamma=1.0 ..............................................\n",
            "[CV] ............................... C=100.0, gamma=1.0, total=   7.1s\n",
            "[CV] C=100.0, gamma=1.0 ..............................................\n",
            "[CV] ............................... C=100.0, gamma=1.0, total=   7.1s\n",
            "[CV] C=100.0, gamma=1.0 ..............................................\n",
            "[CV] ............................... C=100.0, gamma=1.0, total=   7.1s\n",
            "[CV] C=100.0, gamma=1.0 ..............................................\n",
            "[CV] ............................... C=100.0, gamma=1.0, total=   7.1s\n",
            "[CV] C=100.0, gamma=10.0 .............................................\n",
            "[CV] .............................. C=100.0, gamma=10.0, total=   7.1s\n",
            "[CV] C=100.0, gamma=10.0 .............................................\n",
            "[CV] .............................. C=100.0, gamma=10.0, total=   7.2s\n",
            "[CV] C=100.0, gamma=10.0 .............................................\n",
            "[CV] .............................. C=100.0, gamma=10.0, total=   7.1s\n",
            "[CV] C=100.0, gamma=10.0 .............................................\n",
            "[CV] .............................. C=100.0, gamma=10.0, total=   7.2s\n",
            "[CV] C=100.0, gamma=10.0 .............................................\n",
            "[CV] .............................. C=100.0, gamma=10.0, total=   7.1s\n",
            "[CV] C=100.0, gamma=10.0 .............................................\n",
            "[CV] .............................. C=100.0, gamma=10.0, total=   7.1s\n",
            "[CV] C=100.0, gamma=10.0 .............................................\n",
            "[CV] .............................. C=100.0, gamma=10.0, total=   7.1s\n",
            "[CV] C=100.0, gamma=10.0 .............................................\n",
            "[CV] .............................. C=100.0, gamma=10.0, total=   7.1s\n",
            "[CV] C=100.0, gamma=10.0 .............................................\n",
            "[CV] .............................. C=100.0, gamma=10.0, total=   7.1s\n",
            "[CV] C=100.0, gamma=10.0 .............................................\n",
            "[CV] .............................. C=100.0, gamma=10.0, total=   7.2s\n",
            "[CV] C=100.0, gamma=100.0 ............................................\n",
            "[CV] ............................. C=100.0, gamma=100.0, total=   7.2s\n",
            "[CV] C=100.0, gamma=100.0 ............................................\n",
            "[CV] ............................. C=100.0, gamma=100.0, total=   7.2s\n",
            "[CV] C=100.0, gamma=100.0 ............................................\n",
            "[CV] ............................. C=100.0, gamma=100.0, total=   7.1s\n",
            "[CV] C=100.0, gamma=100.0 ............................................\n",
            "[CV] ............................. C=100.0, gamma=100.0, total=   7.2s\n",
            "[CV] C=100.0, gamma=100.0 ............................................\n",
            "[CV] ............................. C=100.0, gamma=100.0, total=   7.0s\n",
            "[CV] C=100.0, gamma=100.0 ............................................\n",
            "[CV] ............................. C=100.0, gamma=100.0, total=   7.1s\n",
            "[CV] C=100.0, gamma=100.0 ............................................\n",
            "[CV] ............................. C=100.0, gamma=100.0, total=   7.1s\n",
            "[CV] C=100.0, gamma=100.0 ............................................\n",
            "[CV] ............................. C=100.0, gamma=100.0, total=   7.1s\n",
            "[CV] C=100.0, gamma=100.0 ............................................\n",
            "[CV] ............................. C=100.0, gamma=100.0, total=   7.1s\n",
            "[CV] C=100.0, gamma=100.0 ............................................\n",
            "[CV] ............................. C=100.0, gamma=100.0, total=   7.1s\n",
            "[CV] C=1000.0, gamma=0.01 ............................................\n",
            "[CV] ............................. C=1000.0, gamma=0.01, total=   7.2s\n",
            "[CV] C=1000.0, gamma=0.01 ............................................\n",
            "[CV] ............................. C=1000.0, gamma=0.01, total=   7.2s\n",
            "[CV] C=1000.0, gamma=0.01 ............................................\n",
            "[CV] ............................. C=1000.0, gamma=0.01, total=   7.1s\n",
            "[CV] C=1000.0, gamma=0.01 ............................................\n",
            "[CV] ............................. C=1000.0, gamma=0.01, total=   7.2s\n",
            "[CV] C=1000.0, gamma=0.01 ............................................\n",
            "[CV] ............................. C=1000.0, gamma=0.01, total=   7.1s\n",
            "[CV] C=1000.0, gamma=0.01 ............................................\n",
            "[CV] ............................. C=1000.0, gamma=0.01, total=   7.1s\n",
            "[CV] C=1000.0, gamma=0.01 ............................................\n",
            "[CV] ............................. C=1000.0, gamma=0.01, total=   7.1s\n",
            "[CV] C=1000.0, gamma=0.01 ............................................\n",
            "[CV] ............................. C=1000.0, gamma=0.01, total=   7.1s\n",
            "[CV] C=1000.0, gamma=0.01 ............................................\n",
            "[CV] ............................. C=1000.0, gamma=0.01, total=   7.1s\n",
            "[CV] C=1000.0, gamma=0.01 ............................................\n",
            "[CV] ............................. C=1000.0, gamma=0.01, total=   7.2s\n",
            "[CV] C=1000.0, gamma=0.1 .............................................\n",
            "[CV] .............................. C=1000.0, gamma=0.1, total=   7.2s\n",
            "[CV] C=1000.0, gamma=0.1 .............................................\n",
            "[CV] .............................. C=1000.0, gamma=0.1, total=   7.1s\n",
            "[CV] C=1000.0, gamma=0.1 .............................................\n",
            "[CV] .............................. C=1000.0, gamma=0.1, total=   7.1s\n",
            "[CV] C=1000.0, gamma=0.1 .............................................\n",
            "[CV] .............................. C=1000.0, gamma=0.1, total=   7.1s\n",
            "[CV] C=1000.0, gamma=0.1 .............................................\n",
            "[CV] .............................. C=1000.0, gamma=0.1, total=   7.1s\n",
            "[CV] C=1000.0, gamma=0.1 .............................................\n",
            "[CV] .............................. C=1000.0, gamma=0.1, total=   7.1s\n",
            "[CV] C=1000.0, gamma=0.1 .............................................\n",
            "[CV] .............................. C=1000.0, gamma=0.1, total=   7.1s\n",
            "[CV] C=1000.0, gamma=0.1 .............................................\n",
            "[CV] .............................. C=1000.0, gamma=0.1, total=   7.1s\n",
            "[CV] C=1000.0, gamma=0.1 .............................................\n",
            "[CV] .............................. C=1000.0, gamma=0.1, total=   7.1s\n",
            "[CV] C=1000.0, gamma=0.1 .............................................\n",
            "[CV] .............................. C=1000.0, gamma=0.1, total=   7.1s\n",
            "[CV] C=1000.0, gamma=1.0 .............................................\n",
            "[CV] .............................. C=1000.0, gamma=1.0, total=   7.1s\n",
            "[CV] C=1000.0, gamma=1.0 .............................................\n",
            "[CV] .............................. C=1000.0, gamma=1.0, total=   7.2s\n",
            "[CV] C=1000.0, gamma=1.0 .............................................\n",
            "[CV] .............................. C=1000.0, gamma=1.0, total=   7.1s\n",
            "[CV] C=1000.0, gamma=1.0 .............................................\n",
            "[CV] .............................. C=1000.0, gamma=1.0, total=   7.2s\n",
            "[CV] C=1000.0, gamma=1.0 .............................................\n",
            "[CV] .............................. C=1000.0, gamma=1.0, total=   7.1s\n",
            "[CV] C=1000.0, gamma=1.0 .............................................\n",
            "[CV] .............................. C=1000.0, gamma=1.0, total=   7.2s\n",
            "[CV] C=1000.0, gamma=1.0 .............................................\n",
            "[CV] .............................. C=1000.0, gamma=1.0, total=   7.1s\n",
            "[CV] C=1000.0, gamma=1.0 .............................................\n",
            "[CV] .............................. C=1000.0, gamma=1.0, total=   7.1s\n",
            "[CV] C=1000.0, gamma=1.0 .............................................\n",
            "[CV] .............................. C=1000.0, gamma=1.0, total=   7.1s\n",
            "[CV] C=1000.0, gamma=1.0 .............................................\n",
            "[CV] .............................. C=1000.0, gamma=1.0, total=   7.1s\n",
            "[CV] C=1000.0, gamma=10.0 ............................................\n",
            "[CV] ............................. C=1000.0, gamma=10.0, total=   7.2s\n",
            "[CV] C=1000.0, gamma=10.0 ............................................\n",
            "[CV] ............................. C=1000.0, gamma=10.0, total=   7.2s\n",
            "[CV] C=1000.0, gamma=10.0 ............................................\n",
            "[CV] ............................. C=1000.0, gamma=10.0, total=   7.1s\n",
            "[CV] C=1000.0, gamma=10.0 ............................................\n",
            "[CV] ............................. C=1000.0, gamma=10.0, total=   7.1s\n",
            "[CV] C=1000.0, gamma=10.0 ............................................\n",
            "[CV] ............................. C=1000.0, gamma=10.0, total=   7.1s\n",
            "[CV] C=1000.0, gamma=10.0 ............................................\n",
            "[CV] ............................. C=1000.0, gamma=10.0, total=   7.2s\n",
            "[CV] C=1000.0, gamma=10.0 ............................................\n",
            "[CV] ............................. C=1000.0, gamma=10.0, total=   7.1s\n",
            "[CV] C=1000.0, gamma=10.0 ............................................\n",
            "[CV] ............................. C=1000.0, gamma=10.0, total=   7.1s\n",
            "[CV] C=1000.0, gamma=10.0 ............................................\n",
            "[CV] ............................. C=1000.0, gamma=10.0, total=   7.1s\n",
            "[CV] C=1000.0, gamma=10.0 ............................................\n",
            "[CV] ............................. C=1000.0, gamma=10.0, total=   7.1s\n",
            "[CV] C=1000.0, gamma=100.0 ...........................................\n",
            "[CV] ............................ C=1000.0, gamma=100.0, total=   7.2s\n",
            "[CV] C=1000.0, gamma=100.0 ...........................................\n",
            "[CV] ............................ C=1000.0, gamma=100.0, total=   7.2s\n",
            "[CV] C=1000.0, gamma=100.0 ...........................................\n",
            "[CV] ............................ C=1000.0, gamma=100.0, total=   7.1s\n",
            "[CV] C=1000.0, gamma=100.0 ...........................................\n",
            "[CV] ............................ C=1000.0, gamma=100.0, total=   7.2s\n",
            "[CV] C=1000.0, gamma=100.0 ...........................................\n",
            "[CV] ............................ C=1000.0, gamma=100.0, total=   7.1s\n",
            "[CV] C=1000.0, gamma=100.0 ...........................................\n",
            "[CV] ............................ C=1000.0, gamma=100.0, total=   7.1s\n",
            "[CV] C=1000.0, gamma=100.0 ...........................................\n",
            "[CV] ............................ C=1000.0, gamma=100.0, total=   7.1s\n",
            "[CV] C=1000.0, gamma=100.0 ...........................................\n",
            "[CV] ............................ C=1000.0, gamma=100.0, total=   7.1s\n",
            "[CV] C=1000.0, gamma=100.0 ...........................................\n",
            "[CV] ............................ C=1000.0, gamma=100.0, total=   7.1s\n",
            "[CV] C=1000.0, gamma=100.0 ...........................................\n",
            "[CV] ............................ C=1000.0, gamma=100.0, total=   7.1s\n"
          ],
          "name": "stdout"
        },
        {
          "output_type": "stream",
          "text": [
            "[Parallel(n_jobs=1)]: Done 200 out of 200 | elapsed: 23.9min finished\n"
          ],
          "name": "stderr"
        },
        {
          "output_type": "execute_result",
          "data": {
            "text/plain": [
              "GridSearchCV(cv=10, error_score=nan,\n",
              "             estimator=SVR(C=1.0, cache_size=200, coef0=0.0, degree=3,\n",
              "                           epsilon=0.1, gamma=0.1, kernel='rbf', max_iter=-1,\n",
              "                           shrinking=True, tol=0.001, verbose=False),\n",
              "             iid='deprecated', n_jobs=None,\n",
              "             param_grid={'C': [1.0, 10.0, 100.0, 1000.0],\n",
              "                         'gamma': array([1.e-02, 1.e-01, 1.e+00, 1.e+01, 1.e+02])},\n",
              "             pre_dispatch='2*n_jobs', refit=True, return_train_score=False,\n",
              "             scoring=make_scorer(mean_squared_error, greater_is_better=False),\n",
              "             verbose=2)"
            ]
          },
          "metadata": {
            "tags": []
          },
          "execution_count": 33
        }
      ]
    },
    {
      "cell_type": "code",
      "metadata": {
        "id": "jdtTWbdayGn4",
        "outputId": "53763392-2495-4405-93b6-7bdac9c7e38d",
        "colab": {
          "base_uri": "https://localhost:8080/"
        }
      },
      "source": [
        "svr_best = svr.best_estimator_\n",
        "\n",
        "pca = PCA(n_components = 0.95, svd_solver = 'full')\n",
        "\n",
        "y_train_pred = []\n",
        "y_test_pred = []\n",
        "\n",
        "for train_index, test_index in tqdm(kf.split(XX), total = num_of_splits, unit = 'iteration'):\n",
        "\n",
        "  X_train_std, X_test_std = XX[train_index,:], XX[test_index,:]\n",
        "  y_train, y_test = yy.iloc[train_index], yy.iloc[test_index]\n",
        "\n",
        "  pca.fit(XX)\n",
        "  \n",
        "  X_train_pca = pca.transform(X_train_std)\n",
        "  X_test_pca = pca.transform(X_test_std)\n",
        "  \n",
        "  svr_best.fit(X_train_pca,y_train)\n",
        "  \n",
        "  y_train_pred.append(mean_squared_error(y_train,svr_best.predict(X_train_pca), squared = False))\n",
        "  y_test_pred.append(mean_squared_error(y_test,svr_best.predict(X_test_pca), squared = False))"
      ],
      "execution_count": 37,
      "outputs": [
        {
          "output_type": "stream",
          "text": [
            "\n",
            "\n",
            "\n",
            "  0%|          | 0/10 [00:00<?, ?iteration/s]\u001b[A\u001b[A\u001b[A\n",
            "\n",
            "\n",
            " 10%|█         | 1/10 [00:06<00:58,  6.49s/iteration]\u001b[A\u001b[A\u001b[A\n",
            "\n",
            "\n",
            " 20%|██        | 2/10 [00:13<00:52,  6.54s/iteration]\u001b[A\u001b[A\u001b[A\n",
            "\n",
            "\n",
            " 30%|███       | 3/10 [00:19<00:45,  6.48s/iteration]\u001b[A\u001b[A\u001b[A\n",
            "\n",
            "\n",
            " 40%|████      | 4/10 [00:25<00:37,  6.22s/iteration]\u001b[A\u001b[A\u001b[A\n",
            "\n",
            "\n",
            " 50%|█████     | 5/10 [00:31<00:31,  6.29s/iteration]\u001b[A\u001b[A\u001b[A\n",
            "\n",
            "\n",
            " 60%|██████    | 6/10 [00:37<00:24,  6.15s/iteration]\u001b[A\u001b[A\u001b[A\n",
            "\n",
            "\n",
            " 70%|███████   | 7/10 [00:43<00:18,  6.18s/iteration]\u001b[A\u001b[A\u001b[A\n",
            "\n",
            "\n",
            " 80%|████████  | 8/10 [00:49<00:12,  6.22s/iteration]\u001b[A\u001b[A\u001b[A\n",
            "\n",
            "\n",
            " 90%|█████████ | 9/10 [00:56<00:06,  6.26s/iteration]\u001b[A\u001b[A\u001b[A\n",
            "\n",
            "\n",
            "100%|██████████| 10/10 [01:02<00:00,  6.25s/iteration]\n"
          ],
          "name": "stderr"
        }
      ]
    },
    {
      "cell_type": "code",
      "metadata": {
        "id": "plhQEdG_zP5r",
        "outputId": "dd499a23-7c11-4956-f39a-9a9357103859",
        "colab": {
          "base_uri": "https://localhost:8080/"
        }
      },
      "source": [
        "np.mean(y_train_pred)"
      ],
      "execution_count": 38,
      "outputs": [
        {
          "output_type": "execute_result",
          "data": {
            "text/plain": [
              "0.09950842878512232"
            ]
          },
          "metadata": {
            "tags": []
          },
          "execution_count": 38
        }
      ]
    },
    {
      "cell_type": "code",
      "metadata": {
        "id": "YLiP8aPSzKHz",
        "outputId": "50d11add-1df9-42a7-9d82-d8bdb7af2d04",
        "colab": {
          "base_uri": "https://localhost:8080/"
        }
      },
      "source": [
        "np.mean(y_test_pred)"
      ],
      "execution_count": 39,
      "outputs": [
        {
          "output_type": "execute_result",
          "data": {
            "text/plain": [
              "8.389702365943624"
            ]
          },
          "metadata": {
            "tags": []
          },
          "execution_count": 39
        }
      ]
    }
  ]
}